{
 "cells": [
  {
   "cell_type": "markdown",
   "id": "c12e2c33",
   "metadata": {},
   "source": [
    "# Library Imports"
   ]
  },
  {
   "cell_type": "code",
   "execution_count": 1,
   "id": "249a042a",
   "metadata": {
    "ExecuteTime": {
     "end_time": "2022-08-19T08:56:06.986484Z",
     "start_time": "2022-08-19T08:56:02.529094Z"
    }
   },
   "outputs": [],
   "source": [
    "import pandas as pd\n",
    "import numpy as np\n",
    "import matplotlib.pyplot as plt\n",
    "import seaborn as sns\n",
    "from scipy.stats import ttest_ind, sem, mannwhitneyu\n",
    "from statsmodels.stats.proportion import proportions_ztest, proportion_confint, proportion_effectsize\n",
    "import statsmodels.stats.api as sms\n",
    "from math import ceil\n",
    "import datapane as dp\n",
    "import plotly.express as px\n",
    "import plotly.graph_objects as go\n",
    "from plotly.subplots import make_subplots"
   ]
  },
  {
   "cell_type": "markdown",
   "id": "032fceef",
   "metadata": {},
   "source": [
    "# Business Scenario"
   ]
  },
  {
   "cell_type": "markdown",
   "id": "1140f960",
   "metadata": {},
   "source": [
    "A mobile game company wants to test out a new feature in one of their most popular games. The new feature will be moving a checkpoint from level 30 to level 40, the game company would like to know if this change increases game play and increases player retention.\n",
    "\n",
    "the current retention rate after 1 day is approx. 45% on average and the current retention rate after 7 days is approx. 20% on average. The game change will be considered a success if there is atleast a 2% increase on retention rates for the new feature.\n",
    "If however retention rates decrease for the new feature then the game change will not be considered."
   ]
  },
  {
   "cell_type": "markdown",
   "id": "8e91688a",
   "metadata": {},
   "source": [
    "# Data Information"
   ]
  },
  {
   "cell_type": "markdown",
   "id": "4ab51094",
   "metadata": {},
   "source": [
    "The data we have is from 90,189 players that installed the game while the AB-test was running. The variables are:\n",
    "\n",
    "    * userid: A unique number that identifies each player.\n",
    "    * version: Whether the player was put in the control group (gate30 - a gate at level 30) or the group with the moved gate (gate40 - a gate at level 40).\n",
    "    * sum_gamerounds: the number of game rounds played by the player during the first 14 days after install.\n",
    "    * retention_1: Did the player come back and play 1 day after installing?\n",
    "    * retention_7: Did the player come back and play 7 days after installing?\n",
    "\n",
    "When a player installed the game, he or she was randomly assigned to either."
   ]
  },
  {
   "cell_type": "markdown",
   "id": "b7df7091",
   "metadata": {},
   "source": [
    "#  Hypothesis Formulation"
   ]
  },
  {
   "cell_type": "markdown",
   "id": "875d9d56",
   "metadata": {},
   "source": [
    "As we dont know if the new game feature will perform better or worse than the current game feature we will opt for a two tailed test:\n",
    "\n",
    "    Ho: P_gate30 = P_gate40\n",
    "    Ha: P_gate30 != P_gate40\n",
    "    \n",
    "We will set the confidence level to 95% with an alpha value of 5%, if the probability of observing results as extreme or more (p value) is less than alpha then we can reject the null hypotesis.\n",
    "\n",
    "Formerly the p value is the probability of observing the result given that the null hypothesis is true."
   ]
  },
  {
   "cell_type": "markdown",
   "id": "87206e7f",
   "metadata": {},
   "source": [
    "# Calculate Sample size (Power Analysis)"
   ]
  },
  {
   "cell_type": "markdown",
   "id": "5b3e7ee2",
   "metadata": {},
   "source": [
    "Power analysis is usually conducted before the data collection and is to determine the smallest sample size that is suitable to detect the effect of a given test at a desired significance level. But why not use all the data we can get our hands on? Because collecting large amounts of data can often be costly, this way we keep costs down whilst still being able to detect an effect if there is one.\n",
    "\n",
    "As we are simulating a business scenario with data already collected we will perform this step but as stated this is usually performed pre data collection.\n",
    "    \n",
    "In order to calculate the required sample size we need to have three bits of information; effect size, statistical power and alpha.\n",
    "    \n",
    "***effect size:*** \n",
    "The effect that you wish to be able to detect from the test if there is one, in our case the 2% increase in retention rates.\n",
    "    \n",
    "***statistical power:*** \n",
    "the probability of correctly rejecting the null hypothesis (true positive), commonly 0.8 or 80%\n",
    "    \n",
    "***alpha (significance level):***\n",
    "The boundary for specifiying a statistically siginificant finding when interpreting the p value, commonly 0.05 or 5%.\n",
    "p < alpha = reject null, accept alternative. p > alpha = fail to reject null, p == alpha = marginal\n",
    "    \n",
    "As the company has already stated they would like to detect a 2% increase in retention rates for the new game feature to be a success, this will be our effect size. We will use the common values for statistical power (80%) and alpha (5%)."
   ]
  },
  {
   "cell_type": "markdown",
   "id": "cc53bf67",
   "metadata": {},
   "source": [
    "## retention after 1 day"
   ]
  },
  {
   "cell_type": "code",
   "execution_count": 2,
   "id": "05b73cd4",
   "metadata": {
    "ExecuteTime": {
     "end_time": "2022-08-19T08:56:07.018559Z",
     "start_time": "2022-08-19T08:56:06.986484Z"
    }
   },
   "outputs": [
    {
     "name": "stdout",
     "output_type": "stream",
     "text": [
      "Required sample size: 9747\n"
     ]
    }
   ],
   "source": [
    "## calculate effect size from current expected rates\n",
    "effect_size = proportion_effectsize(0.45, 0.47) \n",
    "# calaculate sample size\n",
    "required_n = sms.NormalIndPower().solve_power(\n",
    "    effect_size, \n",
    "    power=0.8, \n",
    "    alpha=0.05,\n",
    "    ratio=1\n",
    ")\n",
    "required_n = ceil(required_n)   # round up to integer\n",
    "print(f'Required sample size: {required_n}')"
   ]
  },
  {
   "cell_type": "markdown",
   "id": "01058f1b",
   "metadata": {},
   "source": [
    "## retention after 7 days"
   ]
  },
  {
   "cell_type": "code",
   "execution_count": 3,
   "id": "57d7c7e2",
   "metadata": {
    "ExecuteTime": {
     "end_time": "2022-08-19T08:56:07.049605Z",
     "start_time": "2022-08-19T08:56:07.020527Z"
    }
   },
   "outputs": [
    {
     "name": "stdout",
     "output_type": "stream",
     "text": [
      "Required sample size: 6508\n"
     ]
    }
   ],
   "source": [
    "## calculate effect size from current expected rates\n",
    "effect_size = proportion_effectsize(0.2, 0.22) \n",
    "# calaculate sample size\n",
    "required_n = sms.NormalIndPower().solve_power(\n",
    "    effect_size, \n",
    "    power=0.8, \n",
    "    alpha=0.05, \n",
    "    ratio=1\n",
    ")\n",
    "required_n = ceil(required_n)   # round up to integer\n",
    "print(f'Required sample size: {required_n}')"
   ]
  },
  {
   "cell_type": "markdown",
   "id": "2726b67f",
   "metadata": {},
   "source": [
    "We need atleast 9747 samples of each version to detect the 2% uplift in retention rates after 1 day and 6508 samples of each version to detect the 2% uplift in retention rates after 7 days."
   ]
  },
  {
   "cell_type": "markdown",
   "id": "695fb6c0",
   "metadata": {},
   "source": [
    "# Load & Split Data"
   ]
  },
  {
   "cell_type": "markdown",
   "id": "9a26c1e6",
   "metadata": {},
   "source": [
    "Let us load the data for inspection and any neccessary cleaning."
   ]
  },
  {
   "cell_type": "code",
   "execution_count": 4,
   "id": "be2d0be5",
   "metadata": {
    "ExecuteTime": {
     "end_time": "2022-08-19T08:56:07.156331Z",
     "start_time": "2022-08-19T08:56:07.049605Z"
    }
   },
   "outputs": [],
   "source": [
    "data = pd.read_csv('cookie_cats.csv')\n",
    "# split data into a/b versions\n",
    "gate_30 = data[data['version']=='gate_30']\n",
    "gate_40 = data[data['version']=='gate_40']"
   ]
  },
  {
   "cell_type": "markdown",
   "id": "3b237d50",
   "metadata": {},
   "source": [
    "# Data Cleaning"
   ]
  },
  {
   "cell_type": "code",
   "execution_count": 5,
   "id": "2af0d042",
   "metadata": {
    "ExecuteTime": {
     "end_time": "2022-08-19T08:56:07.187987Z",
     "start_time": "2022-08-19T08:56:07.160293Z"
    }
   },
   "outputs": [
    {
     "data": {
      "text/html": [
       "<div>\n",
       "<style scoped>\n",
       "    .dataframe tbody tr th:only-of-type {\n",
       "        vertical-align: middle;\n",
       "    }\n",
       "\n",
       "    .dataframe tbody tr th {\n",
       "        vertical-align: top;\n",
       "    }\n",
       "\n",
       "    .dataframe thead th {\n",
       "        text-align: right;\n",
       "    }\n",
       "</style>\n",
       "<table border=\"1\" class=\"dataframe\">\n",
       "  <thead>\n",
       "    <tr style=\"text-align: right;\">\n",
       "      <th></th>\n",
       "      <th>userid</th>\n",
       "      <th>version</th>\n",
       "      <th>sum_gamerounds</th>\n",
       "      <th>retention_1</th>\n",
       "      <th>retention_7</th>\n",
       "    </tr>\n",
       "  </thead>\n",
       "  <tbody>\n",
       "    <tr>\n",
       "      <th>0</th>\n",
       "      <td>116</td>\n",
       "      <td>gate_30</td>\n",
       "      <td>3</td>\n",
       "      <td>False</td>\n",
       "      <td>False</td>\n",
       "    </tr>\n",
       "    <tr>\n",
       "      <th>1</th>\n",
       "      <td>337</td>\n",
       "      <td>gate_30</td>\n",
       "      <td>38</td>\n",
       "      <td>True</td>\n",
       "      <td>False</td>\n",
       "    </tr>\n",
       "    <tr>\n",
       "      <th>2</th>\n",
       "      <td>377</td>\n",
       "      <td>gate_40</td>\n",
       "      <td>165</td>\n",
       "      <td>True</td>\n",
       "      <td>False</td>\n",
       "    </tr>\n",
       "    <tr>\n",
       "      <th>3</th>\n",
       "      <td>483</td>\n",
       "      <td>gate_40</td>\n",
       "      <td>1</td>\n",
       "      <td>False</td>\n",
       "      <td>False</td>\n",
       "    </tr>\n",
       "    <tr>\n",
       "      <th>4</th>\n",
       "      <td>488</td>\n",
       "      <td>gate_40</td>\n",
       "      <td>179</td>\n",
       "      <td>True</td>\n",
       "      <td>True</td>\n",
       "    </tr>\n",
       "  </tbody>\n",
       "</table>\n",
       "</div>"
      ],
      "text/plain": [
       "   userid  version  sum_gamerounds  retention_1  retention_7\n",
       "0     116  gate_30               3        False        False\n",
       "1     337  gate_30              38         True        False\n",
       "2     377  gate_40             165         True        False\n",
       "3     483  gate_40               1        False        False\n",
       "4     488  gate_40             179         True         True"
      ]
     },
     "execution_count": 5,
     "metadata": {},
     "output_type": "execute_result"
    }
   ],
   "source": [
    "data.head()"
   ]
  },
  {
   "cell_type": "markdown",
   "id": "53ac1d72",
   "metadata": {},
   "source": [
    "As can be seen we have 5 variables; userid - the game id of the user, version - whether the user played the game with the old feature (gate_30) or the new feature (gate_40), sum_gamerounds - the number of games the user played over the 14 day period that the data were collected, retention_1 - whether the user played the game 1 day after installation, retention_7 - whether the user played the game 7 days after install"
   ]
  },
  {
   "cell_type": "code",
   "execution_count": 6,
   "id": "4bc46888",
   "metadata": {
    "ExecuteTime": {
     "end_time": "2022-08-19T08:56:07.234565Z",
     "start_time": "2022-08-19T08:56:07.189173Z"
    }
   },
   "outputs": [
    {
     "name": "stdout",
     "output_type": "stream",
     "text": [
      "<class 'pandas.core.frame.DataFrame'>\n",
      "RangeIndex: 90189 entries, 0 to 90188\n",
      "Data columns (total 5 columns):\n",
      " #   Column          Non-Null Count  Dtype \n",
      "---  ------          --------------  ----- \n",
      " 0   userid          90189 non-null  int64 \n",
      " 1   version         90189 non-null  object\n",
      " 2   sum_gamerounds  90189 non-null  int64 \n",
      " 3   retention_1     90189 non-null  bool  \n",
      " 4   retention_7     90189 non-null  bool  \n",
      "dtypes: bool(2), int64(2), object(1)\n",
      "memory usage: 2.2+ MB\n"
     ]
    }
   ],
   "source": [
    "data.info()"
   ]
  },
  {
   "cell_type": "code",
   "execution_count": 7,
   "id": "01b637cb",
   "metadata": {
    "ExecuteTime": {
     "end_time": "2022-08-19T08:56:07.282410Z",
     "start_time": "2022-08-19T08:56:07.238567Z"
    },
    "scrolled": false
   },
   "outputs": [
    {
     "name": "stdout",
     "output_type": "stream",
     "text": [
      "Gate 30 Info:\n",
      "<class 'pandas.core.frame.DataFrame'>\n",
      "Int64Index: 44700 entries, 0 to 90186\n",
      "Data columns (total 5 columns):\n",
      " #   Column          Non-Null Count  Dtype \n",
      "---  ------          --------------  ----- \n",
      " 0   userid          44700 non-null  int64 \n",
      " 1   version         44700 non-null  object\n",
      " 2   sum_gamerounds  44700 non-null  int64 \n",
      " 3   retention_1     44700 non-null  bool  \n",
      " 4   retention_7     44700 non-null  bool  \n",
      "dtypes: bool(2), int64(2), object(1)\n",
      "memory usage: 1.4+ MB\n",
      "\n",
      "Gate 40 Info:\n",
      "<class 'pandas.core.frame.DataFrame'>\n",
      "Int64Index: 45489 entries, 2 to 90188\n",
      "Data columns (total 5 columns):\n",
      " #   Column          Non-Null Count  Dtype \n",
      "---  ------          --------------  ----- \n",
      " 0   userid          45489 non-null  int64 \n",
      " 1   version         45489 non-null  object\n",
      " 2   sum_gamerounds  45489 non-null  int64 \n",
      " 3   retention_1     45489 non-null  bool  \n",
      " 4   retention_7     45489 non-null  bool  \n",
      "dtypes: bool(2), int64(2), object(1)\n",
      "memory usage: 1.5+ MB\n"
     ]
    }
   ],
   "source": [
    "# gate information\n",
    "print('Gate 30 Info:')\n",
    "gate_30.info()\n",
    "print('\\nGate 40 Info:')\n",
    "gate_40.info()"
   ]
  },
  {
   "cell_type": "markdown",
   "id": "3b7697e2",
   "metadata": {},
   "source": [
    "A quick inspection shows that the variables all have the same observation counts, are all non-null and all have the correct data types."
   ]
  },
  {
   "cell_type": "code",
   "execution_count": 8,
   "id": "2c448f5d",
   "metadata": {
    "ExecuteTime": {
     "end_time": "2022-08-19T08:56:07.312657Z",
     "start_time": "2022-08-19T08:56:07.282410Z"
    }
   },
   "outputs": [
    {
     "name": "stdout",
     "output_type": "stream",
     "text": [
      "Gate 30:\n",
      "             userid  sum_gamerounds\n",
      "count  4.470000e+04    44700.000000\n",
      "mean   4.987564e+06       52.456264\n",
      "std    2.881026e+06      256.716423\n",
      "min    1.160000e+02        0.000000\n",
      "25%    2.505469e+06        5.000000\n",
      "50%    4.983631e+06       17.000000\n",
      "75%    7.481497e+06       50.000000\n",
      "max    9.999710e+06    49854.000000\n",
      "\n",
      "Gate 40:\n",
      "             userid  sum_gamerounds\n",
      "count  4.548900e+04    45489.000000\n",
      "mean   5.009073e+06       51.298776\n",
      "std    2.885496e+06      103.294416\n",
      "min    3.770000e+02        0.000000\n",
      "25%    2.517171e+06        5.000000\n",
      "50%    5.007329e+06       16.000000\n",
      "75%    7.510762e+06       52.000000\n",
      "max    9.999861e+06     2640.000000\n",
      "\n"
     ]
    }
   ],
   "source": [
    "# data descriptions\n",
    "print(f'Gate 30:\\n{gate_30.describe()}\\n')\n",
    "print(f'Gate 40:\\n{gate_40.describe()}\\n')"
   ]
  },
  {
   "cell_type": "markdown",
   "id": "c70288af",
   "metadata": {},
   "source": [
    "from data descriptions we can see that gate 30 has an extreme number of total games played in the first 14 days of install by a single user, we will look into this. Distributions for both control and test groups seem to be right skewed which is to be expected with large max counts."
   ]
  },
  {
   "cell_type": "code",
   "execution_count": 9,
   "id": "33e3a8ca",
   "metadata": {
    "ExecuteTime": {
     "end_time": "2022-08-19T08:56:07.342384Z",
     "start_time": "2022-08-19T08:56:07.316590Z"
    },
    "scrolled": true
   },
   "outputs": [
    {
     "data": {
      "text/html": [
       "<div>\n",
       "<style scoped>\n",
       "    .dataframe tbody tr th:only-of-type {\n",
       "        vertical-align: middle;\n",
       "    }\n",
       "\n",
       "    .dataframe tbody tr th {\n",
       "        vertical-align: top;\n",
       "    }\n",
       "\n",
       "    .dataframe thead th {\n",
       "        text-align: right;\n",
       "    }\n",
       "</style>\n",
       "<table border=\"1\" class=\"dataframe\">\n",
       "  <thead>\n",
       "    <tr style=\"text-align: right;\">\n",
       "      <th></th>\n",
       "      <th>userid</th>\n",
       "      <th>version</th>\n",
       "      <th>sum_gamerounds</th>\n",
       "      <th>retention_1</th>\n",
       "      <th>retention_7</th>\n",
       "    </tr>\n",
       "  </thead>\n",
       "  <tbody>\n",
       "    <tr>\n",
       "      <th>7912</th>\n",
       "      <td>871500</td>\n",
       "      <td>gate_30</td>\n",
       "      <td>2961</td>\n",
       "      <td>True</td>\n",
       "      <td>True</td>\n",
       "    </tr>\n",
       "    <tr>\n",
       "      <th>43671</th>\n",
       "      <td>4832608</td>\n",
       "      <td>gate_30</td>\n",
       "      <td>2438</td>\n",
       "      <td>True</td>\n",
       "      <td>True</td>\n",
       "    </tr>\n",
       "    <tr>\n",
       "      <th>46344</th>\n",
       "      <td>5133952</td>\n",
       "      <td>gate_30</td>\n",
       "      <td>2251</td>\n",
       "      <td>True</td>\n",
       "      <td>True</td>\n",
       "    </tr>\n",
       "    <tr>\n",
       "      <th>57702</th>\n",
       "      <td>6390605</td>\n",
       "      <td>gate_30</td>\n",
       "      <td>49854</td>\n",
       "      <td>False</td>\n",
       "      <td>True</td>\n",
       "    </tr>\n",
       "    <tr>\n",
       "      <th>87007</th>\n",
       "      <td>9640085</td>\n",
       "      <td>gate_30</td>\n",
       "      <td>2156</td>\n",
       "      <td>True</td>\n",
       "      <td>True</td>\n",
       "    </tr>\n",
       "  </tbody>\n",
       "</table>\n",
       "</div>"
      ],
      "text/plain": [
       "        userid  version  sum_gamerounds  retention_1  retention_7\n",
       "7912    871500  gate_30            2961         True         True\n",
       "43671  4832608  gate_30            2438         True         True\n",
       "46344  5133952  gate_30            2251         True         True\n",
       "57702  6390605  gate_30           49854        False         True\n",
       "87007  9640085  gate_30            2156         True         True"
      ]
     },
     "execution_count": 9,
     "metadata": {},
     "output_type": "execute_result"
    }
   ],
   "source": [
    "gate_30[gate_30['sum_gamerounds']>2000]"
   ]
  },
  {
   "cell_type": "markdown",
   "id": "f24d49be",
   "metadata": {},
   "source": [
    "as there is only one extreme value in the data and we dont know how the data were collected, we are unable to assume if it is likely to be an error or just an addicted player. As we have highly skewed data we can perform non parametric tests which have no assumptions on the underlying distribution of the data."
   ]
  },
  {
   "cell_type": "code",
   "execution_count": 10,
   "id": "0abe7e2a",
   "metadata": {
    "ExecuteTime": {
     "end_time": "2022-08-19T08:56:07.391004Z",
     "start_time": "2022-08-19T08:56:07.345579Z"
    }
   },
   "outputs": [
    {
     "name": "stdout",
     "output_type": "stream",
     "text": [
      "number of duplicated observations: 0\n"
     ]
    }
   ],
   "source": [
    "# check for duplicates\n",
    "dups = data.duplicated().sum()\n",
    "print(f'number of duplicated observations: {dups}')"
   ]
  },
  {
   "cell_type": "code",
   "execution_count": 11,
   "id": "149d2049",
   "metadata": {
    "ExecuteTime": {
     "end_time": "2022-08-19T08:56:07.406758Z",
     "start_time": "2022-08-19T08:56:07.391004Z"
    }
   },
   "outputs": [
    {
     "name": "stdout",
     "output_type": "stream",
     "text": [
      "number of duplicated users: 0\n"
     ]
    }
   ],
   "source": [
    "# check for userid duplicates\n",
    "user_dups = data['userid'].duplicated().sum()\n",
    "print(f'number of duplicated users: {user_dups}')"
   ]
  },
  {
   "cell_type": "markdown",
   "id": "2630c27e",
   "metadata": {},
   "source": [
    "Now that the data is prepared we can sample the required amount\n",
    "\n",
    "    *** NOTE... GENERALLY WE WOULD NOT NEED TO DO THIS AS THE REQUIRED SAMPLE SIZE WOULD BE COLLECTED\n",
    "        PRIOR TO PERFORMING ANALYSES. \n",
    "        AS WE ARE SIMULATING A BUSINESS SCENARIO WITH ALREADY COLLECTED DATA WE WILL PERFORM THIS STEP."
   ]
  },
  {
   "cell_type": "markdown",
   "id": "39537b1d",
   "metadata": {},
   "source": [
    "# Sample Data"
   ]
  },
  {
   "cell_type": "code",
   "execution_count": 12,
   "id": "ebfcd332",
   "metadata": {
    "ExecuteTime": {
     "end_time": "2022-08-19T08:56:07.454071Z",
     "start_time": "2022-08-19T08:56:07.409791Z"
    }
   },
   "outputs": [
    {
     "data": {
      "text/html": [
       "<div>\n",
       "<style scoped>\n",
       "    .dataframe tbody tr th:only-of-type {\n",
       "        vertical-align: middle;\n",
       "    }\n",
       "\n",
       "    .dataframe tbody tr th {\n",
       "        vertical-align: top;\n",
       "    }\n",
       "\n",
       "    .dataframe thead th {\n",
       "        text-align: right;\n",
       "    }\n",
       "</style>\n",
       "<table border=\"1\" class=\"dataframe\">\n",
       "  <thead>\n",
       "    <tr style=\"text-align: right;\">\n",
       "      <th></th>\n",
       "      <th>userid</th>\n",
       "      <th>version</th>\n",
       "      <th>sum_gamerounds</th>\n",
       "      <th>retention_1</th>\n",
       "      <th>retention_7</th>\n",
       "    </tr>\n",
       "  </thead>\n",
       "  <tbody>\n",
       "    <tr>\n",
       "      <th>0</th>\n",
       "      <td>6531033</td>\n",
       "      <td>gate_30</td>\n",
       "      <td>35</td>\n",
       "      <td>False</td>\n",
       "      <td>False</td>\n",
       "    </tr>\n",
       "    <tr>\n",
       "      <th>1</th>\n",
       "      <td>8003009</td>\n",
       "      <td>gate_30</td>\n",
       "      <td>4</td>\n",
       "      <td>False</td>\n",
       "      <td>False</td>\n",
       "    </tr>\n",
       "    <tr>\n",
       "      <th>2</th>\n",
       "      <td>5566807</td>\n",
       "      <td>gate_30</td>\n",
       "      <td>23</td>\n",
       "      <td>True</td>\n",
       "      <td>False</td>\n",
       "    </tr>\n",
       "    <tr>\n",
       "      <th>3</th>\n",
       "      <td>64235</td>\n",
       "      <td>gate_30</td>\n",
       "      <td>1</td>\n",
       "      <td>False</td>\n",
       "      <td>False</td>\n",
       "    </tr>\n",
       "    <tr>\n",
       "      <th>4</th>\n",
       "      <td>6210551</td>\n",
       "      <td>gate_30</td>\n",
       "      <td>7</td>\n",
       "      <td>False</td>\n",
       "      <td>False</td>\n",
       "    </tr>\n",
       "    <tr>\n",
       "      <th>...</th>\n",
       "      <td>...</td>\n",
       "      <td>...</td>\n",
       "      <td>...</td>\n",
       "      <td>...</td>\n",
       "      <td>...</td>\n",
       "    </tr>\n",
       "    <tr>\n",
       "      <th>19489</th>\n",
       "      <td>2884820</td>\n",
       "      <td>gate_40</td>\n",
       "      <td>20</td>\n",
       "      <td>True</td>\n",
       "      <td>False</td>\n",
       "    </tr>\n",
       "    <tr>\n",
       "      <th>19490</th>\n",
       "      <td>9669376</td>\n",
       "      <td>gate_40</td>\n",
       "      <td>23</td>\n",
       "      <td>False</td>\n",
       "      <td>False</td>\n",
       "    </tr>\n",
       "    <tr>\n",
       "      <th>19491</th>\n",
       "      <td>8458512</td>\n",
       "      <td>gate_40</td>\n",
       "      <td>198</td>\n",
       "      <td>True</td>\n",
       "      <td>True</td>\n",
       "    </tr>\n",
       "    <tr>\n",
       "      <th>19492</th>\n",
       "      <td>8594704</td>\n",
       "      <td>gate_40</td>\n",
       "      <td>10</td>\n",
       "      <td>False</td>\n",
       "      <td>False</td>\n",
       "    </tr>\n",
       "    <tr>\n",
       "      <th>19493</th>\n",
       "      <td>1622160</td>\n",
       "      <td>gate_40</td>\n",
       "      <td>6</td>\n",
       "      <td>False</td>\n",
       "      <td>False</td>\n",
       "    </tr>\n",
       "  </tbody>\n",
       "</table>\n",
       "<p>19494 rows × 5 columns</p>\n",
       "</div>"
      ],
      "text/plain": [
       "        userid  version  sum_gamerounds  retention_1  retention_7\n",
       "0      6531033  gate_30              35        False        False\n",
       "1      8003009  gate_30               4        False        False\n",
       "2      5566807  gate_30              23         True        False\n",
       "3        64235  gate_30               1        False        False\n",
       "4      6210551  gate_30               7        False        False\n",
       "...        ...      ...             ...          ...          ...\n",
       "19489  2884820  gate_40              20         True        False\n",
       "19490  9669376  gate_40              23        False        False\n",
       "19491  8458512  gate_40             198         True         True\n",
       "19492  8594704  gate_40              10        False        False\n",
       "19493  1622160  gate_40               6        False        False\n",
       "\n",
       "[19494 rows x 5 columns]"
      ]
     },
     "execution_count": 12,
     "metadata": {},
     "output_type": "execute_result"
    }
   ],
   "source": [
    "# sample the required size data\n",
    "control_sample = gate_30.sample(n=9747, random_state=42)\n",
    "treatment_sample = gate_40.sample(n=9747, random_state=42)\n",
    "ab_test = pd.concat([control_sample, treatment_sample], axis=0).reset_index(drop=True)\n",
    "ab_test"
   ]
  },
  {
   "cell_type": "code",
   "execution_count": 13,
   "id": "dfa68256",
   "metadata": {
    "ExecuteTime": {
     "end_time": "2022-08-19T08:56:07.470065Z",
     "start_time": "2022-08-19T08:56:07.456124Z"
    }
   },
   "outputs": [
    {
     "data": {
      "text/plain": [
       "gate_30    9747\n",
       "gate_40    9747\n",
       "Name: version, dtype: int64"
      ]
     },
     "execution_count": 13,
     "metadata": {},
     "output_type": "execute_result"
    }
   ],
   "source": [
    "# check we have sampled the required size\n",
    "ab_test['version'].value_counts()"
   ]
  },
  {
   "cell_type": "markdown",
   "id": "03fd8ff9",
   "metadata": {},
   "source": [
    "Now that we have the required sample sizes we can now perform data analysis."
   ]
  },
  {
   "cell_type": "markdown",
   "id": "f12b6b26",
   "metadata": {},
   "source": [
    "# Data Analysis"
   ]
  },
  {
   "cell_type": "markdown",
   "id": "97fdb2fa",
   "metadata": {},
   "source": [
    "First lets take a look at sum_gamerounds."
   ]
  },
  {
   "cell_type": "markdown",
   "id": "8d20eb32",
   "metadata": {},
   "source": [
    "## Sum Game Rounds"
   ]
  },
  {
   "cell_type": "code",
   "execution_count": 14,
   "id": "826fd4d9",
   "metadata": {
    "ExecuteTime": {
     "end_time": "2022-08-19T08:56:07.486087Z",
     "start_time": "2022-08-19T08:56:07.472042Z"
    }
   },
   "outputs": [
    {
     "data": {
      "text/plain": [
       "count    19494.000000\n",
       "mean        51.699959\n",
       "std         99.712055\n",
       "min          0.000000\n",
       "25%          5.000000\n",
       "50%         16.000000\n",
       "75%         52.000000\n",
       "max       1816.000000\n",
       "Name: sum_gamerounds, dtype: float64"
      ]
     },
     "execution_count": 14,
     "metadata": {},
     "output_type": "execute_result"
    }
   ],
   "source": [
    "ab_test['sum_gamerounds'].describe()"
   ]
  },
  {
   "cell_type": "markdown",
   "id": "45b21023",
   "metadata": {},
   "source": [
    "A quick description shows the data to be right skewed with the mean value higher than the median value"
   ]
  },
  {
   "cell_type": "markdown",
   "id": "0d705949",
   "metadata": {},
   "source": [
    "Lets take a look at total number of game rounds played per version"
   ]
  },
  {
   "cell_type": "code",
   "execution_count": 15,
   "id": "f950465c",
   "metadata": {
    "ExecuteTime": {
     "end_time": "2022-08-19T08:56:07.518073Z",
     "start_time": "2022-08-19T08:56:07.489045Z"
    }
   },
   "outputs": [
    {
     "data": {
      "text/plain": [
       "version\n",
       "gate_30    495165\n",
       "gate_40    512674\n",
       "Name: sum_gamerounds, dtype: int64"
      ]
     },
     "execution_count": 15,
     "metadata": {},
     "output_type": "execute_result"
    }
   ],
   "source": [
    "# total number of games played per version\n",
    "tot_num_games = ab_test.groupby('version').sum()['sum_gamerounds']\n",
    "tot_num_games"
   ]
  },
  {
   "cell_type": "code",
   "execution_count": 16,
   "id": "faf62c14",
   "metadata": {
    "ExecuteTime": {
     "end_time": "2022-08-19T08:56:07.534046Z",
     "start_time": "2022-08-19T08:56:07.521074Z"
    }
   },
   "outputs": [
    {
     "name": "stdout",
     "output_type": "stream",
     "text": [
      "gate 40 has seen a 17509 increase in game rounds played\n"
     ]
    }
   ],
   "source": [
    "# gate 40 difference in games played\n",
    "games_diff = tot_num_games['gate_40'] - tot_num_games['gate_30']\n",
    "print(f'gate 40 has seen a {games_diff} increase in game rounds played')"
   ]
  },
  {
   "cell_type": "code",
   "execution_count": 17,
   "id": "3265ad14",
   "metadata": {
    "ExecuteTime": {
     "end_time": "2022-08-19T08:56:07.549041Z",
     "start_time": "2022-08-19T08:56:07.538080Z"
    }
   },
   "outputs": [
    {
     "name": "stdout",
     "output_type": "stream",
     "text": [
      "gate 40 percentage increase for total games played: 3.54%\n"
     ]
    }
   ],
   "source": [
    "# percentage increase in game rounds for gate 40\n",
    "pct_inc = np.round((tot_num_games['gate_40']-tot_num_games['gate_30'])/tot_num_games['gate_30']*100,2)\n",
    "print(f'gate 40 percentage increase for total games played: {pct_inc}%')"
   ]
  },
  {
   "cell_type": "markdown",
   "id": "8e12485e",
   "metadata": {},
   "source": [
    "As we can see the new feature version (gate 40) has seen an increase in number of game rounds played of 17509, thats a percentage increse of 3.54%"
   ]
  },
  {
   "cell_type": "code",
   "execution_count": 18,
   "id": "bbf7d9f3",
   "metadata": {
    "ExecuteTime": {
     "end_time": "2022-08-19T08:56:07.596070Z",
     "start_time": "2022-08-19T08:56:07.552056Z"
    }
   },
   "outputs": [
    {
     "name": "stdout",
     "output_type": "stream",
     "text": [
      "Versions Gate 30 & Gate 40:\n",
      "   Version  Full Retention  Retention 1  Retention 7  No Retention\n",
      "0  Gate 30          265906       143986        28469         56804\n",
      "1  Gate 40          272489       151447        27612         61126\n",
      "\n",
      "Combined Version:\n",
      "    Version  Full Retention  Retention 1  Retention 7  No Retention\n",
      "0  Combined          538395       295433        56081        117930\n"
     ]
    }
   ],
   "source": [
    "# game counts for version and retention type\n",
    "v_g30 = ab_test[ab_test['version']=='gate_30']\n",
    "v_g40 = ab_test[ab_test['version']=='gate_40']\n",
    "\n",
    "## combined versions\n",
    "# retained for full test period\n",
    "full_ret = ab_test.loc[(ab_test['retention_1']==True)&(ab_test['retention_7']==True)]['sum_gamerounds'].sum()\n",
    "# retained after 1 day but not 7\n",
    "ret1_only = ab_test.loc[(ab_test['retention_1']==True)&(ab_test['retention_7']==False)]['sum_gamerounds'].sum()\n",
    "# retained after 7 days but not 1\n",
    "ret7_only = ab_test.loc[(ab_test['retention_1']==False)&(ab_test['retention_7']==True)]['sum_gamerounds'].sum()\n",
    "# no retention from 1 day onwards\n",
    "no_ret = ab_test.loc[(ab_test['retention_1']==False)&(ab_test['retention_7']==False)]['sum_gamerounds'].sum()\n",
    "\n",
    "##version gate_30\n",
    "# retained for full test period\n",
    "vg30_full_ret = v_g30.loc[(v_g30['retention_1']==True)&(v_g30['retention_7']==True)]['sum_gamerounds'].sum()\n",
    "# retained after 1 day but not 7\n",
    "vg30_ret1_only = v_g30.loc[(v_g30['retention_1']==True)&(v_g30['retention_7']==False)]['sum_gamerounds'].sum()\n",
    "# retained after 7 days but not 1\n",
    "vg30_ret7_only = v_g30.loc[(v_g30['retention_1']==False)&(v_g30['retention_7']==True)]['sum_gamerounds'].sum()\n",
    "# no retention from 1 day onwards\n",
    "vg30_no_ret = v_g30.loc[(v_g30['retention_1']==False)&(v_g30['retention_7']==False)]['sum_gamerounds'].sum()\n",
    "\n",
    "##version gate_40\n",
    "# retained for full test period\n",
    "vg40_full_ret = v_g40.loc[(v_g40['retention_1']==True)&(v_g40['retention_7']==True)]['sum_gamerounds'].sum()\n",
    "# retained after 1 day but not 7\n",
    "vg40_ret1_only = v_g40.loc[(v_g40['retention_1']==True)&(v_g40['retention_7']==False)]['sum_gamerounds'].sum()\n",
    "# retained after 7 days but not 1\n",
    "vg40_ret7_only = v_g40.loc[(v_g40['retention_1']==False)&(v_g40['retention_7']==True)]['sum_gamerounds'].sum()\n",
    "# no retention from 1 day onwards\n",
    "vg40_no_ret = v_g40.loc[(v_g40['retention_1']==False)&(v_g40['retention_7']==False)]['sum_gamerounds'].sum()\n",
    "\n",
    "# create dataframe\n",
    "games_plyd_df = pd.DataFrame(\n",
    "    {\n",
    "        'Version':[\n",
    "            'Gate 30',\n",
    "            'Gate 40'\n",
    "        ],\n",
    "        'Full Retention':[\n",
    "        vg30_full_ret,\n",
    "        vg40_full_ret\n",
    "        ],\n",
    "        'Retention 1':[\n",
    "            vg30_ret1_only,\n",
    "            vg40_ret1_only \n",
    "        ],\n",
    "        'Retention 7':[\n",
    "            vg30_ret7_only,\n",
    "            vg40_ret7_only\n",
    "        ],\n",
    "        'No Retention':[\n",
    "            vg30_no_ret,\n",
    "            vg40_no_ret\n",
    "        ]\n",
    "    }\n",
    ")\n",
    "\n",
    "comb_games_plyd_df = pd.DataFrame(\n",
    "    {\n",
    "        'Version': 'Combined',\n",
    "        'Full Retention': full_ret,\n",
    "        'Retention 1': ret1_only,\n",
    "        'Retention 7': ret7_only,\n",
    "        'No Retention': no_ret\n",
    "    },\n",
    "    index=range(0,1)\n",
    ")\n",
    "print(f'Versions Gate 30 & Gate 40:\\n{games_plyd_df}\\n\\nCombined Version:\\n{comb_games_plyd_df}')"
   ]
  },
  {
   "cell_type": "code",
   "execution_count": 19,
   "id": "0503002a",
   "metadata": {
    "ExecuteTime": {
     "end_time": "2022-08-19T08:56:07.628049Z",
     "start_time": "2022-08-19T08:56:07.599047Z"
    }
   },
   "outputs": [
    {
     "data": {
      "text/plain": [
       "Version  Retention_type\n",
       "Gate 30  Full Retention    53.7\n",
       "         Retention 1       29.1\n",
       "         Retention 7        5.7\n",
       "         No Retention      11.5\n",
       "Gate 40  Full Retention    53.2\n",
       "         Retention 1       29.5\n",
       "         Retention 7        5.4\n",
       "         No Retention      11.9\n",
       "Name: games_played, dtype: float64"
      ]
     },
     "execution_count": 19,
     "metadata": {},
     "output_type": "execute_result"
    }
   ],
   "source": [
    "idx_array = [['Gate 30','Gate 40'],\n",
    "             ['Full Retention','Retention 1','Retention 7','No Retention']]\n",
    "index = pd.MultiIndex.from_product(idx_array, names=['Version', 'Retention_type'])\n",
    "games_plyd_mi = pd.Series([vg30_full_ret,vg30_ret1_only,vg30_ret7_only,vg30_no_ret,vg40_full_ret,vg40_ret1_only,vg40_ret7_only,vg40_no_ret], index=index, name='games_played')\n",
    "games_plyd_pct = np.round(games_plyd_mi / games_plyd_mi.groupby('Version').transform('sum')*100,1)\n",
    "games_plyd_pct"
   ]
  },
  {
   "cell_type": "markdown",
   "id": "1c2d2d1c",
   "metadata": {},
   "source": [
    "Breaking down the number of games played for retention status we can see that the majority of games played were by users who were retained for both 1 day a 7 day retention flags."
   ]
  },
  {
   "cell_type": "code",
   "execution_count": 20,
   "id": "378b5ff7",
   "metadata": {
    "ExecuteTime": {
     "end_time": "2022-08-19T08:56:07.660082Z",
     "start_time": "2022-08-19T08:56:07.632043Z"
    }
   },
   "outputs": [
    {
     "data": {
      "text/html": [
       "<div>\n",
       "<style scoped>\n",
       "    .dataframe tbody tr th:only-of-type {\n",
       "        vertical-align: middle;\n",
       "    }\n",
       "\n",
       "    .dataframe tbody tr th {\n",
       "        vertical-align: top;\n",
       "    }\n",
       "\n",
       "    .dataframe thead th {\n",
       "        text-align: right;\n",
       "    }\n",
       "</style>\n",
       "<table border=\"1\" class=\"dataframe\">\n",
       "  <thead>\n",
       "    <tr style=\"text-align: right;\">\n",
       "      <th></th>\n",
       "      <th>Average_game_play</th>\n",
       "      <th>Median_game_play</th>\n",
       "      <th>std_deviation</th>\n",
       "      <th>std_error</th>\n",
       "      <th>variance</th>\n",
       "    </tr>\n",
       "    <tr>\n",
       "      <th>version</th>\n",
       "      <th></th>\n",
       "      <th></th>\n",
       "      <th></th>\n",
       "      <th></th>\n",
       "      <th></th>\n",
       "    </tr>\n",
       "  </thead>\n",
       "  <tbody>\n",
       "    <tr>\n",
       "      <th>gate_30</th>\n",
       "      <td>50.801785</td>\n",
       "      <td>16.0</td>\n",
       "      <td>98.887957</td>\n",
       "      <td>1.001631</td>\n",
       "      <td>9779.831423</td>\n",
       "    </tr>\n",
       "    <tr>\n",
       "      <th>gate_40</th>\n",
       "      <td>52.598133</td>\n",
       "      <td>17.0</td>\n",
       "      <td>100.516298</td>\n",
       "      <td>1.018125</td>\n",
       "      <td>10104.562783</td>\n",
       "    </tr>\n",
       "  </tbody>\n",
       "</table>\n",
       "</div>"
      ],
      "text/plain": [
       "         Average_game_play  Median_game_play  std_deviation  std_error  \\\n",
       "version                                                                  \n",
       "gate_30          50.801785              16.0      98.887957   1.001631   \n",
       "gate_40          52.598133              17.0     100.516298   1.018125   \n",
       "\n",
       "             variance  \n",
       "version                \n",
       "gate_30   9779.831423  \n",
       "gate_40  10104.562783  "
      ]
     },
     "execution_count": 20,
     "metadata": {},
     "output_type": "execute_result"
    }
   ],
   "source": [
    "avg_game_play = ab_test.groupby('version')['sum_gamerounds']\n",
    "std_p = lambda x: np.std(x, ddof=0)              # Std. deviation of the mean\n",
    "se_p = lambda x: sem(x, ddof=0)            # Std. error of the mean (std / sqrt(n))\n",
    "avg_game_play = avg_game_play.agg([np.mean, np.median, std_p, se_p, np.var])\n",
    "avg_game_play.columns = ['Average_game_play', 'Median_game_play', 'std_deviation', 'std_error', 'variance']\n",
    "avg_game_play"
   ]
  },
  {
   "cell_type": "markdown",
   "id": "84f834ad",
   "metadata": {},
   "source": [
    "We can see that the average number of games played is slightly higher for the gate40 version whilst also being more spread about the mean."
   ]
  },
  {
   "cell_type": "code",
   "execution_count": 21,
   "id": "04ddb5f8",
   "metadata": {
    "ExecuteTime": {
     "end_time": "2022-08-19T08:56:08.096423Z",
     "start_time": "2022-08-19T08:56:07.662108Z"
    }
   },
   "outputs": [
    {
     "data": {
      "image/png": "[encoded data removed]",
      "text/plain": [
       "<Figure size 1008x432 with 2 Axes>"
      ]
     },
     "metadata": {
      "needs_background": "light"
     },
     "output_type": "display_data"
    }
   ],
   "source": [
    "# total game rounds distribution per version\n",
    "tot_game_rounds_dist, (ax1, ax2) = plt.subplots(1,2, figsize=(14,6))\n",
    "g30 = ab_test[ab_test['version']=='gate_30']\n",
    "g40 = ab_test[ab_test['version']=='gate_40']\n",
    "sns.histplot(data=g30, x=np.log(g30['sum_gamerounds']+1), ax=ax1)\n",
    "ax1.set_title('total Game Rounds Distribution for Gate 30')\n",
    "ax1.set_xlabel('Log Game Rounds')\n",
    "ax1.set_ylabel('Count')\n",
    "\n",
    "sns.histplot(data=g40, x=np.log(g40['sum_gamerounds']+1), ax=ax2)\n",
    "ax2.set_title('total Game Rounds Distribution for Gate 40')\n",
    "ax2.set_xlabel('Log Game Rounds')\n",
    "ax2.set_ylabel('Count')\n",
    "\n",
    "plt.show()"
   ]
  },
  {
   "cell_type": "markdown",
   "id": "56ebe842",
   "metadata": {},
   "source": [
    "The distribution of sum_gamerounds for each version does not appear to be normally distributed, as this is an assumption for parametric tests will have to perform a non-parametric test (mann-whitney u test or bootstrap permutation test)."
   ]
  },
  {
   "cell_type": "markdown",
   "id": "78d1fade",
   "metadata": {},
   "source": [
    "## Retention 1"
   ]
  },
  {
   "cell_type": "markdown",
   "id": "cb7be98c",
   "metadata": {},
   "source": [
    "Lets check the number of players we did retain after 1 day of installation for each version."
   ]
  },
  {
   "cell_type": "code",
   "execution_count": 22,
   "id": "db2843c2",
   "metadata": {
    "ExecuteTime": {
     "end_time": "2022-08-19T08:56:08.112037Z",
     "start_time": "2022-08-19T08:56:08.096423Z"
    },
    "scrolled": true
   },
   "outputs": [
    {
     "data": {
      "text/plain": [
       "version\n",
       "gate_30    4350\n",
       "gate_40    4373\n",
       "Name: retention_1, dtype: int64"
      ]
     },
     "execution_count": 22,
     "metadata": {},
     "output_type": "execute_result"
    }
   ],
   "source": [
    "# count user retention\n",
    "ret_num_1 = ab_test.groupby('version').sum()['retention_1']\n",
    "ret_num_1"
   ]
  },
  {
   "cell_type": "code",
   "execution_count": 23,
   "id": "bea863f0",
   "metadata": {
    "ExecuteTime": {
     "end_time": "2022-08-19T08:56:08.127640Z",
     "start_time": "2022-08-19T08:56:08.114051Z"
    }
   },
   "outputs": [
    {
     "name": "stdout",
     "output_type": "stream",
     "text": [
      "gate 40 showed an increase in retention of 23 users\n"
     ]
    }
   ],
   "source": [
    "# user retention version difference\n",
    "ret_diff = ret_num_1['gate_40']-ret_num_1['gate_30']\n",
    "print(f'gate 40 showed an increase in retention of {ret_diff} users')"
   ]
  },
  {
   "cell_type": "code",
   "execution_count": 24,
   "id": "b286806c",
   "metadata": {
    "ExecuteTime": {
     "end_time": "2022-08-19T08:56:08.143765Z",
     "start_time": "2022-08-19T08:56:08.130686Z"
    }
   },
   "outputs": [
    {
     "name": "stdout",
     "output_type": "stream",
     "text": [
      "gate 40 showed a percentage increase of 0.53% for user retention after 1 day\n"
     ]
    }
   ],
   "source": [
    "# percentage increase for gate 40 retention\n",
    "pct_diff_inc = np.round((ret_num_1['gate_40']-ret_num_1['gate_30'])/ret_num_1['gate_30']*100, 2)\n",
    "print(f'gate 40 showed a percentage increase of {pct_diff_inc}% for user retention after 1 day')"
   ]
  },
  {
   "cell_type": "markdown",
   "id": "402c0e83",
   "metadata": {},
   "source": [
    "From the analysis above we can see that the new feature (gate 40) showed an increase of 23 users retained after 1 day of installation, this amounts to a 0.53 percentage increase."
   ]
  },
  {
   "cell_type": "markdown",
   "id": "e69eb9ab",
   "metadata": {},
   "source": [
    "Lets now take a look at retention rates after 1 day."
   ]
  },
  {
   "cell_type": "code",
   "execution_count": 25,
   "id": "bc46ab67",
   "metadata": {
    "ExecuteTime": {
     "end_time": "2022-08-19T08:56:08.175376Z",
     "start_time": "2022-08-19T08:56:08.147186Z"
    }
   },
   "outputs": [
    {
     "data": {
      "text/html": [
       "<div>\n",
       "<style scoped>\n",
       "    .dataframe tbody tr th:only-of-type {\n",
       "        vertical-align: middle;\n",
       "    }\n",
       "\n",
       "    .dataframe tbody tr th {\n",
       "        vertical-align: top;\n",
       "    }\n",
       "\n",
       "    .dataframe thead th {\n",
       "        text-align: right;\n",
       "    }\n",
       "</style>\n",
       "<table border=\"1\" class=\"dataframe\">\n",
       "  <thead>\n",
       "    <tr style=\"text-align: right;\">\n",
       "      <th></th>\n",
       "      <th>retention_rate</th>\n",
       "      <th>std_deviation</th>\n",
       "      <th>std_error</th>\n",
       "    </tr>\n",
       "    <tr>\n",
       "      <th>version</th>\n",
       "      <th></th>\n",
       "      <th></th>\n",
       "      <th></th>\n",
       "    </tr>\n",
       "  </thead>\n",
       "  <tbody>\n",
       "    <tr>\n",
       "      <th>gate_30</th>\n",
       "      <td>44.629117</td>\n",
       "      <td>49.710699</td>\n",
       "      <td>0.503517</td>\n",
       "    </tr>\n",
       "    <tr>\n",
       "      <th>gate_40</th>\n",
       "      <td>44.865087</td>\n",
       "      <td>49.735628</td>\n",
       "      <td>0.503770</td>\n",
       "    </tr>\n",
       "  </tbody>\n",
       "</table>\n",
       "</div>"
      ],
      "text/plain": [
       "         retention_rate  std_deviation  std_error\n",
       "version                                          \n",
       "gate_30       44.629117      49.710699   0.503517\n",
       "gate_40       44.865087      49.735628   0.503770"
      ]
     },
     "execution_count": 25,
     "metadata": {},
     "output_type": "execute_result"
    }
   ],
   "source": [
    "# retention rates retention_1 analysis\n",
    "retention_1_rates = ab_test.groupby('version')['retention_1']\n",
    "\n",
    "std_p = lambda x: np.std(x, ddof=0)              # Std. deviation of the proportion\n",
    "se_p = lambda x: sem(x, ddof=0)            # Std. error of the proportion (std / sqrt(n))\n",
    "\n",
    "retention_1_rates = retention_1_rates.agg([np.mean, std_p, se_p])\n",
    "retention_1_rates.columns = ['retention_rate', 'std_deviation', 'std_error']\n",
    "retention_1_rates = retention_1_rates*100\n",
    "retention_1_rates"
   ]
  },
  {
   "cell_type": "markdown",
   "id": "8e453509",
   "metadata": {},
   "source": [
    "We can see that the difference in retention rate proportions is minimal as is for standard deviation and standard error, with gate 40 having a slight increase over gate 30. From here it seems that there is no difference between retention rates after 1 day for each version but by performing a hypothesis test we will determine if the difference is statistically significant or not."
   ]
  },
  {
   "cell_type": "code",
   "execution_count": 26,
   "id": "15e80f8f",
   "metadata": {
    "ExecuteTime": {
     "end_time": "2022-08-19T08:56:08.206706Z",
     "start_time": "2022-08-19T08:56:08.175376Z"
    }
   },
   "outputs": [
    {
     "data": {
      "text/html": [
       "<div>\n",
       "<style scoped>\n",
       "    .dataframe tbody tr th:only-of-type {\n",
       "        vertical-align: middle;\n",
       "    }\n",
       "\n",
       "    .dataframe tbody tr th {\n",
       "        vertical-align: top;\n",
       "    }\n",
       "\n",
       "    .dataframe thead th {\n",
       "        text-align: right;\n",
       "    }\n",
       "</style>\n",
       "<table border=\"1\" class=\"dataframe\">\n",
       "  <thead>\n",
       "    <tr style=\"text-align: right;\">\n",
       "      <th></th>\n",
       "      <th></th>\n",
       "      <th>sum_gamerounds</th>\n",
       "    </tr>\n",
       "    <tr>\n",
       "      <th>version</th>\n",
       "      <th>retention_1</th>\n",
       "      <th></th>\n",
       "    </tr>\n",
       "  </thead>\n",
       "  <tbody>\n",
       "    <tr>\n",
       "      <th rowspan=\"2\" valign=\"top\">gate_30</th>\n",
       "      <th>False</th>\n",
       "      <td>85273</td>\n",
       "    </tr>\n",
       "    <tr>\n",
       "      <th>True</th>\n",
       "      <td>409892</td>\n",
       "    </tr>\n",
       "    <tr>\n",
       "      <th rowspan=\"2\" valign=\"top\">gate_40</th>\n",
       "      <th>False</th>\n",
       "      <td>88738</td>\n",
       "    </tr>\n",
       "    <tr>\n",
       "      <th>True</th>\n",
       "      <td>423936</td>\n",
       "    </tr>\n",
       "  </tbody>\n",
       "</table>\n",
       "</div>"
      ],
      "text/plain": [
       "                     sum_gamerounds\n",
       "version retention_1                \n",
       "gate_30 False                 85273\n",
       "        True                 409892\n",
       "gate_40 False                 88738\n",
       "        True                 423936"
      ]
     },
     "execution_count": 26,
     "metadata": {},
     "output_type": "execute_result"
    }
   ],
   "source": [
    "# total games played retention 1\n",
    "total_games = ab_test.groupby(['version','retention_1']).agg({'sum_gamerounds':'sum'})\n",
    "total_games"
   ]
  },
  {
   "cell_type": "code",
   "execution_count": 27,
   "id": "a166f9ec",
   "metadata": {
    "ExecuteTime": {
     "end_time": "2022-08-19T08:56:08.222165Z",
     "start_time": "2022-08-19T08:56:08.206706Z"
    }
   },
   "outputs": [
    {
     "name": "stdout",
     "output_type": "stream",
     "text": [
      "gate 40 percentage of total games played increase for returning users: 3.43%\n"
     ]
    }
   ],
   "source": [
    "# gate 40 percentage increase of games played by players that returned to play after one day\n",
    "# ..% more games played by returning players that played the new game feature\n",
    "g30_sgr = total_games.loc[(total_games.index.get_level_values('version') == 'gate_30')&(total_games.index.get_level_values('retention_1') == True)].values\n",
    "g40_sgr = total_games.loc[(total_games.index.get_level_values('version') == 'gate_40')&(total_games.index.get_level_values('retention_1') == True)].values\n",
    "pct_inc = float((g40_sgr-g30_sgr)/g30_sgr*100)\n",
    "print(f'gate 40 percentage of total games played increase for returning users: {np.round(pct_inc,2)}%')"
   ]
  },
  {
   "cell_type": "markdown",
   "id": "f97c519f",
   "metadata": {},
   "source": [
    "Of the total number of games played by users that returned after 1 day of installation for each version, the new version (gate 40) has seen a 3.43% increase in the number of games played. Which can be expected as the new version had more games played to begin with."
   ]
  },
  {
   "cell_type": "code",
   "execution_count": 28,
   "id": "0f6604a7",
   "metadata": {
    "ExecuteTime": {
     "end_time": "2022-08-19T08:56:08.268450Z",
     "start_time": "2022-08-19T08:56:08.229208Z"
    },
    "scrolled": true
   },
   "outputs": [
    {
     "data": {
      "text/plain": [
       "version  retention_1\n",
       "gate_30  False          17.221128\n",
       "         True           82.778872\n",
       "gate_40  False          17.308855\n",
       "         True           82.691145\n",
       "Name: sum_gamerounds, dtype: float64"
      ]
     },
     "execution_count": 28,
     "metadata": {},
     "output_type": "execute_result"
    }
   ],
   "source": [
    "# percentage of games played per version\n",
    "ret1_game_ply_pct = ab_test.groupby(['version','retention_1'])['sum_gamerounds'].sum()/ ab_test.groupby('version').sum()['sum_gamerounds']*100\n",
    "ret1_game_ply_pct"
   ]
  },
  {
   "cell_type": "code",
   "execution_count": 29,
   "id": "2ac4190a",
   "metadata": {
    "ExecuteTime": {
     "end_time": "2022-08-19T08:56:08.283499Z",
     "start_time": "2022-08-19T08:56:08.268450Z"
    }
   },
   "outputs": [
    {
     "data": {
      "text/plain": [
       "Index([False, True, False, True], dtype='object', name='retention_1')"
      ]
     },
     "execution_count": 29,
     "metadata": {},
     "output_type": "execute_result"
    }
   ],
   "source": [
    "ret1_game_ply_pct.index.get_level_values('retention_1')"
   ]
  },
  {
   "cell_type": "markdown",
   "id": "1175fdb1",
   "metadata": {},
   "source": [
    "We can see that game play percentages for each version are also very similar."
   ]
  },
  {
   "cell_type": "markdown",
   "id": "0ae44f1e",
   "metadata": {},
   "source": [
    "## Retention 7"
   ]
  },
  {
   "cell_type": "markdown",
   "id": "794048ee",
   "metadata": {},
   "source": [
    "Again let us check the number of users we did retain after 7 days of intallation."
   ]
  },
  {
   "cell_type": "code",
   "execution_count": 30,
   "id": "663f9489",
   "metadata": {
    "ExecuteTime": {
     "end_time": "2022-08-19T08:56:08.299534Z",
     "start_time": "2022-08-19T08:56:08.286468Z"
    }
   },
   "outputs": [
    {
     "data": {
      "text/plain": [
       "version\n",
       "gate_30    1836\n",
       "gate_40    1828\n",
       "Name: retention_7, dtype: int64"
      ]
     },
     "execution_count": 30,
     "metadata": {},
     "output_type": "execute_result"
    }
   ],
   "source": [
    "# number of retained users after 7 days\n",
    "ret_num_7 = ab_test.groupby('version').sum()['retention_7']\n",
    "ret_num_7"
   ]
  },
  {
   "cell_type": "code",
   "execution_count": 31,
   "id": "57381598",
   "metadata": {
    "ExecuteTime": {
     "end_time": "2022-08-19T08:56:08.314944Z",
     "start_time": "2022-08-19T08:56:08.301880Z"
    }
   },
   "outputs": [
    {
     "name": "stdout",
     "output_type": "stream",
     "text": [
      "gate 30 shows an increase of 8 retained users\n"
     ]
    }
   ],
   "source": [
    "# gate 30 retained user difference\n",
    "ret_diff_7 = ret_num_7['gate_30']-ret_num_7['gate_40']\n",
    "print(f'gate 30 shows an increase of {ret_diff_7} retained users')"
   ]
  },
  {
   "cell_type": "code",
   "execution_count": 32,
   "id": "d0857ef6",
   "metadata": {
    "ExecuteTime": {
     "end_time": "2022-08-19T08:56:08.330945Z",
     "start_time": "2022-08-19T08:56:08.315946Z"
    }
   },
   "outputs": [
    {
     "name": "stdout",
     "output_type": "stream",
     "text": [
      "gate 30's retained users equates to a 0.44 percentage increase\n"
     ]
    }
   ],
   "source": [
    "# gate 30 retained user percentage increase\n",
    "ret7_pct_inc = np.round((ret_num_7['gate_30']-ret_num_7['gate_40'])/ret_num_7['gate_40']*100, 2)\n",
    "print(f\"gate 30's retained users equates to a {ret7_pct_inc} percentage increase\")"
   ]
  },
  {
   "cell_type": "markdown",
   "id": "9f4ab828",
   "metadata": {},
   "source": [
    "From the number of retained users for each version after 7 days of installation we can see that the current version (gate 30) has an increase of 8 retained users which is an increase of 0.44% over the new version (gate 40)."
   ]
  },
  {
   "cell_type": "code",
   "execution_count": 33,
   "id": "e61298cf",
   "metadata": {
    "ExecuteTime": {
     "end_time": "2022-08-19T08:56:08.362604Z",
     "start_time": "2022-08-19T08:56:08.333954Z"
    }
   },
   "outputs": [
    {
     "data": {
      "text/html": [
       "<div>\n",
       "<style scoped>\n",
       "    .dataframe tbody tr th:only-of-type {\n",
       "        vertical-align: middle;\n",
       "    }\n",
       "\n",
       "    .dataframe tbody tr th {\n",
       "        vertical-align: top;\n",
       "    }\n",
       "\n",
       "    .dataframe thead th {\n",
       "        text-align: right;\n",
       "    }\n",
       "</style>\n",
       "<table border=\"1\" class=\"dataframe\">\n",
       "  <thead>\n",
       "    <tr style=\"text-align: right;\">\n",
       "      <th></th>\n",
       "      <th>retention_rate</th>\n",
       "      <th>std_deviation</th>\n",
       "      <th>std_error</th>\n",
       "    </tr>\n",
       "    <tr>\n",
       "      <th>version</th>\n",
       "      <th></th>\n",
       "      <th></th>\n",
       "      <th></th>\n",
       "    </tr>\n",
       "  </thead>\n",
       "  <tbody>\n",
       "    <tr>\n",
       "      <th>gate_30</th>\n",
       "      <td>18.836565</td>\n",
       "      <td>39.100388</td>\n",
       "      <td>0.396046</td>\n",
       "    </tr>\n",
       "    <tr>\n",
       "      <th>gate_40</th>\n",
       "      <td>18.754489</td>\n",
       "      <td>39.034831</td>\n",
       "      <td>0.395382</td>\n",
       "    </tr>\n",
       "  </tbody>\n",
       "</table>\n",
       "</div>"
      ],
      "text/plain": [
       "         retention_rate  std_deviation  std_error\n",
       "version                                          \n",
       "gate_30       18.836565      39.100388   0.396046\n",
       "gate_40       18.754489      39.034831   0.395382"
      ]
     },
     "execution_count": 33,
     "metadata": {},
     "output_type": "execute_result"
    }
   ],
   "source": [
    "# retention rates retention_7\n",
    "retention_7_rates = ab_test.groupby('version')['retention_7']\n",
    "\n",
    "std_p = lambda x: np.std(x, ddof=0)              # Std. deviation of the proportion\n",
    "se_p = lambda x: sem(x, ddof=0)            # Std. error of the proportion (std / sqrt(n))\n",
    "\n",
    "retention_7_rates = retention_7_rates.agg([np.mean, std_p, se_p])\n",
    "retention_7_rates.columns = ['retention_rate', 'std_deviation', 'std_error']\n",
    "retention_7_rates = retention_7_rates*100\n",
    "retention_7_rates"
   ]
  },
  {
   "cell_type": "markdown",
   "id": "a7927285",
   "metadata": {},
   "source": [
    "We can see that retention rates have decreased dramatically with only approx. 19% of players returning to play after 7 days of install. It can be seen that gate 30 now has an increase over gate 40 but again the difference between versions is minimal, we will test to see if this difference is statistically significant or not."
   ]
  },
  {
   "cell_type": "code",
   "execution_count": 34,
   "id": "550f82c0",
   "metadata": {
    "ExecuteTime": {
     "end_time": "2022-08-19T08:56:08.394307Z",
     "start_time": "2022-08-19T08:56:08.366579Z"
    }
   },
   "outputs": [
    {
     "data": {
      "text/html": [
       "<div>\n",
       "<style scoped>\n",
       "    .dataframe tbody tr th:only-of-type {\n",
       "        vertical-align: middle;\n",
       "    }\n",
       "\n",
       "    .dataframe tbody tr th {\n",
       "        vertical-align: top;\n",
       "    }\n",
       "\n",
       "    .dataframe thead th {\n",
       "        text-align: right;\n",
       "    }\n",
       "</style>\n",
       "<table border=\"1\" class=\"dataframe\">\n",
       "  <thead>\n",
       "    <tr style=\"text-align: right;\">\n",
       "      <th></th>\n",
       "      <th></th>\n",
       "      <th>sum_gamerounds</th>\n",
       "    </tr>\n",
       "    <tr>\n",
       "      <th>version</th>\n",
       "      <th>retention_7</th>\n",
       "      <th></th>\n",
       "    </tr>\n",
       "  </thead>\n",
       "  <tbody>\n",
       "    <tr>\n",
       "      <th rowspan=\"2\" valign=\"top\">gate_30</th>\n",
       "      <th>False</th>\n",
       "      <td>200790</td>\n",
       "    </tr>\n",
       "    <tr>\n",
       "      <th>True</th>\n",
       "      <td>294375</td>\n",
       "    </tr>\n",
       "    <tr>\n",
       "      <th rowspan=\"2\" valign=\"top\">gate_40</th>\n",
       "      <th>False</th>\n",
       "      <td>212573</td>\n",
       "    </tr>\n",
       "    <tr>\n",
       "      <th>True</th>\n",
       "      <td>300101</td>\n",
       "    </tr>\n",
       "  </tbody>\n",
       "</table>\n",
       "</div>"
      ],
      "text/plain": [
       "                     sum_gamerounds\n",
       "version retention_7                \n",
       "gate_30 False                200790\n",
       "        True                 294375\n",
       "gate_40 False                212573\n",
       "        True                 300101"
      ]
     },
     "execution_count": 34,
     "metadata": {},
     "output_type": "execute_result"
    }
   ],
   "source": [
    "# total games played retention 7\n",
    "total_games = ab_test.groupby(['version','retention_7']).agg({'sum_gamerounds':'sum'})\n",
    "total_games"
   ]
  },
  {
   "cell_type": "code",
   "execution_count": 35,
   "id": "1710327c",
   "metadata": {
    "ExecuteTime": {
     "end_time": "2022-08-19T08:56:08.409648Z",
     "start_time": "2022-08-19T08:56:08.394307Z"
    }
   },
   "outputs": [
    {
     "name": "stdout",
     "output_type": "stream",
     "text": [
      "gate 40 percentage of total games played increase for returning users: 1.95%\n"
     ]
    }
   ],
   "source": [
    "# gate 40 percentage increase of games played by players that returned to play after one day\n",
    "# ..% more games played by returning players that played the new game feature\n",
    "g30_sgr = total_games.loc[(total_games.index.get_level_values('version') == 'gate_30')&(total_games.index.get_level_values('retention_7') == True)].values\n",
    "g40_sgr = total_games.loc[(total_games.index.get_level_values('version') == 'gate_40')&(total_games.index.get_level_values('retention_7') == True)].values\n",
    "pct_inc = float((g40_sgr-g30_sgr)/g30_sgr*100)\n",
    "print(f'gate 40 percentage of total games played increase for returning users: {np.round(pct_inc,2)}%')"
   ]
  },
  {
   "cell_type": "markdown",
   "id": "fdd1cf49",
   "metadata": {},
   "source": [
    "Of the total number of games played by users that returned after 7 days of installation for each version, the new version (gate 40) has seen a 1.95% increase in the number of games played. Again this can be expected as the new version had more game rounds played."
   ]
  },
  {
   "cell_type": "markdown",
   "id": "f3a44e7c",
   "metadata": {},
   "source": [
    "We can check the percentage of games played by retained users after 7 days."
   ]
  },
  {
   "cell_type": "code",
   "execution_count": 36,
   "id": "44407608",
   "metadata": {
    "ExecuteTime": {
     "end_time": "2022-08-19T08:56:08.440994Z",
     "start_time": "2022-08-19T08:56:08.410848Z"
    }
   },
   "outputs": [
    {
     "data": {
      "text/plain": [
       "version  retention_7\n",
       "gate_30  False          40.550120\n",
       "         True           59.449880\n",
       "gate_40  False          41.463581\n",
       "         True           58.536419\n",
       "Name: sum_gamerounds, dtype: float64"
      ]
     },
     "execution_count": 36,
     "metadata": {},
     "output_type": "execute_result"
    }
   ],
   "source": [
    "# percentage of games played per version\n",
    "ret7_game_play_pct = ab_test.groupby(['version','retention_7'])['sum_gamerounds'].sum()/ ab_test.groupby('version').sum()['sum_gamerounds']*100\n",
    "ret7_game_play_pct"
   ]
  },
  {
   "cell_type": "code",
   "execution_count": 89,
   "id": "23eb087a",
   "metadata": {
    "ExecuteTime": {
     "end_time": "2022-07-14T11:05:47.624849Z",
     "start_time": "2022-07-14T11:00:06.558037Z"
    }
   },
   "outputs": [
    {
     "name": "stdout",
     "output_type": "stream",
     "text": [
      "actual difference between percentages of games played for retained users per version: 0.91\n",
      "95% CI for difference between percentages of games played for retained users per version: (-2.6984238283847906, 2.700463748461197)\n"
     ]
    }
   ],
   "source": [
    "# 95% permutation confidence interval for difference in game play proportions for retention_7 versions\n",
    "act_diff = game_play_pct['gate_30'][1]-game_play_pct['gate_40'][1]\n",
    "n_iter=10000\n",
    "pct_diffs = []\n",
    "for _ in range(n_iter):\n",
    "    g30 = ab_test.sample(n=9747) # sample size g30\n",
    "    g40_idx = [x for x in ab_test.index if x not in g30.index] # get non index of g30\n",
    "    g40 = ab_test.iloc[g40_idx, :] # sample sizeg40\n",
    "    # calculate percentages of games played for retained users\n",
    "    g30_pct = g30.groupby('retention_7')['sum_gamerounds'].sum()/ np.sum(g30['sum_gamerounds'])*100\n",
    "    g40_pct = g40.groupby('retention_7')['sum_gamerounds'].sum()/ np.sum(g40['sum_gamerounds'])*100\n",
    "    g30_pct = g30_pct[1]\n",
    "    g40_pct = g40_pct[1]\n",
    "    pct_diff = g30_pct-g40_pct # get difference\n",
    "    pct_diffs.append(pct_diff)\n",
    "    \n",
    "lower_bound, upper_bound = np.percentile(pct_diffs, [2.5, 97.5])\n",
    "print(f'actual difference between percentages of games played for retained users per version: {np.round(act_diff,2)}')\n",
    "print(f'95% CI for difference between percentages of games played for retained users per version: ({lower_bound}, {upper_bound})')"
   ]
  },
  {
   "cell_type": "markdown",
   "id": "ad8fe8f9",
   "metadata": {},
   "source": [
    "We can see that there is a 0.91% increase in games played for retained users for gate 30 version, after computing a permuted 95% confidence interval we can see that the interval contans 0 which means this observation is likely due to chance variation within the data."
   ]
  },
  {
   "cell_type": "markdown",
   "id": "f4629baf",
   "metadata": {},
   "source": [
    "Lets now visually take a look at retention rates with a bar chart."
   ]
  },
  {
   "cell_type": "code",
   "execution_count": 19,
   "id": "ab11438b",
   "metadata": {
    "ExecuteTime": {
     "end_time": "2022-06-22T04:49:00.398487Z",
     "start_time": "2022-06-22T04:49:00.212542Z"
    }
   },
   "outputs": [
    {
     "data": {
      "image/png": "[encoded data removed]",
      "text/plain": [
       "<Figure size 720x288 with 2 Axes>"
      ]
     },
     "metadata": {
      "needs_background": "light"
     },
     "output_type": "display_data"
    }
   ],
   "source": [
    "# visualise rates\n",
    "fig, (ax1,ax2) = plt.subplots(1,2,figsize=(10,4))\n",
    "plt.tight_layout(pad=4)\n",
    "sns.barplot(data=retention_1_rates, x=retention_1_rates.index, y='retention_rate', ax=ax1)\n",
    "ax1.set_title('1 Day Retention Rates')\n",
    "sns.barplot(data=retention_7_rates, x= retention_7_rates.index, y='retention_rate', ax=ax2)\n",
    "ax2.set_title('7 Day Retention Rates')\n",
    "plt.show()"
   ]
  },
  {
   "cell_type": "markdown",
   "id": "b92043a3",
   "metadata": {},
   "source": [
    "We can see from the retention rates of each version for each retention flag that there is not much difference between the two versions, Gate 40 performs slightly better for retention_1 and gate 30 performs slightly better for retention_7. We can test to see whether the difference between the two versions for each flag is statistically significant."
   ]
  },
  {
   "cell_type": "markdown",
   "id": "af2e31d0",
   "metadata": {},
   "source": [
    "# Hypothesis Testing"
   ]
  },
  {
   "cell_type": "markdown",
   "id": "4260eb65",
   "metadata": {},
   "source": [
    "Firstly we will split the data into control (gate 30) and treatment (gate 40) sets."
   ]
  },
  {
   "cell_type": "code",
   "execution_count": 5,
   "id": "79745ebb",
   "metadata": {
    "ExecuteTime": {
     "end_time": "2022-06-29T04:23:14.455510Z",
     "start_time": "2022-06-29T04:23:14.433404Z"
    }
   },
   "outputs": [],
   "source": [
    "control = ab_test[ab_test['version']=='gate_30']\n",
    "treatment = ab_test[ab_test['version']=='gate_40']"
   ]
  },
  {
   "cell_type": "markdown",
   "id": "96976819",
   "metadata": {},
   "source": [
    "## sum_gamerounds"
   ]
  },
  {
   "cell_type": "markdown",
   "id": "c5dd09a8",
   "metadata": {},
   "source": [
    "Now that we have our control and treatment sets we can start testing. For our first test we will test to see if the difference in number of games played for each version is statistically significant, we found that the version with the new game feature (gate 40) on average had a higher number of games played.\n",
    "\n",
    "As we are uncertain of knowing whether the new game feature would perform better or worse than the original feature we will perform a two sided hyptothesis test. Our null hypothesis will be that there is no difference in average game play between game versions and our alternative hypothesis will be that there is a difference in average game play between game versions. The test will be conducted with 95% confidence and a significance level of 5%, this means that we have a 95% chance of detecting an effect if there is one and if the p-value (probability of observing a difference between game play as great as the difference we observed) is less than 5% then we can reject the null hypothesis and state that there is a statistically significant difference between version game play (the version with gate 40 on average does have a higher number of games played).\n",
    "\n",
    "We will perform a non-parametric test as the data is non normally distributed."
   ]
  },
  {
   "cell_type": "code",
   "execution_count": 16,
   "id": "58a482e9",
   "metadata": {
    "ExecuteTime": {
     "end_time": "2022-06-28T05:07:34.589930Z",
     "start_time": "2022-06-28T05:07:34.553312Z"
    }
   },
   "outputs": [
    {
     "name": "stdout",
     "output_type": "stream",
     "text": [
      "Two sided hypothesis test for difference in means for sum_gamerounds:\n",
      "Difference in means likely due to chance, fail to reject the null hypotheses\n",
      "P value: 0.39649082460452945\n"
     ]
    }
   ],
   "source": [
    "# two sided non parametric hypothesis test for difference in means\n",
    "# h0 = 0 (there is no difference in means)\n",
    "# ha != 0 (there is a difference in means)\n",
    "# significance level = 0.05\n",
    "\n",
    "g30_sgr = ab_test[ab_test['version']=='gate_30']['sum_gamerounds']\n",
    "g40_sgr = ab_test[ab_test['version']=='gate_40']['sum_gamerounds']\n",
    "_, pval = mannwhitneyu(g30_sgr, g40_sgr, alternative='two-sided')\n",
    "if pval <= 0.05:\n",
    "    print(f'Two sided hypothesis test for difference in means for sum_gamerounds:\\nDifference in means not due to chance, reject the null hypotheses\\nP value: {pval}')\n",
    "else:\n",
    "    print(f'Two sided hypothesis test for difference in means for sum_gamerounds:\\nDifference in means likely due to chance, fail to reject the null hypotheses\\nP value: {pval}')"
   ]
  },
  {
   "cell_type": "markdown",
   "id": "0706fc29",
   "metadata": {},
   "source": [
    "As we can see from our test results we obtained a p-value of approx. 0.40 or 40%, this means that on average we can expect to see a difference as large as the one we observed 40% of the time. This is way above our significanace level of 5% and therefore we fail to reject the null hypothesis and state that there is statistically no difference between the game play of both versions."
   ]
  },
  {
   "cell_type": "code",
   "execution_count": 6,
   "id": "6e55cd01",
   "metadata": {
    "ExecuteTime": {
     "end_time": "2022-06-28T04:41:14.934123Z",
     "start_time": "2022-06-28T04:41:14.914412Z"
    }
   },
   "outputs": [
    {
     "name": "stdout",
     "output_type": "stream",
     "text": [
      "95% confidence interval for difference in means for sum_gamerounds: (-1.003128547029331, 4.595823735292381)\n"
     ]
    }
   ],
   "source": [
    "# 95% confidence interval for difference of means for sum_gamerounds\n",
    "gate30_mean = avg_game_play['Average_game_play']['gate_30']\n",
    "gate40_mean = avg_game_play['Average_game_play']['gate_40']\n",
    "gate30_std = avg_game_play['std_deviation']['gate_30']\n",
    "gate40_std = avg_game_play['std_deviation']['gate_40']\n",
    "gate30_var = avg_game_play['variance']['gate_30']\n",
    "gate40_var = avg_game_play['variance']['gate_40']\n",
    "gate30_n = ab_test[ab_test['version']=='gate_30'].shape[0]\n",
    "gate40_n = ab_test[ab_test['version']=='gate_40'].shape[0]\n",
    "# calculate degrees of freedom\n",
    "dof = gate40_n + gate30_n - 2 # = 19492\n",
    "# two tailed t value at 95% confidence\n",
    "t_val = 1.96 # high sample size means t distribution is the sames as z distribution\n",
    "# pooled standard deviation\n",
    "sp = np.sqrt(((gate40_n-1)*gate40_var+(gate30_n-1)*gate30_var)/dof)\n",
    "# margin of error\n",
    "moe = t_val*sp*np.sqrt((1/gate40_n)+(1/gate30_n))\n",
    "# confidence interval\n",
    "conf_int = ((gate40_mean-gate30_mean)-moe,(gate40_mean-gate30_mean)+moe)\n",
    "print(f'95% confidence interval for difference in means for sum_gamerounds: {conf_int}')"
   ]
  },
  {
   "cell_type": "markdown",
   "id": "87e5c4dc",
   "metadata": {},
   "source": [
    "After computing a 95% confidence interval for the difference in means for gate 30 and gate40 of sum_gamerounds, we can see that the null value of 0 is within the interval meaning that a value of 0 is well within chance variation of the data."
   ]
  },
  {
   "cell_type": "markdown",
   "id": "dccee4da",
   "metadata": {},
   "source": [
    "## retention_1"
   ]
  },
  {
   "cell_type": "markdown",
   "id": "cf69fcf2",
   "metadata": {},
   "source": [
    "Next we will test the difference in proportions for the retention_1 variable and see if the difference is statistically significant, initially we found that the game version with the new feature (gate40) had a slighty higher retention rate after 1 day.\n",
    "\n",
    "Again we will perform a two sided test with a 95% confidence level and significance level of 5%, our null hypothesis will be that there is no difference between proportions and our alternative hypothesis is that there is a difference between proportions."
   ]
  },
  {
   "cell_type": "code",
   "execution_count": 23,
   "id": "fac744c8",
   "metadata": {
    "ExecuteTime": {
     "end_time": "2022-06-22T04:56:09.290351Z",
     "start_time": "2022-06-22T04:56:09.262268Z"
    }
   },
   "outputs": [
    {
     "name": "stdout",
     "output_type": "stream",
     "text": [
      "z statistic: -0.33129689661546446\n",
      "P value: 0.740420235220633\n",
      "Control CI: (0.43642240896668855,0.4561599240588578)\n",
      "Treatment CI: (0.4387771604754418,0.4585245733913891)\n"
     ]
    }
   ],
   "source": [
    "# sampled data... using statsmodels package\n",
    "zstat, pval = proportions_ztest(count=[control['retention_1'].sum(),treatment['retention_1'].sum()], nobs=[len(control),len(treatment)], value=0, alternative='two-sided')\n",
    "(lower_con, lower_treat), (upper_con, upper_treat) = proportion_confint([control['retention_1'].sum(),treatment['retention_1'].sum()], nobs=[len(control),len(treatment)], alpha=0.05)\n",
    "print(f'z statistic: {zstat}\\nP value: {pval}\\nControl CI: ({lower_con},{upper_con})\\nTreatment CI: ({lower_treat},{upper_treat})')"
   ]
  },
  {
   "cell_type": "markdown",
   "id": "07bda3c3",
   "metadata": {},
   "source": [
    "As we obtained a p value of 0.74 meaning we will see a difference as great or more than our observed difference 74% of the time as this is well above our 5% significance level threshold we fail to reject the null hypothesis and state that there is no difference between version proportions."
   ]
  },
  {
   "cell_type": "code",
   "execution_count": 18,
   "id": "c2fbeeee",
   "metadata": {
    "ExecuteTime": {
     "end_time": "2022-06-28T05:12:42.919945Z",
     "start_time": "2022-06-28T05:12:42.900187Z"
    }
   },
   "outputs": [
    {
     "name": "stdout",
     "output_type": "stream",
     "text": [
      "95% confidence interval for difference in retention_1 proportions: (-0.016319987557399836, 0.011600586716115309)\n"
     ]
    }
   ],
   "source": [
    "# 95% confidence interval for difference of proportions for retention_1\n",
    "critical_value = 1.96\n",
    "gate30_prop = control['retention_1'].mean()\n",
    "gate40_prop = treatment['retention_1'].mean()\n",
    "gate30_n = len(control)\n",
    "gate40_n = len(treatment)\n",
    "# standard error\n",
    "se = np.sqrt((gate30_prop * (1-gate30_prop))/gate30_n + (gate40_prop * (1-gate40_prop))/gate40_n)\n",
    "# margin of error\n",
    "me = critical_value * se\n",
    "print(f'95% confidence interval for difference in retention_1 proportions: {((gate30_prop-gate40_prop)-me, (gate30_prop-gate40_prop)+me)}')"
   ]
  },
  {
   "cell_type": "markdown",
   "id": "2d7b5b91",
   "metadata": {},
   "source": [
    "We can also conclude that there is no difference between proportions by computing a 95% confidence interval, and as can be seen the null value 0 is within the bounds of interval. This means that if we repeatedly took new samples and calulated the difference between versions, 95% of the time the difference will fall inside the confidence interval bounds and as 0 is within the bounds we can also observe differences of 0."
   ]
  },
  {
   "cell_type": "markdown",
   "id": "961459d7",
   "metadata": {},
   "source": [
    "## retention_7"
   ]
  },
  {
   "cell_type": "markdown",
   "id": "2cf75e97",
   "metadata": {},
   "source": [
    "Finally lets test the difference in proportions for retention_7."
   ]
  },
  {
   "cell_type": "code",
   "execution_count": 24,
   "id": "bf3f1d37",
   "metadata": {
    "ExecuteTime": {
     "end_time": "2022-06-22T04:57:35.501962Z",
     "start_time": "2022-06-22T04:57:35.478333Z"
    },
    "scrolled": true
   },
   "outputs": [
    {
     "name": "stdout",
     "output_type": "stream",
     "text": [
      "z statistic: 0.1466635787105074\n",
      "P value: 0.8833975676439857\n",
      "Control CI: (0.18060329289656618,0.196128009042492)\n",
      "Treatment CI: (0.17979554215753307,0.1952942290541218)\n"
     ]
    }
   ],
   "source": [
    "# sampled data... using statsmodels package\n",
    "zstat, pval = proportions_ztest(count=[control['retention_7'].sum(),treatment['retention_7'].sum()], nobs=[len(control),len(treatment)], value=0, alternative='two-sided')\n",
    "(lower_con, lower_treat), (upper_con, upper_treat) = proportion_confint([control['retention_7'].sum(),treatment['retention_7'].sum()], nobs=[len(control),len(treatment)], alpha=0.05)\n",
    "print(f'z statistic: {zstat}\\nP value: {pval}\\nControl CI: ({lower_con},{upper_con})\\nTreatment CI: ({lower_treat},{upper_treat})')"
   ]
  },
  {
   "cell_type": "markdown",
   "id": "a3696d29",
   "metadata": {},
   "source": [
    "Again as the P value suggests the probability of observing a difference in proportions as greater than or equal to the observed difference between control and treatment, with the p value (approx. 0.88 or 88%) being extremely high, way above our 0.05 or 5% threshold, we fail to reject the null hypothesis and state that there is no difference between control (original checkpoint(gate 30)) and treatment (new checkpoint (gate 40)) retention rates."
   ]
  },
  {
   "cell_type": "code",
   "execution_count": 19,
   "id": "b70231ff",
   "metadata": {
    "ExecuteTime": {
     "end_time": "2022-06-28T05:16:35.863591Z",
     "start_time": "2022-06-28T05:16:35.855265Z"
    }
   },
   "outputs": [
    {
     "name": "stdout",
     "output_type": "stream",
     "text": [
      "95% confidence interval for difference in retention_7 proportions: (-0.010147869381593835, 0.011789400108997141)\n"
     ]
    }
   ],
   "source": [
    "# 95% confidence interval for difference of proportions for retention_7\n",
    "critical_value = 1.96\n",
    "con_prop = control['retention_7'].mean() # gate 30\n",
    "treat_prop = treatment['retention_7'].mean() # gate 40\n",
    "con_n = len(control) # gate 30\n",
    "treat_n = len(treatment) # gate 40\n",
    "# standard error\n",
    "se = np.sqrt((con_prop * (1-con_prop))/con_n + (treat_prop * (1-treat_prop))/treat_n)\n",
    "# margin of error\n",
    "me = critical_value * se\n",
    "print(f'95% confidence interval for difference in retention_7 proportions: {((con_prop-treat_prop)-me, (con_prop-treat_prop)+me)}')"
   ]
  },
  {
   "cell_type": "markdown",
   "id": "42ab73b2",
   "metadata": {},
   "source": [
    "This can also be re-iterated with a 95% confidence intereval for the difference in proportions as the interval contains 0. Also looking at the treatment confidence interval it does not contain the 2% retention rate increase of 22%."
   ]
  },
  {
   "cell_type": "markdown",
   "id": "b6000e66",
   "metadata": {},
   "source": [
    "# Conclusion"
   ]
  },
  {
   "cell_type": "markdown",
   "id": "3560205c",
   "metadata": {},
   "source": [
    "We found in the data that the average games played for the treatment (version gate 40) of sum_gamerounds was higher than control (version gate 30), this was found to be likely due to chance with a mann-whitney u test obtaining a p value of 0.3964. For retention rates after 1 day (retention_1) we found again the treatment proportion was higher than that of control but this also was likely due to chance occurence using a z test obtaining a p value of 0.7404. Finally looking at retention rates after 7 days (retention_7) we found that the control proportion was higher than that of treatment but also again this was likely a chance occurence using a z test obtaining a p value of 0.8833.\n",
    "\n",
    "Comupting treatment confidence intervals for both retention rates we found that neither retention rates saw an uplift of 2%.\n",
    "\n",
    "We can conclude that we do not have enough evidence to support our alternative hypothesis of there being a difference in version retention rates and that any observed differences are due to chance. Neither treatment retention rates showed a decrease but also showed no signs of a 2% uplift."
   ]
  },
  {
   "cell_type": "markdown",
   "id": "91fb0f60",
   "metadata": {},
   "source": [
    "# Report"
   ]
  },
  {
   "cell_type": "code",
   "execution_count": 49,
   "id": "10eb8341",
   "metadata": {
    "ExecuteTime": {
     "end_time": "2022-08-19T09:40:33.245017Z",
     "start_time": "2022-08-19T09:40:32.638328Z"
    }
   },
   "outputs": [
    {
     "name": "stderr",
     "output_type": "stream",
     "text": [
      "C:\\Users\\jakee\\anaconda3\\envs\\ab_testing\\lib\\site-packages\\datapane\\common\\df_processor.py:28: FutureWarning:\n",
      "\n",
      "pandas.Int64Index is deprecated and will be removed from pandas in a future version. Use pandas.Index with the appropriate dtype instead.\n",
      "\n"
     ]
    },
    {
     "data": {
      "text/markdown": [
       "Report saved to ./C:\\Users\\jakee\\AppData\\Local\\Temp\\dp-tmp-6x4f959t\\dp-tmp-9pk3x7jvcb4c0c35d2ea4a97ad27df66a6fe81fe.html"
      ],
      "text/plain": [
       "<IPython.core.display.Markdown object>"
      ]
     },
     "metadata": {},
     "output_type": "display_data"
    }
   ],
   "source": [
    "# ab test report\n",
    "ret_1_chart = px.bar(\n",
    "    retention_1_rates.reset_index(), \n",
    "    x='version', \n",
    "    y='retention_rate',\n",
    "    title='1 Day Retention Rate per Version',\n",
    "    color_discrete_sequence=['#1616A7'],\n",
    "    labels={'version':'Version', 'retention_rate':'Retention Rate'},\n",
    "    template='simple_white',\n",
    "    text_auto=True\n",
    ")\n",
    "ret_1_chart.update_yaxes(tickprefix='%', showgrid=True)\n",
    "ret_7_chart = px.bar(\n",
    "    retention_7_rates, \n",
    "    x=retention_7_rates.index, \n",
    "    y='retention_rate',\n",
    "    title='7 Day Retention Rate per Version',\n",
    "    color_discrete_sequence=['#1616A7'],\n",
    "    labels={'version':'Version', 'retention_rate':'Retention Rate'},\n",
    "    template='simple_white',\n",
    "    text_auto=True\n",
    ")\n",
    "ret_7_chart.update_yaxes(tickprefix='%', showgrid=True)\n",
    "# total games distribution plots\n",
    "# gate 30\n",
    "g30_dist = px.histogram(\n",
    "    g30,\n",
    "    x=np.log(g30['sum_gamerounds']+1),\n",
    "    #log_x=True,\n",
    "    title='Total Game Rounds Distribution for Gate 30',\n",
    "    labels={'x': 'Log Total Games Played'},\n",
    "    color_discrete_sequence=['#1616A7'],\n",
    "    template='simple_white'\n",
    ")\n",
    "g30_dist.update_yaxes(showgrid=True)\n",
    "# gate 40\n",
    "g40_dist = px.histogram(\n",
    "    g40,\n",
    "    x=np.log(g40['sum_gamerounds']+1),\n",
    "    #log_x=True,\n",
    "    title='Total Game Rounds Distribution for Gate 40',\n",
    "    labels={'x': 'Log Total Games Played'},\n",
    "    color_discrete_sequence=['#1616A7'],\n",
    "    template='simple_white'\n",
    ")\n",
    "g40_dist.update_yaxes(showgrid=True)\n",
    "# total games pie chart\n",
    "tot_sum_games_ver = px.pie(\n",
    "    data_frame=tot_num_games,\n",
    "    names=tot_num_games.index,\n",
    "    values=tot_num_games.values,\n",
    "    color=tot_num_games.index,\n",
    "    title='Game Rounds Played Per Version',\n",
    "    color_discrete_map={'gate_30':'RebeccaPurple', 'gate_40':'MediumPurple'},\n",
    "    template='simple_white'  \n",
    ")\n",
    "# total games bar chart\n",
    "tot_games_bar = px.bar(\n",
    "    tot_num_games,\n",
    "    x= tot_num_games.index,\n",
    "    y='sum_gamerounds',\n",
    "    labels={'version':'Version','sum_gamerounds':'Total Games Played'},\n",
    "    title='Game Rounds Played per Version',\n",
    "    color_discrete_sequence=['#1616A7'],\n",
    "    template='simple_white',\n",
    "    text_auto=True\n",
    ")\n",
    "tot_games_bar.update_yaxes(showgrid=True)\n",
    "# game play counts for retention type... trying to add 2nd y axis, fix this and delete graph below\n",
    "game_ply_counts = go.Figure(data=[\n",
    "    go.Bar(\n",
    "        name='Full Retention (1 & 7)', \n",
    "        x=games_plyd_df['Version'], \n",
    "        y=games_plyd_df['Full Retention'], \n",
    "        text=[f'{games_plyd_pct[0]}%',f'{games_plyd_pct[4]}%'],\n",
    "        textangle=0,\n",
    "        textposition='inside'\n",
    "    ),\n",
    "    go.Bar(\n",
    "        name='Retention 1 Only', \n",
    "        x=games_plyd_df['Version'], \n",
    "        y=games_plyd_df['Retention 1'],\n",
    "        text=[f'{games_plyd_pct[1]}%',f'{games_plyd_pct[5]}%'],\n",
    "        textangle=0,\n",
    "        textposition='inside'\n",
    "    ),\n",
    "    go.Bar(\n",
    "        name='Retention 7 Only', \n",
    "        x=games_plyd_df['Version'], \n",
    "        y=games_plyd_df['Retention 7'],\n",
    "        text=[f'{games_plyd_pct[2]}%',f'{games_plyd_pct[6]}%'],\n",
    "        textangle=0,\n",
    "        textposition='inside'\n",
    "    ),\n",
    "    go.Bar(\n",
    "        name='No Retention', \n",
    "        x=games_plyd_df['Version'], \n",
    "        y=games_plyd_df['No Retention'],\n",
    "        text=[f'{games_plyd_pct[3]}%',f'{games_plyd_pct[7]}%'],\n",
    "        textangle=0,\n",
    "        textposition='inside'\n",
    "    ),\n",
    "    ]                    \n",
    ")\n",
    "game_ply_counts.update_layout(\n",
    "    barmode='group',\n",
    "    title='Game Rounds Played For User Retention per Version',\n",
    "    xaxis_title='Version',\n",
    "    yaxis_title='Game Rounds Played',\n",
    "    legend_title='User Retention',\n",
    "    template='simple_white',\n",
    "    colorway=px.colors.qualitative.Alphabet\n",
    ")\n",
    "game_ply_counts.update_yaxes(showgrid=True)\n",
    "\n",
    "# retention 1 counts \n",
    "ret1_nums_pie = px.pie(\n",
    "    data_frame=ret_num_1,\n",
    "    names=ret_num_1.index,\n",
    "    values=ret_num_1.values,\n",
    "    color=ret_num_1.index,\n",
    "    title='Retained Users Per Version',\n",
    "    color_discrete_map={'gate_30':'RebeccaPurple', 'gate_40':'MediumPurple'},\n",
    "    template='simple_white'\n",
    ")\n",
    "# retention 1 game play percentages for retained/not retained\n",
    "ret_1_game_pct = px.bar(\n",
    "    data_frame=ret1_game_ply_pct,\n",
    "    x=ret1_game_ply_pct.index.get_level_values('version'),\n",
    "    y=ret1_game_ply_pct.values,\n",
    "    color=ret1_game_ply_pct.index.get_level_values('retention_1'),\n",
    "    labels={'x':'Version','y':'Percentage','color':'Users Retained'},\n",
    "    title='Percentage of Game Rounds Played by Users',\n",
    "    #color_discrete_map={'True':'RebeccaPurple','False':'Purple'},\n",
    "    color_discrete_sequence=px.colors.qualitative.Set1,\n",
    "    template='simple_white',\n",
    "    text_auto=True\n",
    ")\n",
    "ret_1_game_pct.update_yaxes(showgrid=True)\n",
    "# retention 7 counts \n",
    "ret7_nums_pie = px.pie(\n",
    "    data_frame=ret_num_7,\n",
    "    names=ret_num_7.index,\n",
    "    values=ret_num_7.values,\n",
    "    color=ret_num_7.index,\n",
    "    title='Retained Users Per Version',\n",
    "    color_discrete_map={'gate_30':'RebeccaPurple', 'gate_40':'MediumPurple'},\n",
    "    template='simple_white'\n",
    ")\n",
    "# retention 7 game play percentages for retained/not retained\n",
    "ret7_game_pct = px.bar(\n",
    "    data_frame=ret7_game_play_pct,\n",
    "    x=ret7_game_play_pct.index.get_level_values('version'),\n",
    "    y=ret7_game_play_pct.values,\n",
    "    color=ret7_game_play_pct.index.get_level_values('retention_7'),\n",
    "    labels={'x':'Version','y':'Percentage','color':'Users Retained'},\n",
    "    title='Percentage of Game Rounds Played by Users',\n",
    "    #color_discrete_map={'True':'RebeccaPurple','False':'Purple'},\n",
    "    color_discrete_sequence=px.colors.qualitative.Set1,\n",
    "    template='simple_white',\n",
    "    text_auto=True\n",
    ")\n",
    "ret7_game_pct.update_yaxes(showgrid=True)\n",
    "\n",
    "report = dp.Report(\n",
    "    # title page\n",
    "    dp.Page(\n",
    "        dp.Text(\"\"\"# Mobile Game A/B Test\"\"\"),\n",
    "        dp.Text(\"\"\"### Testing New Game Feature; Checkpoint Move From Gate 30 to Gate 40\"\"\"),\n",
    "        dp.Divider(),\n",
    "        dp.Text(\"\"\"### Business Scenario \"\"\"),\n",
    "        dp.Text('A Mobile game company has created a new game feature where a checkpoint has been moved from gate 30 to gate 40.'),\n",
    "        dp.Text('It is believed that the new feature will keep players interacting for longer and increase game play, '\\\n",
    "                'therefore increasing player retention rates.'),\n",
    "        dp.Text('The current retention rate after 1 day is 45% and after 7 days is 20% and the company are Looking for an uplift of 2% on current retention rates.'),\n",
    "        dp.Text('The aim of the A/B test is to determine whether the new feature increases retention rates and achieves a 2% uplift.'),\n",
    "        dp.Text('However, if retention rates decrease or no difference is found betwen versions then the feature change will not be considered.'),\n",
    "        title='Business Scenario'\n",
    "    ),\n",
    "    # data page\n",
    "    dp.Page(\n",
    "        dp.Text(\"\"\"### Data Information\"\"\"),\n",
    "        dp.Text('The data we have is from 90,189 players that installed the game while the AB-test was running over a 14 day period.' \\\n",
    "                ' To keep the scenario as true to life as possible we performed power analysis to determine sample sizes then sampled the required data from our original data,'\\\n",
    "                ' power analysis will usually be performed pre data collection. Post power analysis left us with a dataset comprised of 19494 samples.'),\n",
    "        dp.Text('The variables are:'),\n",
    "        dp.Text('* ***userid***: A unique number that identifies each player\\n\\n' \\\n",
    "                '* ***version***: Whether the player was put in the control group (gate30 - a gate at level 30) or the group with the moved gate (gate40 - a gate at level 40)\\n\\n'\\\n",
    "                '* ***sum_gamerounds***: the number of game rounds played by the player during the first 14 days after install\\n\\n'\\\n",
    "                '* ***retention_1***: Did the player come back and play 1 day after installing\\n\\n'\n",
    "                '* ***retention_7***: Did the player come back and play 7 days after installing'),\n",
    "        dp.Text('When a player installed the game, they were randomly assigned to either version of the game.'),\n",
    "        dp.Text(\"\"\"### Power Analysis\"\"\"),\n",
    "        dp.Text('To calulate the required sample size we used an ***effect size of 2%*** which is the uplift we would like to detect,'\\\n",
    "               ' a ***statistical power of 80%*** and an ***alpha value of 5%***.'),\n",
    "        dp.Text(\"\"\"#### The required sample size to be able to detect an effect if there is one is atleast 9747 samples per version.\"\"\"),\n",
    "        dp.Text(\"\"\"#### Sampled Data:\"\"\"),\n",
    "        dp.DataTable(ab_test),\n",
    "        title='Data'\n",
    "    ),\n",
    "    # analysis page\n",
    "    dp.Page(\n",
    "        dp.Select(blocks=[\n",
    "                # sum_gamerounds tab\n",
    "                dp.Group(\n",
    "                    dp.Text(\"\"\"### sum_gamerounds analysis\"\"\"),\n",
    "                    dp.Divider(),\n",
    "                    dp.Group(\n",
    "                        dp.Plot(\n",
    "                            tot_games_bar,\n",
    "                            responsive=True\n",
    "                        ),\n",
    "                        dp.Text('Over the 14 day Period that the test has run we can see there is an increase in the number of games '\\\n",
    "                                'played for the new version (gate 40) over the old version. This amounts to a difference of '\\\n",
    "                                '17509 games played which is a percentage increase of 3.54%.'),\n",
    "                        columns=2\n",
    "                    ),\n",
    "                    dp.Group(\n",
    "                        dp.BigNumber(\n",
    "                            heading='Difference in Total Games between Versions Gate 40 & Gate 30:',\n",
    "                            value=tot_num_games['gate_40']-tot_num_games['gate_30'] \n",
    "                        ),\n",
    "                        dp.BigNumber(\n",
    "                            heading='Version Gate 40 Percentage Increase in Total Games:',\n",
    "                            value=f\"{np.round((tot_num_games['gate_40']-tot_num_games['gate_30'])/tot_num_games['gate_30']*100,2)}%\"\n",
    "                        ),\n",
    "                        columns=2\n",
    "                    ),\n",
    "                    dp.Divider(),\n",
    "                    dp.Group(\n",
    "                        dp.Text('Of the total games played for both versions over the test period, version gate 40 has 50.9% of '\\\n",
    "                                'the entire games played which is approximately 1.8% more than version gate 30.'),\n",
    "                         dp.Plot(\n",
    "                            tot_sum_games_ver,\n",
    "                            responsive=True\n",
    "                        ),\n",
    "                        columns=2\n",
    "                    ),\n",
    "                    dp.Divider(),\n",
    "                    dp.Group(\n",
    "                        dp.Plot(game_ply_counts, responsive=True),\n",
    "                        dp.Text('The Distributions of games played for each version and retention type are approximately '\\\n",
    "                                'identical, with both versions having similar proportions of games played for retention type. '\\\n",
    "                                'Retention types are:\\n***full retention***: Played after 1 day and 7 days.\\n'\\\n",
    "                                '***Retention 1***: Played after 1 day but not 7 days.\\n***Retention 7***: Did not play after 1 day but played after 7 days.\\n'\\\n",
    "                                '***No Retention***: Did not play after one or 7 days.'),\n",
    "                        columns=2\n",
    "                    ),\n",
    "                    dp.Divider(),\n",
    "                    dp.Group(\n",
    "                        dp.Plot(g30_dist, responsive=True),\n",
    "                        dp.Plot(g40_dist, responsive=True),\n",
    "                        columns=2\n",
    "                    ),\n",
    "                    dp.Group(\n",
    "                        dp.Text('Again from the distributional plots for total games played we can see that the 2 versions are '\\\n",
    "                                'approximately identically distributed with hardly any differnece between game play counts. The '\\\n",
    "                                'data table also confirms this as we can see that there is really not much between both versions, '\\\n",
    "                                'with version gate 40 having only a slightly higher average and median game play aswell as the '\\\n",
    "                                'data being slightly more spread about the mean. The difference in version game play averages was '\\\n",
    "                                'tested to see if it was statistically significant.'),\n",
    "                        dp.DataTable(\n",
    "                            avg_game_play\n",
    "                        ),\n",
    "                        columns=2\n",
    "                    ),\n",
    "                    label='Sum Game Rounds'\n",
    "                ),\n",
    "                # 1 day retention rates tab\n",
    "                dp.Group(\n",
    "                    dp.Text('### Retention Rates After 1 Day of Installation'),\n",
    "                    dp.Divider(),\n",
    "                    dp.Group(\n",
    "                        dp.Text('Over the 14 day testing period there is minimal difference between version 1 day user retention rates, '\\\n",
    "                                'with version gate 40 having approx. 44.63% retention rate and version gate 30 having approx. 44.87% retention '\\\n",
    "                                'rate. This amounts to version gate 40 having a slightly higher rate and a difference of 0.24% and a '\\\n",
    "                                '0.54% increase over version gate 30.'),\n",
    "                        dp.Plot(ret_1_chart, responsive=True), \n",
    "                        columns=2\n",
    "                    ),\n",
    "                     dp.Group(\n",
    "                        dp.BigNumber(\n",
    "                            heading='Gate 30 Retention Rate After 1 Day', \n",
    "                            value=f\"{np.round(retention_1_rates['retention_rate']['gate_30'],2)}%\"\n",
    "                        ),\n",
    "                        dp.BigNumber(\n",
    "                            heading='Gate 40 Retention Rate After 1 Day', \n",
    "                            value=f\"{np.round(retention_1_rates['retention_rate']['gate_40'],2)}%\"\n",
    "                        ), columns=2\n",
    "                    ),\n",
    "                    dp.Divider(),\n",
    "                    dp.Group(\n",
    "                        dp.Plot(ret1_nums_pie, responsive=True),\n",
    "                        dp.Text('If we convert retention rates into retention counts we will discover that verison gate 30 and '\\\n",
    "                                'version gate 40 retained 4350 and 4373 users respectively. There is a minimal increase of retained ' \\\n",
    "                                'users from version gate 40 with a difference of 23 users, this amounts to a 0.53% increase. As can '\\\n",
    "                                'be seen there is only 0.2% between versions for the percentage of total users retained after 1 day of '\\\n",
    "                                'installation.'),\n",
    "                        columns=2\n",
    "                    ),\n",
    "                    dp.Group(\n",
    "                        dp.BigNumber(\n",
    "                            heading='Gate 40 increase in retained users:',\n",
    "                            value='23 Users'\n",
    "                        ),\n",
    "                        dp.BigNumber(\n",
    "                            heading='Gate 40 percentage increase in retained users:',\n",
    "                            value='0.53%'\n",
    "                        ),\n",
    "                        columns=2\n",
    "                    ),\n",
    "                    dp.Divider(),\n",
    "                    dp.Group(\n",
    "                        dp.Text('For both versions we can see that the percentage of game rounds played for retained and non '\\\n",
    "                                'retained users after 1 day of installation are approximately the same, leading to a conclusion '\\\n",
    "                                'that version gate 40 did not increase game play for users who returned to play after 1 day of installation '\\\n",
    "                                'but also there is narrowly any difference between versions.'),\n",
    "                        dp.Plot(ret_1_game_pct, responsive=True),\n",
    "                        columns=2\n",
    "                    ),\n",
    "                    label='Retention 1'\n",
    "                ),\n",
    "                # 7 day retention rate tab\n",
    "                dp.Group(\n",
    "                    dp.Text('### Retention Rates After 7 Days of Installation'),\n",
    "                    dp.Divider(),\n",
    "                    dp.Group(\n",
    "                        dp.Plot(ret_7_chart, responsive=True),\n",
    "                        dp.Text('Again we can observe a minute difference between version retention rates with versions gate 30 '\\\n",
    "                                'and gate 40 having approx. 18.84% and 18.75% retention rates respectively. This amounts to '\\\n",
    "                                'version gate 40 having a decreased difference of -0.11% and a percentage decrease of 0.58%.'),\n",
    "                        columns=2\n",
    "                    ),\n",
    "                    dp.Group(\n",
    "                        dp.BigNumber(\n",
    "                            heading='Gate 30 Retention Rate After 7 Days', \n",
    "                            value=f\"{np.round(retention_7_rates['retention_rate']['gate_30'],2)}%\"\n",
    "                        ),\n",
    "                        dp.BigNumber(\n",
    "                            heading='Gate 40 Retention Rate After 7 Days', \n",
    "                            value=f\"{np.round(retention_7_rates['retention_rate']['gate_40'],2)}%\"\n",
    "                        ), columns=2\n",
    "                    ),\n",
    "                    dp.Divider(),\n",
    "                    dp.Group(\n",
    "                        dp.Text('Of the total users that were retained after 7 days of installation during the 14 day testing '\\\n",
    "                                'period gate 30 and gate 40 accounted for 50.1% and 49.9% of the retained users respectively, This '\\\n",
    "                                'amounted to 1836 and 1828 users respectively. This gives version gate 40 a decrease of 8 users '\\\n",
    "                                'over version gate 30 which is an approx. 0.44 percentage decrease in users retained.'),\n",
    "                        dp.Plot(ret7_nums_pie, responsive=True),\n",
    "                        columns=2\n",
    "                    ),\n",
    "                    dp.Group(\n",
    "                        dp.BigNumber(\n",
    "                            heading='Gate 40 decrease in retained user:',\n",
    "                            value=ret_diff_7\n",
    "                        ),\n",
    "                        dp.BigNumber(\n",
    "                            heading='Gate 40 percentage decrease in retained users:',\n",
    "                            value=f'{ret7_pct_inc}%'\n",
    "                        ),\n",
    "                        columns=2\n",
    "                    ),\n",
    "                    dp.Divider(),\n",
    "                    dp.Group(\n",
    "                        dp.Plot(ret7_game_pct, responsive=True),\n",
    "                        dp.Text('Again we can observe the percentage of game rounds played by users retained and non retained after 7 '\\\n",
    "                                'days of installation per version are approximately the same, with gate 40 showing a slight decrease '\\\n",
    "                                'in the percentage of games rounds played for retained users and a slight increase for game rounds '\\\n",
    "                                'played for users non retained after 7 days. This leads us to believe that gate 40 does not increase game '\\\n",
    "                                'rounds played for retained users after 7 days but also that there is again narrowly any difference between versions.'),\n",
    "                        columns=2\n",
    "                    ),\n",
    "                    label='Retention 7'\n",
    "                )\n",
    "            ]),\n",
    "        title='Analysis'\n",
    "    ),\n",
    "    # hypothesis test page\n",
    "    dp.Page(\n",
    "        dp.Select(\n",
    "            # sum_gamerounds hypothesis test\n",
    "            dp.Group(\n",
    "                dp.Text('Our first test was to test the difference between average game rounds played for each version, '\\\n",
    "                        'initially we found that version gate 40 had on average a higher number of games played (52.6) '\\\n",
    "                        'compared to version gate 30 (50.8).'),\n",
    "                dp.Text('We opted for a two tailed hypothesis test as we were uncertain of whether the new game feature would perform '\n",
    "                        'better or worse than the original feature.'),\n",
    "                dp.Text('The parameters for our hypothesis test were:'),\n",
    "                dp.Text('***Null Hypothesis (H0)***: There is no difference between version game play averages'),\n",
    "                dp.Text('***Alternate Hypothesis (Ha)***: There is a difference between version game play averages'),\n",
    "                dp.Text('***Confidence Level***: 95%, we have a 95% chance of detecting an effect if there is one.'),\n",
    "                dp.Text('***Significance Level***: 5%, if the p-value (probability of observing a difference between game play as great '\\\n",
    "                        'as the difference we observed) is less than 5% then we can reject the null hypothesis and state that there is '\\\n",
    "                        'a statistically significant difference between version game play'),\n",
    "                dp.Text('As the data are non normally distributed we performed a non parametric test as they do not require assumptions of '\\\n",
    "                        'normality. The mann whitney u test was our test of choice.'),\n",
    "                dp.Divider(),\n",
    "                dp.Text(\"\"\"### Hypothesis Test\"\"\"),\n",
    "                dp.Group(\n",
    "                    dp.Text('From our test results we obtained a p-value of approx. 0.4 or 40%, this means that on average we '\\\n",
    "                            'can expect to see a difference as large as the one we observed 40% of the time. This is way above our '\\\n",
    "                            'significanace level of 5% and therefore we fail to reject the null hypothesis and state that there is '\\\n",
    "                            'statistically no difference between the game play of both versions.'),\n",
    "                    dp.BigNumber(\n",
    "                        heading='P value for difference in game play averages',\n",
    "                        value=np.round(0.39649082460452945, 2)\n",
    "                    ),\n",
    "                    columns=2\n",
    "                ),\n",
    "                dp.Divider(),\n",
    "                dp.Text(\"\"\"### Confidence Interval\"\"\"),\n",
    "                dp.Group(\n",
    "                    dp.BigNumber(\n",
    "                        heading='95% CI Lower Bound',\n",
    "                        value=-1.003128547029331\n",
    "                    ),\n",
    "                    dp.BigNumber(\n",
    "                        heading='95% CI Upper Bound',\n",
    "                        value=4.595823735292381\n",
    "                    ),\n",
    "                    columns=2\n",
    "                ),\n",
    "                dp.Text('A 95% confidence interval also confirms our test results as the null value (0) is within the bounds of the interval. '\\\n",
    "                        'This means that if we were to run the experiment again we have a good chance of finding no difference between versions.'),\n",
    "                label='Sum Game Rounds'\n",
    "            ),\n",
    "            # retention_1 hypothesis test\n",
    "            dp.Group(\n",
    "                dp.Text('Next we performed a hypothesis test for the difference in proportions for each version for the one '\\\n",
    "                        'day retention flag (retention_1). Initially we found that, although minimal, version gate 40 had a '\\\n",
    "                        'higher retention rate (approx. 44.87%) compared to version gate 30 (approx. 44.63%).'),\n",
    "                dp.Text('Again we opted for a two tailed test as we were unsure of the performance of the new version.'),\n",
    "                dp.Text('The parameters for the hypothesis test were:'),\n",
    "                dp.Text('***Null Hypothesis (H0)***: There is no difference between version retention rate proportions'),\n",
    "                dp.Text('***Alternate Hypothesis (Ha)***: There is a difference between version retention rate proportions'),\n",
    "                dp.Text('***Confidence Level***: 95%, we have a 95% chance of detecting an effect if there is one.'),\n",
    "                dp.Text('***Significance Level***: 5%, if the p-value (probability of observing a difference between game play as great '\\\n",
    "                        'as the difference we observed) is less than 5% then we can reject the null hypothesis and state that there is '\\\n",
    "                        'a statistically significant difference between version game play'),\n",
    "                dp.Text('As all assumptions are met our choice of test was a two sample z test.'),\n",
    "                dp.Divider(),\n",
    "                dp.Text(\"\"\"### Hypothesis Test\"\"\"),\n",
    "                dp.Group(\n",
    "                    dp.Text('From the test we obtained a p-value of 0.74 meaning we will see a difference as great as or more than our observed '\\\n",
    "                            'difference 74% of the time, as this is well above our 5% significance level threshold we fail to reject the null '\\\n",
    "                            'hypothesis and state that there is no difference between version proportions.'),\n",
    "                    dp.BigNumber(\n",
    "                        heading='P value for difference in retention rates',\n",
    "                        value=np.round(0.740420235220633, 2)\n",
    "                    ),\n",
    "                    columns=2\n",
    "                ),\n",
    "                dp.Divider(),\n",
    "                dp.Text(\"\"\"### Confidence Intervals\"\"\"),\n",
    "                dp.Text(\"\"\"#### Gate 40 retention rate confidence interval\"\"\"),\n",
    "                dp.Group(\n",
    "                    dp.BigNumber(\n",
    "                        heading='Retention Rate 95% CI Lower Bound:',\n",
    "                        value=f'{np.round(0.4387771604754418*100,2)}%'\n",
    "                    ),\n",
    "                    dp.BigNumber(\n",
    "                        heading='Retention Rate 95% CI Upper Bound:',\n",
    "                        value=f'{np.round(0.4585245733913891*100, 2)}%'\n",
    "                    ),\n",
    "                    columns=2\n",
    "                ),\n",
    "                dp.Text('Computing a 95% confidence interval for gate 40 retention rate we can observe the current '\\\n",
    "                        'retention rate of 45% is within the bounds but the 2% uplift in retention rates of 47% is not '\\\n",
    "                        'within the interval. This means we are not likely to achieve the desired uplift as if we were to '\\\n",
    "                        'repeatedly redo the experiment with new data and calculate the retention rate proportions, 95% '\\\n",
    "                        'of those proportions would fall inside the bounds of this confidence interval.'),\n",
    "                dp.Text(\"\"\"#### Confidence interval for difference in proportions\"\"\"),\n",
    "                dp.Group(\n",
    "                    dp.BigNumber(\n",
    "                        heading='95% CI Lower Bound',\n",
    "                        value=-0.016319987557399836\n",
    "                    ),\n",
    "                    dp.BigNumber(\n",
    "                        heading='95% CI Upper Bound',\n",
    "                        value=0.011600586716115309\n",
    "                    ),\n",
    "                    columns=2\n",
    "                ),\n",
    "                dp.Text('From computing a 95% confidence interval we can observe the null value (0) is within the bounds of the '\\\n",
    "                        'interval. If we ran repeat experiments with new data we again are likely to find no difference.'),\n",
    "                label='Retention 1'\n",
    "            ),\n",
    "            # retention_7 hypothesis test\n",
    "            dp.Group(\n",
    "                dp.Text('For the 7 day retention flag (retention_7) we again performed a hypothesis test for the difference '\\\n",
    "                        'in proportions between both versions. Initially we found that gate 30 had a minimal increase over '\\\n",
    "                        'gate 40 with retention rates of approx. 18.84% and 18.75% respectively.'),\n",
    "                dp.Text('We again opted for a two tailed test and as for the 1 day retention flag test our parameters are:'),\n",
    "                dp.Text('***Null Hypothesis (H0)***: There is no difference between version retention rate proportions'),\n",
    "                dp.Text('***Alternate Hypothesis (Ha)***: There is a difference between version retention rate proportions'),\n",
    "                dp.Text('***Confidence Level***: 95%, we have a 95% chance of detecting an effect if there is one.'),\n",
    "                dp.Text('***Significance Level***: 5%, if the p-value (probability of observing a difference between game play as great '\\\n",
    "                        'as the difference we observed) is less than 5% then we can reject the null hypothesis and state that there is '\\\n",
    "                        'a statistically significant difference between version game play'),\n",
    "                dp.Text('As all assumptions are met our choice of test was a two sample z test.'),\n",
    "                dp.Divider(),\n",
    "                dp.Text('### Hypothesis Test'),\n",
    "                dp.Group(\n",
    "                    dp.Text('The p-value we obtained from the hypothesis test was 0.88, this means that we can expect to see a '\\\n",
    "                            'difference between proportions as great as or more than our observed difference 88% of the time. Again '\\\n",
    "                            'the p-value is well above our significance threshold of 5% and we fail to reject the null hypothesis and '\\\n",
    "                            'state that there is no difference between version proportions.'),\n",
    "                    dp.BigNumber(\n",
    "                        heading='P value for difference in retention rates:',\n",
    "                        value=np.round(0.8833975676439857, 2)\n",
    "                    ),\n",
    "                    columns=2\n",
    "                ),\n",
    "                dp.Divider(),\n",
    "                dp.Text('### Confidence Intervals'),\n",
    "                dp.Text('#### Gate 40 Retention Rate Confidence Interval'),\n",
    "                dp.Group(\n",
    "                    dp.BigNumber(\n",
    "                        heading=('95% CI lower Bound:'),\n",
    "                        value=f'{np.round(0.17979554215753307*100, 2)}%'\n",
    "                    ),\n",
    "                    dp.BigNumber(\n",
    "                        heading='85% CI upper bound:',\n",
    "                        value=f'{np.round(0.1952942290541218*100, 2)}%'\n",
    "                    ),\n",
    "                    columns= 2\n",
    "                ),\n",
    "                dp.Text('From the above 95% confidence interval we can observe that the current retention rate of 20% is '\\\n",
    "                        'not within the bounds of the interval which means that the new feature is likely to decrease '\\\n",
    "                        'retention rates. Also the 2% uplift is not within the interval bounds, which means we are not '\\\n",
    "                        'likely to achieve the desired retention rate of 22% from changing the feature.'),\n",
    "                dp.Text('#### Confidence Interval For Difference in Proportions'),\n",
    "                dp.Group(\n",
    "                    dp.BigNumber(\n",
    "                        heading='95% Confidence Interval Lower Bound:',\n",
    "                        value=-0.010147869381593835\n",
    "                    ),\n",
    "                    dp.BigNumber(\n",
    "                        heading='95% Confidence Interval Upper Bound',\n",
    "                        value=0.011789400108997141\n",
    "                    ),\n",
    "                    columns=2\n",
    "                ),\n",
    "                dp.Text('From the 95% confidence interval computed above we can observe the null value (0) is within '\\\n",
    "                        'the bounds of the interval. This means if we ran repeat experiments with new data we are again '\\\n",
    "                         'likely to find no difference.'),\n",
    "                label='Retention 7'\n",
    "            )\n",
    "        ),\n",
    "        title='Hypothesis Test'\n",
    "    ),\n",
    "    dp.Page(\n",
    "        dp.Text('### Conclusion'),\n",
    "        dp.Text('From our analysis of the test variables for each game version we can notice that there really is not a great '\\\n",
    "                'deal of difference between user interactivity for both game features. '\\\n",
    "                'We found Retetion rates after 1 day and 7 days of installation are approximately the same, with the percentage '\\\n",
    "                'increase of retained users for either game feature being only minimal. Aswell as game rounds played for '\\\n",
    "                'non-retained and retained users are also approximately the same. '\\\n",
    "                'We did find that the new feature had a 3.54% increase in game rounds played, but after breaking down game rounds '\\\n",
    "                'played for retention type we could observe that the percentages of game rounds played were near enough the same '\\\n",
    "                'for each retention type. This increase could be due to the move in checkpoint meaning users having longer to reach the '\\\n",
    "                'checkpoint and potentially not making it and having to restart.'),\n",
    "        dp.Text('Our Hypothesis test for the difference in average game rounds played for the ***sumgame_rounds*** variable revealed that we '\\\n",
    "                'are likely to see a difference as large as the one observed ***40%*** of the time, which leads us to state that '\\\n",
    "                'statistically there is ***no difference between version average game play***.'),\n",
    "        dp.Text('The hypothesis test conducted for the difference in retention proportions for the ***retention_1*** variable revealed that '\\\n",
    "                'we are likely to see a difference as large as the one observed ***74%*** of the time, which leads us to state that '\\\n",
    "                'statistically there is ***no difference between version 1 day retention proportions***.'),\n",
    "        dp.Text('The hypothesis test conducted for the difference in retention proportions for the ***retention_7*** variable revealed that '\\\n",
    "                'we are likely to see a difference as large as the one observed ***88%*** of the time, which leads us to state that '\\\n",
    "                'statistically there is ***no difference between version 7 day retention proportions***.'),\n",
    "        dp.Text('Based on the analysis and test outcomes we feel it is advisable for the company to not incorporate the new game feature '\\\n",
    "                'into the game as we do not have strong enough evidence to suggest the new feature performs better. To conclude, '\\\n",
    "                '***the new feature statistically has no difference in user game play or user retention from the original feature***.'),\n",
    "        title='Conclusion'\n",
    "    )\n",
    ")\n",
    "report.preview(open=False, \n",
    "          formatting=dp.ReportFormatting(\n",
    "              text_alignment=dp.TextAlignment.CENTER\n",
    "              #bg_color='#84AFE6'\n",
    "          ))"
   ]
  }
 ],
 "metadata": {
  "kernelspec": {
   "display_name": "Python 3 (ipykernel)",
   "language": "python",
   "name": "python3"
  },
  "language_info": {
   "codemirror_mode": {
    "name": "ipython",
    "version": 3
   },
   "file_extension": ".py",
   "mimetype": "text/x-python",
   "name": "python",
   "nbconvert_exporter": "python",
   "pygments_lexer": "ipython3",
   "version": "3.9.12"
  },
  "toc": {
   "base_numbering": 1,
   "nav_menu": {},
   "number_sections": true,
   "sideBar": true,
   "skip_h1_title": false,
   "title_cell": "Table of Contents",
   "title_sidebar": "Contents",
   "toc_cell": false,
   "toc_position": {
    "height": "calc(100% - 180px)",
    "left": "10px",
    "top": "150px",
    "width": "234.2px"
   },
   "toc_section_display": true,
   "toc_window_display": true
  }
 },
 "nbformat": 4,
 "nbformat_minor": 5
}
