{
 "cells": [
  {
   "cell_type": "code",
   "execution_count": 1,
   "id": "807a2bc6",
   "metadata": {
    "ExecuteTime": {
     "end_time": "2022-09-09T21:22:10.875854Z",
     "start_time": "2022-09-09T21:22:10.856524Z"
    }
   },
   "outputs": [],
   "source": [
    "import pandas as pd\n",
    "import mitosheet"
   ]
  },
  {
   "cell_type": "markdown",
   "id": "dd1ef63e",
   "metadata": {},
   "source": [
    "This notebook cleans csv data in order to be ready for sql database."
   ]
  },
  {
   "cell_type": "markdown",
   "id": "5ea78f80",
   "metadata": {},
   "source": [
    "# Clean Geolocation Data"
   ]
  },
  {
   "cell_type": "markdown",
   "id": "7b9bfbc9",
   "metadata": {},
   "source": [
    "Clean geolocation_city as there are multiple spellings of some cities, containing portuguese spellings aswell as english spellings. Keep city spellings consistent with english spelling."
   ]
  },
  {
   "cell_type": "code",
   "execution_count": 2,
   "id": "bdf15889",
   "metadata": {
    "ExecuteTime": {
     "end_time": "2022-07-25T20:25:12.886090Z",
     "start_time": "2022-07-25T20:25:12.319073Z"
    }
   },
   "outputs": [],
   "source": [
    "geo_data = pd.read_csv('olist_geolocation_dataset.csv/olist_geolocation_dataset.csv')"
   ]
  },
  {
   "cell_type": "code",
   "execution_count": 3,
   "id": "4bbbe769",
   "metadata": {
    "ExecuteTime": {
     "end_time": "2022-07-25T20:25:19.614758Z",
     "start_time": "2022-07-25T20:25:19.577524Z"
    }
   },
   "outputs": [
    {
     "data": {
      "text/html": [
       "<div>\n",
       "<style scoped>\n",
       "    .dataframe tbody tr th:only-of-type {\n",
       "        vertical-align: middle;\n",
       "    }\n",
       "\n",
       "    .dataframe tbody tr th {\n",
       "        vertical-align: top;\n",
       "    }\n",
       "\n",
       "    .dataframe thead th {\n",
       "        text-align: right;\n",
       "    }\n",
       "</style>\n",
       "<table border=\"1\" class=\"dataframe\">\n",
       "  <thead>\n",
       "    <tr style=\"text-align: right;\">\n",
       "      <th></th>\n",
       "      <th>geolocation_zip_code_prefix</th>\n",
       "      <th>geolocation_lat</th>\n",
       "      <th>geolocation_lng</th>\n",
       "      <th>geolocation_city</th>\n",
       "      <th>geolocation_state</th>\n",
       "    </tr>\n",
       "  </thead>\n",
       "  <tbody>\n",
       "    <tr>\n",
       "      <th>0</th>\n",
       "      <td>1037</td>\n",
       "      <td>-23.545621</td>\n",
       "      <td>-46.639292</td>\n",
       "      <td>sao paulo</td>\n",
       "      <td>SP</td>\n",
       "    </tr>\n",
       "    <tr>\n",
       "      <th>1</th>\n",
       "      <td>1046</td>\n",
       "      <td>-23.546081</td>\n",
       "      <td>-46.644820</td>\n",
       "      <td>sao paulo</td>\n",
       "      <td>SP</td>\n",
       "    </tr>\n",
       "    <tr>\n",
       "      <th>2</th>\n",
       "      <td>1046</td>\n",
       "      <td>-23.546129</td>\n",
       "      <td>-46.642951</td>\n",
       "      <td>sao paulo</td>\n",
       "      <td>SP</td>\n",
       "    </tr>\n",
       "    <tr>\n",
       "      <th>3</th>\n",
       "      <td>1041</td>\n",
       "      <td>-23.544392</td>\n",
       "      <td>-46.639499</td>\n",
       "      <td>sao paulo</td>\n",
       "      <td>SP</td>\n",
       "    </tr>\n",
       "    <tr>\n",
       "      <th>4</th>\n",
       "      <td>1035</td>\n",
       "      <td>-23.541578</td>\n",
       "      <td>-46.641607</td>\n",
       "      <td>sao paulo</td>\n",
       "      <td>SP</td>\n",
       "    </tr>\n",
       "  </tbody>\n",
       "</table>\n",
       "</div>"
      ],
      "text/plain": [
       "   geolocation_zip_code_prefix  geolocation_lat  geolocation_lng  \\\n",
       "0                         1037       -23.545621       -46.639292   \n",
       "1                         1046       -23.546081       -46.644820   \n",
       "2                         1046       -23.546129       -46.642951   \n",
       "3                         1041       -23.544392       -46.639499   \n",
       "4                         1035       -23.541578       -46.641607   \n",
       "\n",
       "  geolocation_city geolocation_state  \n",
       "0        sao paulo                SP  \n",
       "1        sao paulo                SP  \n",
       "2        sao paulo                SP  \n",
       "3        sao paulo                SP  \n",
       "4        sao paulo                SP  "
      ]
     },
     "execution_count": 3,
     "metadata": {},
     "output_type": "execute_result"
    }
   ],
   "source": [
    "geo_data.head()"
   ]
  },
  {
   "cell_type": "code",
   "execution_count": 10,
   "id": "3be57022",
   "metadata": {
    "ExecuteTime": {
     "end_time": "2022-07-25T20:27:38.691685Z",
     "start_time": "2022-07-25T20:27:38.677351Z"
    }
   },
   "outputs": [
    {
     "data": {
      "text/plain": [
       "(1000163, 5)"
      ]
     },
     "execution_count": 10,
     "metadata": {},
     "output_type": "execute_result"
    }
   ],
   "source": [
    "geo_data.shape"
   ]
  },
  {
   "cell_type": "markdown",
   "id": "a412689a",
   "metadata": {},
   "source": [
    "Group the zip code prefixes and take the average latitude/longditude coordinates for each zip code. This will make data aggregation better in the database as we dont require increased granularity."
   ]
  },
  {
   "cell_type": "code",
   "execution_count": 40,
   "id": "25306074",
   "metadata": {
    "ExecuteTime": {
     "end_time": "2022-07-25T21:16:55.952785Z",
     "start_time": "2022-07-25T21:16:55.639258Z"
    }
   },
   "outputs": [],
   "source": [
    "# group geolocation data by zip code prefix, avg lat lng coords\n",
    "geo_loc_grouped = geo_data.groupby('geolocation_zip_code_prefix').agg({'geolocation_lat': 'mean', 'geolocation_lng': 'mean'})\n",
    "# join initial data to grouped geo data\n",
    "geo_loc_joined = geo_loc_grouped.join(geo_data.set_index('geolocation_zip_code_prefix'), on='geolocation_zip_code_prefix', how='left', lsuffix='_df1', rsuffix='_df2')\n",
    "# reset index\n",
    "geo_loc_joined = geo_loc_joined.reset_index()\n",
    "# keep neccessary cols, drop duplicates zip codes\n",
    "geo_loc_clean = geo_loc_joined.iloc[:,[0,1,2,5,6]].drop_duplicates(subset='geolocation_zip_code_prefix', keep='first')\n",
    "# change columns names\n",
    "geo_loc_clean.columns = ['geolocation_zip_code_prefix','geolocation_lat', 'geolocation_lng', 'geolocation_city', 'geolocation_state']\n",
    "# reset index\n",
    "geo_loc_clean = geo_loc_clean.reset_index(drop=True)\n",
    "# save to csv\n",
    "geo_loc_clean.to_csv('olist_geolocation_dataset.csv/olist_geoloc_clean.csv', index=False, encoding='utf-8')"
   ]
  },
  {
   "cell_type": "code",
   "execution_count": 97,
   "id": "1861b9d7",
   "metadata": {
    "ExecuteTime": {
     "end_time": "2022-07-26T21:33:56.026322Z",
     "start_time": "2022-07-26T21:33:55.985224Z"
    }
   },
   "outputs": [],
   "source": [
    "clean_geo_data = pd.read_csv('olist_geolocation_dataset.csv/olist_geoloc_clean.csv')"
   ]
  },
  {
   "cell_type": "markdown",
   "id": "b7ff0bd9",
   "metadata": {},
   "source": [
    "Replace special characters with english characters."
   ]
  },
  {
   "cell_type": "code",
   "execution_count": 98,
   "id": "747a8ecc",
   "metadata": {
    "ExecuteTime": {
     "end_time": "2022-07-26T21:34:04.266515Z",
     "start_time": "2022-07-26T21:34:04.192644Z"
    }
   },
   "outputs": [],
   "source": [
    "## clean geolocation_city\n",
    "# replace ã with a\n",
    "def replace_ã(s):\n",
    "    return s.replace('ã', 'a')\n",
    "clean_geo_data['geolocation_city'] = list(map(replace_ã, clean_geo_data['geolocation_city']))\n",
    "# replace ç with c\n",
    "def replace_ç(s):\n",
    "    return s.replace('ç', 'c')\n",
    "clean_geo_data['geolocation_city'] = list(map(replace_ç, clean_geo_data['geolocation_city']))\n",
    "# replace é with e\n",
    "def replace_é(s):\n",
    "    return s.replace('é', 'e')\n",
    "clean_geo_data['geolocation_city'] = list(map(replace_é, clean_geo_data['geolocation_city']))\n",
    "# replace õ with o\n",
    "def replace_õ(s):\n",
    "    return s.replace('õ', 'o')\n",
    "clean_geo_data['geolocation_city'] = list(map(replace_õ, clean_geo_data['geolocation_city']))\n",
    "# replace í with i\n",
    "def replace_í(s):\n",
    "    return s.replace('í', 'i')\n",
    "clean_geo_data['geolocation_city'] = list(map(replace_í, clean_geo_data['geolocation_city']))\n",
    "# replace á with a\n",
    "def replace_á(s):\n",
    "    return s.replace('á', 'a')\n",
    "clean_geo_data['geolocation_city'] = list(map(replace_á, clean_geo_data['geolocation_city']))\n",
    "# replace ó with o\n",
    "def replace_ó(s):\n",
    "    return s.replace('ó', 'o')\n",
    "clean_geo_data['geolocation_city'] = list(map(replace_ó, clean_geo_data['geolocation_city']))\n",
    "# replace â with a\n",
    "def replace_â(s):\n",
    "    return s.replace('â', 'a')\n",
    "clean_geo_data['geolocation_city'] = list(map(replace_â, clean_geo_data['geolocation_city']))\n",
    "# replace - with ' '\n",
    "def replace_hyphon(s):\n",
    "    return s.replace('-', ' ')\n",
    "clean_geo_data['geolocation_city'] = list(map(replace_hyphon, clean_geo_data['geolocation_city']))\n",
    "# replace ê with e\n",
    "def replace_ê(s):\n",
    "    return s.replace('ê', 'e')\n",
    "clean_geo_data['geolocation_city'] = list(map(replace_ê, clean_geo_data['geolocation_city']))\n",
    "# replace ú with u\n",
    "def replace_ú(s):\n",
    "    return s.replace('ú', 'u')\n",
    "clean_geo_data['geolocation_city'] = list(map(replace_ú, clean_geo_data['geolocation_city']))\n",
    "# replace ü with u\n",
    "def replace_ü(s):\n",
    "    return s.replace('ü', 'u')\n",
    "clean_geo_data['geolocation_city'] = list(map(replace_ü, clean_geo_data['geolocation_city']))\n"
   ]
  },
  {
   "cell_type": "code",
   "execution_count": 9,
   "id": "a45689f7",
   "metadata": {
    "ExecuteTime": {
     "end_time": "2022-08-05T14:44:44.042747Z",
     "start_time": "2022-08-05T14:44:44.026912Z"
    }
   },
   "outputs": [],
   "source": [
    "# replace 'rio de janeiro, rio de janeiro, brasil' with 'rio de janeiro'\n",
    "mask_idx = clean_geo_data.query(\"geolocation_city == 'rio de janeiro, rio de janeiro, brasil'\").index\n",
    "clean_geo_data.loc[mask_idx, 'geolocation_city'] = 'rio de janeiro'"
   ]
  },
  {
   "cell_type": "code",
   "execution_count": 13,
   "id": "c322d532",
   "metadata": {
    "ExecuteTime": {
     "end_time": "2022-08-05T14:46:32.664038Z",
     "start_time": "2022-08-05T14:46:32.565228Z"
    }
   },
   "outputs": [],
   "source": [
    "# save data\n",
    "clean_geo_data.to_csv('olist_geolocation_dataset.csv/olist_geoloc_clean.csv', index=False, encoding='utf-8')"
   ]
  },
  {
   "cell_type": "markdown",
   "id": "cf55a0e5",
   "metadata": {},
   "source": [
    "# Clean Products Data"
   ]
  },
  {
   "cell_type": "markdown",
   "id": "750985a1",
   "metadata": {},
   "source": [
    "Clean product_name_category as category names are in portuguese, we will translate these into english."
   ]
  },
  {
   "cell_type": "code",
   "execution_count": 57,
   "id": "a376131a",
   "metadata": {
    "ExecuteTime": {
     "end_time": "2022-08-05T15:28:06.173548Z",
     "start_time": "2022-08-05T15:28:06.126265Z"
    }
   },
   "outputs": [],
   "source": [
    "# load product data\n",
    "prod_data = pd.read_csv('olist_products_dataset.csv/olist_products_dataset.csv')"
   ]
  },
  {
   "cell_type": "code",
   "execution_count": 58,
   "id": "b5a90e40",
   "metadata": {
    "ExecuteTime": {
     "end_time": "2022-08-05T15:28:08.049370Z",
     "start_time": "2022-08-05T15:28:08.033785Z"
    }
   },
   "outputs": [],
   "source": [
    "# load translation data\n",
    "trans_data = pd.read_csv('product_category_name_translation.csv')"
   ]
  },
  {
   "cell_type": "code",
   "execution_count": 22,
   "id": "999abac7",
   "metadata": {
    "ExecuteTime": {
     "end_time": "2022-08-05T15:02:57.597099Z",
     "start_time": "2022-08-05T15:02:57.562404Z"
    },
    "scrolled": false
   },
   "outputs": [
    {
     "data": {
      "text/html": [
       "<div>\n",
       "<style scoped>\n",
       "    .dataframe tbody tr th:only-of-type {\n",
       "        vertical-align: middle;\n",
       "    }\n",
       "\n",
       "    .dataframe tbody tr th {\n",
       "        vertical-align: top;\n",
       "    }\n",
       "\n",
       "    .dataframe thead th {\n",
       "        text-align: right;\n",
       "    }\n",
       "</style>\n",
       "<table border=\"1\" class=\"dataframe\">\n",
       "  <thead>\n",
       "    <tr style=\"text-align: right;\">\n",
       "      <th></th>\n",
       "      <th>product_id</th>\n",
       "      <th>product_category_name</th>\n",
       "      <th>product_name_length</th>\n",
       "      <th>product_description_length</th>\n",
       "      <th>product_photos_qty</th>\n",
       "      <th>product_weight_g</th>\n",
       "      <th>product_length_cm</th>\n",
       "      <th>product_height_cm</th>\n",
       "      <th>product_width_cm</th>\n",
       "    </tr>\n",
       "  </thead>\n",
       "  <tbody>\n",
       "    <tr>\n",
       "      <th>0</th>\n",
       "      <td>1e9e8ef04dbcff4541ed26657ea517e5</td>\n",
       "      <td>perfumaria</td>\n",
       "      <td>40.0</td>\n",
       "      <td>287.0</td>\n",
       "      <td>1.0</td>\n",
       "      <td>225.0</td>\n",
       "      <td>16.0</td>\n",
       "      <td>10.0</td>\n",
       "      <td>14.0</td>\n",
       "    </tr>\n",
       "    <tr>\n",
       "      <th>1</th>\n",
       "      <td>3aa071139cb16b67ca9e5dea641aaa2f</td>\n",
       "      <td>artes</td>\n",
       "      <td>44.0</td>\n",
       "      <td>276.0</td>\n",
       "      <td>1.0</td>\n",
       "      <td>1000.0</td>\n",
       "      <td>30.0</td>\n",
       "      <td>18.0</td>\n",
       "      <td>20.0</td>\n",
       "    </tr>\n",
       "    <tr>\n",
       "      <th>2</th>\n",
       "      <td>96bd76ec8810374ed1b65e291975717f</td>\n",
       "      <td>esporte_lazer</td>\n",
       "      <td>46.0</td>\n",
       "      <td>250.0</td>\n",
       "      <td>1.0</td>\n",
       "      <td>154.0</td>\n",
       "      <td>18.0</td>\n",
       "      <td>9.0</td>\n",
       "      <td>15.0</td>\n",
       "    </tr>\n",
       "    <tr>\n",
       "      <th>3</th>\n",
       "      <td>cef67bcfe19066a932b7673e239eb23d</td>\n",
       "      <td>bebes</td>\n",
       "      <td>27.0</td>\n",
       "      <td>261.0</td>\n",
       "      <td>1.0</td>\n",
       "      <td>371.0</td>\n",
       "      <td>26.0</td>\n",
       "      <td>4.0</td>\n",
       "      <td>26.0</td>\n",
       "    </tr>\n",
       "    <tr>\n",
       "      <th>4</th>\n",
       "      <td>9dc1a7de274444849c219cff195d0b71</td>\n",
       "      <td>utilidades_domesticas</td>\n",
       "      <td>37.0</td>\n",
       "      <td>402.0</td>\n",
       "      <td>4.0</td>\n",
       "      <td>625.0</td>\n",
       "      <td>20.0</td>\n",
       "      <td>17.0</td>\n",
       "      <td>13.0</td>\n",
       "    </tr>\n",
       "    <tr>\n",
       "      <th>...</th>\n",
       "      <td>...</td>\n",
       "      <td>...</td>\n",
       "      <td>...</td>\n",
       "      <td>...</td>\n",
       "      <td>...</td>\n",
       "      <td>...</td>\n",
       "      <td>...</td>\n",
       "      <td>...</td>\n",
       "      <td>...</td>\n",
       "    </tr>\n",
       "    <tr>\n",
       "      <th>32946</th>\n",
       "      <td>a0b7d5a992ccda646f2d34e418fff5a0</td>\n",
       "      <td>moveis_decoracao</td>\n",
       "      <td>45.0</td>\n",
       "      <td>67.0</td>\n",
       "      <td>2.0</td>\n",
       "      <td>12300.0</td>\n",
       "      <td>40.0</td>\n",
       "      <td>40.0</td>\n",
       "      <td>40.0</td>\n",
       "    </tr>\n",
       "    <tr>\n",
       "      <th>32947</th>\n",
       "      <td>bf4538d88321d0fd4412a93c974510e6</td>\n",
       "      <td>construcao_ferramentas_iluminacao</td>\n",
       "      <td>41.0</td>\n",
       "      <td>971.0</td>\n",
       "      <td>1.0</td>\n",
       "      <td>1700.0</td>\n",
       "      <td>16.0</td>\n",
       "      <td>19.0</td>\n",
       "      <td>16.0</td>\n",
       "    </tr>\n",
       "    <tr>\n",
       "      <th>32948</th>\n",
       "      <td>9a7c6041fa9592d9d9ef6cfe62a71f8c</td>\n",
       "      <td>cama_mesa_banho</td>\n",
       "      <td>50.0</td>\n",
       "      <td>799.0</td>\n",
       "      <td>1.0</td>\n",
       "      <td>1400.0</td>\n",
       "      <td>27.0</td>\n",
       "      <td>7.0</td>\n",
       "      <td>27.0</td>\n",
       "    </tr>\n",
       "    <tr>\n",
       "      <th>32949</th>\n",
       "      <td>83808703fc0706a22e264b9d75f04a2e</td>\n",
       "      <td>informatica_acessorios</td>\n",
       "      <td>60.0</td>\n",
       "      <td>156.0</td>\n",
       "      <td>2.0</td>\n",
       "      <td>700.0</td>\n",
       "      <td>31.0</td>\n",
       "      <td>13.0</td>\n",
       "      <td>20.0</td>\n",
       "    </tr>\n",
       "    <tr>\n",
       "      <th>32950</th>\n",
       "      <td>106392145fca363410d287a815be6de4</td>\n",
       "      <td>cama_mesa_banho</td>\n",
       "      <td>58.0</td>\n",
       "      <td>309.0</td>\n",
       "      <td>1.0</td>\n",
       "      <td>2083.0</td>\n",
       "      <td>12.0</td>\n",
       "      <td>2.0</td>\n",
       "      <td>7.0</td>\n",
       "    </tr>\n",
       "  </tbody>\n",
       "</table>\n",
       "<p>32951 rows × 9 columns</p>\n",
       "</div>"
      ],
      "text/plain": [
       "                             product_id              product_category_name  \\\n",
       "0      1e9e8ef04dbcff4541ed26657ea517e5                         perfumaria   \n",
       "1      3aa071139cb16b67ca9e5dea641aaa2f                              artes   \n",
       "2      96bd76ec8810374ed1b65e291975717f                      esporte_lazer   \n",
       "3      cef67bcfe19066a932b7673e239eb23d                              bebes   \n",
       "4      9dc1a7de274444849c219cff195d0b71              utilidades_domesticas   \n",
       "...                                 ...                                ...   \n",
       "32946  a0b7d5a992ccda646f2d34e418fff5a0                   moveis_decoracao   \n",
       "32947  bf4538d88321d0fd4412a93c974510e6  construcao_ferramentas_iluminacao   \n",
       "32948  9a7c6041fa9592d9d9ef6cfe62a71f8c                    cama_mesa_banho   \n",
       "32949  83808703fc0706a22e264b9d75f04a2e             informatica_acessorios   \n",
       "32950  106392145fca363410d287a815be6de4                    cama_mesa_banho   \n",
       "\n",
       "       product_name_length  product_description_length  product_photos_qty  \\\n",
       "0                     40.0                       287.0                 1.0   \n",
       "1                     44.0                       276.0                 1.0   \n",
       "2                     46.0                       250.0                 1.0   \n",
       "3                     27.0                       261.0                 1.0   \n",
       "4                     37.0                       402.0                 4.0   \n",
       "...                    ...                         ...                 ...   \n",
       "32946                 45.0                        67.0                 2.0   \n",
       "32947                 41.0                       971.0                 1.0   \n",
       "32948                 50.0                       799.0                 1.0   \n",
       "32949                 60.0                       156.0                 2.0   \n",
       "32950                 58.0                       309.0                 1.0   \n",
       "\n",
       "       product_weight_g  product_length_cm  product_height_cm  \\\n",
       "0                 225.0               16.0               10.0   \n",
       "1                1000.0               30.0               18.0   \n",
       "2                 154.0               18.0                9.0   \n",
       "3                 371.0               26.0                4.0   \n",
       "4                 625.0               20.0               17.0   \n",
       "...                 ...                ...                ...   \n",
       "32946           12300.0               40.0               40.0   \n",
       "32947            1700.0               16.0               19.0   \n",
       "32948            1400.0               27.0                7.0   \n",
       "32949             700.0               31.0               13.0   \n",
       "32950            2083.0               12.0                2.0   \n",
       "\n",
       "       product_width_cm  \n",
       "0                  14.0  \n",
       "1                  20.0  \n",
       "2                  15.0  \n",
       "3                  26.0  \n",
       "4                  13.0  \n",
       "...                 ...  \n",
       "32946              40.0  \n",
       "32947              16.0  \n",
       "32948              27.0  \n",
       "32949              20.0  \n",
       "32950               7.0  \n",
       "\n",
       "[32951 rows x 9 columns]"
      ]
     },
     "execution_count": 22,
     "metadata": {},
     "output_type": "execute_result"
    }
   ],
   "source": [
    "prod_data"
   ]
  },
  {
   "cell_type": "code",
   "execution_count": 27,
   "id": "f50b22fa",
   "metadata": {
    "ExecuteTime": {
     "end_time": "2022-08-05T15:09:36.903331Z",
     "start_time": "2022-08-05T15:09:36.890333Z"
    }
   },
   "outputs": [
    {
     "data": {
      "text/html": [
       "<div>\n",
       "<style scoped>\n",
       "    .dataframe tbody tr th:only-of-type {\n",
       "        vertical-align: middle;\n",
       "    }\n",
       "\n",
       "    .dataframe tbody tr th {\n",
       "        vertical-align: top;\n",
       "    }\n",
       "\n",
       "    .dataframe thead th {\n",
       "        text-align: right;\n",
       "    }\n",
       "</style>\n",
       "<table border=\"1\" class=\"dataframe\">\n",
       "  <thead>\n",
       "    <tr style=\"text-align: right;\">\n",
       "      <th></th>\n",
       "      <th>product_category_name</th>\n",
       "      <th>product_category_name_english</th>\n",
       "    </tr>\n",
       "  </thead>\n",
       "  <tbody>\n",
       "    <tr>\n",
       "      <th>0</th>\n",
       "      <td>beleza_saude</td>\n",
       "      <td>health_beauty</td>\n",
       "    </tr>\n",
       "    <tr>\n",
       "      <th>1</th>\n",
       "      <td>informatica_acessorios</td>\n",
       "      <td>computers_accessories</td>\n",
       "    </tr>\n",
       "    <tr>\n",
       "      <th>2</th>\n",
       "      <td>automotivo</td>\n",
       "      <td>auto</td>\n",
       "    </tr>\n",
       "    <tr>\n",
       "      <th>3</th>\n",
       "      <td>cama_mesa_banho</td>\n",
       "      <td>bed_bath_table</td>\n",
       "    </tr>\n",
       "    <tr>\n",
       "      <th>4</th>\n",
       "      <td>moveis_decoracao</td>\n",
       "      <td>furniture_decor</td>\n",
       "    </tr>\n",
       "    <tr>\n",
       "      <th>...</th>\n",
       "      <td>...</td>\n",
       "      <td>...</td>\n",
       "    </tr>\n",
       "    <tr>\n",
       "      <th>66</th>\n",
       "      <td>flores</td>\n",
       "      <td>flowers</td>\n",
       "    </tr>\n",
       "    <tr>\n",
       "      <th>67</th>\n",
       "      <td>artes_e_artesanato</td>\n",
       "      <td>arts_and_craftmanship</td>\n",
       "    </tr>\n",
       "    <tr>\n",
       "      <th>68</th>\n",
       "      <td>fraldas_higiene</td>\n",
       "      <td>diapers_and_hygiene</td>\n",
       "    </tr>\n",
       "    <tr>\n",
       "      <th>69</th>\n",
       "      <td>fashion_roupa_infanto_juvenil</td>\n",
       "      <td>fashion_childrens_clothes</td>\n",
       "    </tr>\n",
       "    <tr>\n",
       "      <th>70</th>\n",
       "      <td>seguros_e_servicos</td>\n",
       "      <td>security_and_services</td>\n",
       "    </tr>\n",
       "  </tbody>\n",
       "</table>\n",
       "<p>71 rows × 2 columns</p>\n",
       "</div>"
      ],
      "text/plain": [
       "            product_category_name product_category_name_english\n",
       "0                    beleza_saude                 health_beauty\n",
       "1          informatica_acessorios         computers_accessories\n",
       "2                      automotivo                          auto\n",
       "3                 cama_mesa_banho                bed_bath_table\n",
       "4                moveis_decoracao               furniture_decor\n",
       "..                            ...                           ...\n",
       "66                         flores                       flowers\n",
       "67             artes_e_artesanato         arts_and_craftmanship\n",
       "68                fraldas_higiene           diapers_and_hygiene\n",
       "69  fashion_roupa_infanto_juvenil     fashion_childrens_clothes\n",
       "70             seguros_e_servicos         security_and_services\n",
       "\n",
       "[71 rows x 2 columns]"
      ]
     },
     "execution_count": 27,
     "metadata": {},
     "output_type": "execute_result"
    }
   ],
   "source": [
    "trans_data"
   ]
  },
  {
   "cell_type": "code",
   "execution_count": 59,
   "id": "73044e52",
   "metadata": {
    "ExecuteTime": {
     "end_time": "2022-08-05T15:28:24.498360Z",
     "start_time": "2022-08-05T15:28:24.341183Z"
    }
   },
   "outputs": [],
   "source": [
    "# translate product names\n",
    "for i in range(len(trans_data)):\n",
    "    prod_name = trans_data['product_category_name'][i] # brazilian name\n",
    "    eng_prod_name = trans_data['product_category_name_english'][i] # english translation\n",
    "    # get indices of product\n",
    "    prod_idx = prod_data[prod_data['product_category_name'] == prod_name].index\n",
    "    # translate product\n",
    "    prod_data.loc[prod_idx, 'product_category_name'] = eng_prod_name"
   ]
  },
  {
   "cell_type": "code",
   "execution_count": 65,
   "id": "41b4a09a",
   "metadata": {
    "ExecuteTime": {
     "end_time": "2022-08-05T15:32:19.474206Z",
     "start_time": "2022-08-05T15:32:19.439159Z"
    }
   },
   "outputs": [
    {
     "data": {
      "text/plain": [
       "0"
      ]
     },
     "execution_count": 65,
     "metadata": {},
     "output_type": "execute_result"
    }
   ],
   "source": [
    "# check for duplicates\n",
    "prod_data.duplicated().sum()"
   ]
  },
  {
   "cell_type": "code",
   "execution_count": 24,
   "id": "ca61a7b9",
   "metadata": {
    "ExecuteTime": {
     "end_time": "2022-08-31T21:23:54.718165Z",
     "start_time": "2022-08-31T21:23:54.694584Z"
    }
   },
   "outputs": [
    {
     "data": {
      "text/plain": [
       "0"
      ]
     },
     "execution_count": 24,
     "metadata": {},
     "output_type": "execute_result"
    }
   ],
   "source": [
    "# check primary key for duplicates\n",
    "products_data['product_id'].duplicated().sum()"
   ]
  },
  {
   "cell_type": "code",
   "execution_count": 61,
   "id": "6e3e8902",
   "metadata": {
    "ExecuteTime": {
     "end_time": "2022-08-05T15:31:14.603677Z",
     "start_time": "2022-08-05T15:31:14.404079Z"
    }
   },
   "outputs": [],
   "source": [
    "# save data\n",
    "prod_data.to_csv('olist_products_dataset.csv/olist_products_clean.csv', index=False, encoding='utf-8')"
   ]
  },
  {
   "cell_type": "markdown",
   "id": "c655922f",
   "metadata": {},
   "source": [
    "# clean customers data"
   ]
  },
  {
   "cell_type": "markdown",
   "id": "1c70e0e3",
   "metadata": {},
   "source": [
    "Remove zip codes from customers data that are not in geolocation data so that primary and foreign keys align."
   ]
  },
  {
   "cell_type": "code",
   "execution_count": 3,
   "id": "a7b27927",
   "metadata": {
    "ExecuteTime": {
     "end_time": "2022-08-30T20:44:58.192868Z",
     "start_time": "2022-08-30T20:44:57.501769Z"
    }
   },
   "outputs": [],
   "source": [
    "# load data\n",
    "geo_data = pd.read_csv('olist_geolocation_dataset.csv/olist_geolocation_dataset.csv')\n",
    "customer_data = pd.read_csv('olist_customers_dataset.csv/olist_customers_dataset.csv')"
   ]
  },
  {
   "cell_type": "code",
   "execution_count": 18,
   "id": "f7180bc6",
   "metadata": {
    "ExecuteTime": {
     "end_time": "2022-08-30T21:02:30.867506Z",
     "start_time": "2022-08-30T21:01:36.400335Z"
    }
   },
   "outputs": [],
   "source": [
    "## zip codes not in geolocation data\n",
    "non_inc = []\n",
    "for i in range(len(customer_data)):\n",
    "    if customer_data['customer_zip_code_prefix'][i] not in geo_data['geolocation_zip_code_prefix'].values:\n",
    "        non_inc.append(customer_data['customer_zip_code_prefix'][i])"
   ]
  },
  {
   "cell_type": "code",
   "execution_count": 40,
   "id": "5dbb233e",
   "metadata": {
    "ExecuteTime": {
     "end_time": "2022-08-30T21:21:32.663716Z",
     "start_time": "2022-08-30T21:21:32.192327Z"
    }
   },
   "outputs": [],
   "source": [
    "# indices to drop of zip codes not in geolocation data\n",
    "idx_to_drop = []\n",
    "for zip_code in non_inc:\n",
    "    c_idx = list(customer_data.query(f\"customer_zip_code_prefix == {zip_code}\").index)\n",
    "    for idx in c_idx:\n",
    "        if idx in idx_to_drop:\n",
    "            continue\n",
    "        else:\n",
    "            idx_to_drop.append(idx)"
   ]
  },
  {
   "cell_type": "code",
   "execution_count": 43,
   "id": "b856677d",
   "metadata": {
    "ExecuteTime": {
     "end_time": "2022-08-30T21:23:39.413434Z",
     "start_time": "2022-08-30T21:23:39.097249Z"
    }
   },
   "outputs": [],
   "source": [
    "# drop and save\n",
    "customer_data.drop(idx_to_drop, inplace=True)\n",
    "customer_data.to_csv('olist_customers_dataset.csv/olist_customers_dataset_dropped_zips.csv', index=False, encoding='utf-8')"
   ]
  },
  {
   "cell_type": "markdown",
   "id": "3190a84c",
   "metadata": {},
   "source": [
    "# Clean Orders Data"
   ]
  },
  {
   "cell_type": "code",
   "execution_count": 2,
   "id": "24621792",
   "metadata": {
    "ExecuteTime": {
     "end_time": "2022-09-03T14:36:45.942021Z",
     "start_time": "2022-09-03T14:36:45.550829Z"
    }
   },
   "outputs": [],
   "source": [
    "### check foreign key for customers_id on orders data\n",
    "orders_data = pd.read_csv('olist_orders_dataset.csv\\olist_orders_dataset.csv')\n",
    "customers_data = pd.read_csv('olist_customers_dataset.csv\\olist_customers_dataset_dropped_zips.csv')"
   ]
  },
  {
   "cell_type": "code",
   "execution_count": 16,
   "id": "be943e71",
   "metadata": {
    "ExecuteTime": {
     "end_time": "2022-08-31T21:10:17.940434Z",
     "start_time": "2022-08-31T21:10:17.907264Z"
    }
   },
   "outputs": [
    {
     "data": {
      "text/plain": [
       "0"
      ]
     },
     "execution_count": 16,
     "metadata": {},
     "output_type": "execute_result"
    }
   ],
   "source": [
    "# check primary key for duplicates\n",
    "orders_data['order_id'].duplicated().sum()"
   ]
  },
  {
   "cell_type": "markdown",
   "id": "92b9a185",
   "metadata": {},
   "source": [
    "Remove order data customer id's that are not in customer data customer id's so that primary and foreign keys align."
   ]
  },
  {
   "cell_type": "code",
   "execution_count": 3,
   "id": "ad24b792",
   "metadata": {
    "ExecuteTime": {
     "end_time": "2022-09-03T14:41:09.569968Z",
     "start_time": "2022-09-03T14:38:07.822913Z"
    }
   },
   "outputs": [],
   "source": [
    "# get customer id's in orders data that are not in customers data\n",
    "no_id = [x for x in orders_data['customer_id'].values if x not in customers_data['customer_id'].values]"
   ]
  },
  {
   "cell_type": "code",
   "execution_count": 6,
   "id": "8b846945",
   "metadata": {
    "ExecuteTime": {
     "end_time": "2022-09-03T14:48:53.892835Z",
     "start_time": "2022-09-03T14:48:52.896403Z"
    }
   },
   "outputs": [],
   "source": [
    "# remove order data customer id's that are not in customer data customer id's\n",
    "idx_to_drop = []\n",
    "for c_id in no_id:\n",
    "    cid_idx = list(orders_data.query(f\"customer_id == '{c_id}'\").index)\n",
    "    for idx in cid_idx:\n",
    "        if idx in idx_to_drop:\n",
    "            continue\n",
    "        else:\n",
    "            idx_to_drop.append(idx)"
   ]
  },
  {
   "cell_type": "code",
   "execution_count": 9,
   "id": "9b96f4fd",
   "metadata": {
    "ExecuteTime": {
     "end_time": "2022-09-03T14:50:48.567844Z",
     "start_time": "2022-09-03T14:50:48.033634Z"
    }
   },
   "outputs": [],
   "source": [
    "# drop id's and save data\n",
    "orders_data.drop(idx_to_drop, inplace=True)\n",
    "orders_data.to_csv('olist_orders_dataset.csv/olist_orders_dataset_dropped_ids.csv', index=False, encoding='utf-8')"
   ]
  },
  {
   "cell_type": "markdown",
   "id": "3a9b30f4",
   "metadata": {},
   "source": [
    "Clean nan values."
   ]
  },
  {
   "cell_type": "code",
   "execution_count": 2,
   "id": "2cea9e88",
   "metadata": {
    "ExecuteTime": {
     "end_time": "2022-09-03T22:04:09.339656Z",
     "start_time": "2022-09-03T22:04:09.001741Z"
    }
   },
   "outputs": [],
   "source": [
    "### clean nan values in datetime columns!!!!\n",
    "orders_data = pd.read_csv('olist_orders_dataset.csv/olist_orders_dataset_dropped_ids.csv')"
   ]
  },
  {
   "cell_type": "code",
   "execution_count": 11,
   "id": "35fe1571",
   "metadata": {
    "ExecuteTime": {
     "end_time": "2022-09-03T22:11:27.601835Z",
     "start_time": "2022-09-03T22:11:27.505462Z"
    }
   },
   "outputs": [
    {
     "data": {
      "text/plain": [
       "order_id                            0\n",
       "customer_id                         0\n",
       "order_status                        0\n",
       "order_purchase_timestamp            0\n",
       "order_approved_at                 159\n",
       "order_delivered_carrier_date     1776\n",
       "order_delivered_customer_date    2951\n",
       "order_estimated_delivery_date       0\n",
       "dtype: int64"
      ]
     },
     "execution_count": 11,
     "metadata": {},
     "output_type": "execute_result"
    }
   ],
   "source": [
    "# check for nan values\n",
    "orders_data.isnull().sum()"
   ]
  },
  {
   "cell_type": "code",
   "execution_count": 32,
   "id": "47b38227",
   "metadata": {
    "ExecuteTime": {
     "end_time": "2022-09-03T22:33:04.552789Z",
     "start_time": "2022-09-03T22:33:04.450673Z"
    }
   },
   "outputs": [],
   "source": [
    "# fill nan values with 01-01-9999 00:00:00 just to signify no value\n",
    "orders_data.fillna(value='9999-01-01 00:00:00', inplace=True)"
   ]
  },
  {
   "cell_type": "code",
   "execution_count": 35,
   "id": "fe629daf",
   "metadata": {
    "ExecuteTime": {
     "end_time": "2022-09-03T22:35:23.167827Z",
     "start_time": "2022-09-03T22:35:22.622827Z"
    }
   },
   "outputs": [],
   "source": [
    "# save data\n",
    "orders_data.to_csv('olist_orders_dataset.csv\\olist_orders_clean_dataset.csv', index=False, encoding='utf-8')"
   ]
  },
  {
   "cell_type": "markdown",
   "id": "b5d8de73",
   "metadata": {},
   "source": [
    "# Clean Order Payments Data"
   ]
  },
  {
   "cell_type": "code",
   "execution_count": 28,
   "id": "f6ca6e24",
   "metadata": {
    "ExecuteTime": {
     "end_time": "2022-09-05T21:21:03.311836Z",
     "start_time": "2022-09-05T21:21:03.215729Z"
    }
   },
   "outputs": [],
   "source": [
    "# load data\n",
    "order_pay_data = pd.read_csv('olist_order_payments_dataset.csv\\olist_order_payments_dataset.csv')"
   ]
  },
  {
   "cell_type": "code",
   "execution_count": 31,
   "id": "37318b76",
   "metadata": {
    "ExecuteTime": {
     "end_time": "2022-09-05T21:22:16.132337Z",
     "start_time": "2022-09-05T21:22:16.119337Z"
    }
   },
   "outputs": [
    {
     "data": {
      "text/plain": [
       "(103886, 5)"
      ]
     },
     "execution_count": 31,
     "metadata": {},
     "output_type": "execute_result"
    }
   ],
   "source": [
    "# check shape\n",
    "order_pay_data.shape"
   ]
  },
  {
   "cell_type": "code",
   "execution_count": 30,
   "id": "98da14ed",
   "metadata": {
    "ExecuteTime": {
     "end_time": "2022-09-05T21:22:01.263070Z",
     "start_time": "2022-09-05T21:22:01.241069Z"
    }
   },
   "outputs": [
    {
     "data": {
      "text/plain": [
       "4446"
      ]
     },
     "execution_count": 30,
     "metadata": {},
     "output_type": "execute_result"
    }
   ],
   "source": [
    "# check primary key for duplicates\n",
    "order_pay_data['order_id'].duplicated().sum()"
   ]
  },
  {
   "cell_type": "code",
   "execution_count": 35,
   "id": "26aed4dd",
   "metadata": {
    "ExecuteTime": {
     "end_time": "2022-09-05T21:24:43.547248Z",
     "start_time": "2022-09-05T21:24:43.221198Z"
    }
   },
   "outputs": [],
   "source": [
    "# remove duplicated order ids\n",
    "pay_dup_idx = order_pay_data[order_pay_data['order_id'].duplicated()].index\n",
    "order_pay_data.drop(pay_dup_idx, inplace=True)\n",
    "order_pay_data.to_csv('olist_order_payments_dataset.csv\\olist_order_payments_dataset_dropped_dups.csv')"
   ]
  },
  {
   "cell_type": "code",
   "execution_count": 37,
   "id": "b4314574",
   "metadata": {
    "ExecuteTime": {
     "end_time": "2022-09-05T21:30:48.369970Z",
     "start_time": "2022-09-05T21:27:50.980941Z"
    }
   },
   "outputs": [
    {
     "data": {
      "text/plain": [
       "278"
      ]
     },
     "execution_count": 37,
     "metadata": {},
     "output_type": "execute_result"
    }
   ],
   "source": [
    "# check foreign key alignment, order id in order payments must match order id in orders\n",
    "# load orders data\n",
    "orders_data = pd.read_csv('olist_orders_dataset.csv\\olist_orders_clean_dataset.csv')\n",
    "# check for mismatch order ids\n",
    "non_inc_ids = [x for x in order_pay_data['order_id'].values if x not in orders_data['order_id'].values]\n",
    "# no. of mismatch order ids\n",
    "len(non_inc_ids)"
   ]
  },
  {
   "cell_type": "code",
   "execution_count": 38,
   "id": "d0412bf8",
   "metadata": {
    "ExecuteTime": {
     "end_time": "2022-09-05T21:32:17.303883Z",
     "start_time": "2022-09-05T21:32:16.275214Z"
    }
   },
   "outputs": [],
   "source": [
    "# remove order payments data order id's that are not in order data order id's\n",
    "idx_to_drop = []\n",
    "for op_id in non_inc_ids:\n",
    "    opid_idx = list(order_pay_data.query(f\"order_id == '{op_id}'\").index)\n",
    "    for idx in opid_idx:\n",
    "        if idx in idx_to_drop:\n",
    "            continue\n",
    "        else:\n",
    "            idx_to_drop.append(idx)"
   ]
  },
  {
   "cell_type": "code",
   "execution_count": 40,
   "id": "acd05184",
   "metadata": {
    "ExecuteTime": {
     "end_time": "2022-09-05T21:33:22.151425Z",
     "start_time": "2022-09-05T21:33:21.814353Z"
    }
   },
   "outputs": [],
   "source": [
    "# drop id's and save\n",
    "order_pay_data.drop(idx_to_drop, inplace=True)\n",
    "order_pay_data.to_csv('olist_order_payments_dataset.csv\\olist_order_payments_dataset_dropped_dups_ids.csv', index=False, encoding='utf-8')"
   ]
  },
  {
   "cell_type": "markdown",
   "id": "76a24f00",
   "metadata": {},
   "source": [
    "# Clean Order Items Data"
   ]
  },
  {
   "cell_type": "code",
   "execution_count": 13,
   "id": "fcc7e37b",
   "metadata": {
    "ExecuteTime": {
     "end_time": "2022-09-06T21:11:19.715159Z",
     "start_time": "2022-09-06T21:11:19.230947Z"
    }
   },
   "outputs": [],
   "source": [
    "# load data\n",
    "order_items_data = pd.read_csv('olist_order_items_dataset.csv\\olist_order_items_dataset.csv')\n",
    "orders_data = pd.read_csv('olist_orders_dataset.csv\\olist_orders_clean_dataset.csv')\n",
    "products_data = pd.read_csv('olist_products_dataset.csv\\olist_products_clean.csv')"
   ]
  },
  {
   "cell_type": "code",
   "execution_count": 12,
   "id": "0c9df97b",
   "metadata": {
    "ExecuteTime": {
     "end_time": "2022-09-06T21:08:21.735016Z",
     "start_time": "2022-09-06T21:08:21.716015Z"
    }
   },
   "outputs": [
    {
     "data": {
      "text/html": [
       "<div><div id=e62eeac1-319b-4106-a61e-2adae1ec0041 style=\"display:none; background-color:#9D6CFF; color:white; width:200px; height:30px; padding-left:5px; border-radius:4px; flex-direction:row; justify-content:space-around; align-items:center;\" onmouseover=\"this.style.backgroundColor='#BA9BF8'\" onmouseout=\"this.style.backgroundColor='#9D6CFF'\" onclick=\"window.commands?.execute('create-mitosheet-from-dataframe-output');\">See Full Dataframe in Mito</div> <script> if (window.commands?.hasCommand('create-mitosheet-from-dataframe-output')) document.getElementById('e62eeac1-319b-4106-a61e-2adae1ec0041').style.display = 'flex' </script> <table border=\"1\" class=\"dataframe\">\n",
       "  <thead>\n",
       "    <tr style=\"text-align: right;\">\n",
       "      <th></th>\n",
       "      <th>order_id</th>\n",
       "      <th>order_item_id</th>\n",
       "      <th>product_id</th>\n",
       "      <th>seller_id</th>\n",
       "      <th>shipping_limit_date</th>\n",
       "      <th>price</th>\n",
       "      <th>freight_value</th>\n",
       "    </tr>\n",
       "  </thead>\n",
       "  <tbody>\n",
       "    <tr>\n",
       "      <th>0</th>\n",
       "      <td>00010242fe8c5a6d1ba2dd792cb16214</td>\n",
       "      <td>1</td>\n",
       "      <td>4244733e06e7ecb4970a6e2683c13e61</td>\n",
       "      <td>48436dade18ac8b2bce089ec2a041202</td>\n",
       "      <td>2017-09-19 09:45:35</td>\n",
       "      <td>58.90</td>\n",
       "      <td>13.29</td>\n",
       "    </tr>\n",
       "    <tr>\n",
       "      <th>1</th>\n",
       "      <td>00018f77f2f0320c557190d7a144bdd3</td>\n",
       "      <td>1</td>\n",
       "      <td>e5f2d52b802189ee658865ca93d83a8f</td>\n",
       "      <td>dd7ddc04e1b6c2c614352b383efe2d36</td>\n",
       "      <td>2017-05-03 11:05:13</td>\n",
       "      <td>239.90</td>\n",
       "      <td>19.93</td>\n",
       "    </tr>\n",
       "    <tr>\n",
       "      <th>2</th>\n",
       "      <td>000229ec398224ef6ca0657da4fc703e</td>\n",
       "      <td>1</td>\n",
       "      <td>c777355d18b72b67abbeef9df44fd0fd</td>\n",
       "      <td>5b51032eddd242adc84c38acab88f23d</td>\n",
       "      <td>2018-01-18 14:48:30</td>\n",
       "      <td>199.00</td>\n",
       "      <td>17.87</td>\n",
       "    </tr>\n",
       "    <tr>\n",
       "      <th>3</th>\n",
       "      <td>00024acbcdf0a6daa1e931b038114c75</td>\n",
       "      <td>1</td>\n",
       "      <td>7634da152a4610f1595efa32f14722fc</td>\n",
       "      <td>9d7a1d34a5052409006425275ba1c2b4</td>\n",
       "      <td>2018-08-15 10:10:18</td>\n",
       "      <td>12.99</td>\n",
       "      <td>12.79</td>\n",
       "    </tr>\n",
       "    <tr>\n",
       "      <th>4</th>\n",
       "      <td>00042b26cf59d7ce69dfabb4e55b4fd9</td>\n",
       "      <td>1</td>\n",
       "      <td>ac6c3623068f30de03045865e4e10089</td>\n",
       "      <td>df560393f3a51e74553ab94004ba5c87</td>\n",
       "      <td>2017-02-13 13:57:51</td>\n",
       "      <td>199.90</td>\n",
       "      <td>18.14</td>\n",
       "    </tr>\n",
       "    <tr>\n",
       "      <th>...</th>\n",
       "      <td>...</td>\n",
       "      <td>...</td>\n",
       "      <td>...</td>\n",
       "      <td>...</td>\n",
       "      <td>...</td>\n",
       "      <td>...</td>\n",
       "      <td>...</td>\n",
       "    </tr>\n",
       "    <tr>\n",
       "      <th>112645</th>\n",
       "      <td>fffc94f6ce00a00581880bf54a75a037</td>\n",
       "      <td>1</td>\n",
       "      <td>4aa6014eceb682077f9dc4bffebc05b0</td>\n",
       "      <td>b8bc237ba3788b23da09c0f1f3a3288c</td>\n",
       "      <td>2018-05-02 04:11:01</td>\n",
       "      <td>299.99</td>\n",
       "      <td>43.41</td>\n",
       "    </tr>\n",
       "    <tr>\n",
       "      <th>112646</th>\n",
       "      <td>fffcd46ef2263f404302a634eb57f7eb</td>\n",
       "      <td>1</td>\n",
       "      <td>32e07fd915822b0765e448c4dd74c828</td>\n",
       "      <td>f3c38ab652836d21de61fb8314b69182</td>\n",
       "      <td>2018-07-20 04:31:48</td>\n",
       "      <td>350.00</td>\n",
       "      <td>36.53</td>\n",
       "    </tr>\n",
       "    <tr>\n",
       "      <th>112647</th>\n",
       "      <td>fffce4705a9662cd70adb13d4a31832d</td>\n",
       "      <td>1</td>\n",
       "      <td>72a30483855e2eafc67aee5dc2560482</td>\n",
       "      <td>c3cfdc648177fdbbbb35635a37472c53</td>\n",
       "      <td>2017-10-30 17:14:25</td>\n",
       "      <td>99.90</td>\n",
       "      <td>16.95</td>\n",
       "    </tr>\n",
       "    <tr>\n",
       "      <th>112648</th>\n",
       "      <td>fffe18544ffabc95dfada21779c9644f</td>\n",
       "      <td>1</td>\n",
       "      <td>9c422a519119dcad7575db5af1ba540e</td>\n",
       "      <td>2b3e4a2a3ea8e01938cabda2a3e5cc79</td>\n",
       "      <td>2017-08-21 00:04:32</td>\n",
       "      <td>55.99</td>\n",
       "      <td>8.72</td>\n",
       "    </tr>\n",
       "    <tr>\n",
       "      <th>112649</th>\n",
       "      <td>fffe41c64501cc87c801fd61db3f6244</td>\n",
       "      <td>1</td>\n",
       "      <td>350688d9dc1e75ff97be326363655e01</td>\n",
       "      <td>f7ccf836d21b2fb1de37564105216cc1</td>\n",
       "      <td>2018-06-12 17:10:13</td>\n",
       "      <td>43.00</td>\n",
       "      <td>12.79</td>\n",
       "    </tr>\n",
       "  </tbody>\n",
       "</table></div>"
      ],
      "text/plain": [
       "                                order_id  order_item_id  \\\n",
       "0       00010242fe8c5a6d1ba2dd792cb16214              1   \n",
       "1       00018f77f2f0320c557190d7a144bdd3              1   \n",
       "2       000229ec398224ef6ca0657da4fc703e              1   \n",
       "3       00024acbcdf0a6daa1e931b038114c75              1   \n",
       "4       00042b26cf59d7ce69dfabb4e55b4fd9              1   \n",
       "...                                  ...            ...   \n",
       "112645  fffc94f6ce00a00581880bf54a75a037              1   \n",
       "112646  fffcd46ef2263f404302a634eb57f7eb              1   \n",
       "112647  fffce4705a9662cd70adb13d4a31832d              1   \n",
       "112648  fffe18544ffabc95dfada21779c9644f              1   \n",
       "112649  fffe41c64501cc87c801fd61db3f6244              1   \n",
       "\n",
       "                              product_id                         seller_id  \\\n",
       "0       4244733e06e7ecb4970a6e2683c13e61  48436dade18ac8b2bce089ec2a041202   \n",
       "1       e5f2d52b802189ee658865ca93d83a8f  dd7ddc04e1b6c2c614352b383efe2d36   \n",
       "2       c777355d18b72b67abbeef9df44fd0fd  5b51032eddd242adc84c38acab88f23d   \n",
       "3       7634da152a4610f1595efa32f14722fc  9d7a1d34a5052409006425275ba1c2b4   \n",
       "4       ac6c3623068f30de03045865e4e10089  df560393f3a51e74553ab94004ba5c87   \n",
       "...                                  ...                               ...   \n",
       "112645  4aa6014eceb682077f9dc4bffebc05b0  b8bc237ba3788b23da09c0f1f3a3288c   \n",
       "112646  32e07fd915822b0765e448c4dd74c828  f3c38ab652836d21de61fb8314b69182   \n",
       "112647  72a30483855e2eafc67aee5dc2560482  c3cfdc648177fdbbbb35635a37472c53   \n",
       "112648  9c422a519119dcad7575db5af1ba540e  2b3e4a2a3ea8e01938cabda2a3e5cc79   \n",
       "112649  350688d9dc1e75ff97be326363655e01  f7ccf836d21b2fb1de37564105216cc1   \n",
       "\n",
       "        shipping_limit_date   price  freight_value  \n",
       "0       2017-09-19 09:45:35   58.90          13.29  \n",
       "1       2017-05-03 11:05:13  239.90          19.93  \n",
       "2       2018-01-18 14:48:30  199.00          17.87  \n",
       "3       2018-08-15 10:10:18   12.99          12.79  \n",
       "4       2017-02-13 13:57:51  199.90          18.14  \n",
       "...                     ...     ...            ...  \n",
       "112645  2018-05-02 04:11:01  299.99          43.41  \n",
       "112646  2018-07-20 04:31:48  350.00          36.53  \n",
       "112647  2017-10-30 17:14:25   99.90          16.95  \n",
       "112648  2017-08-21 00:04:32   55.99           8.72  \n",
       "112649  2018-06-12 17:10:13   43.00          12.79  \n",
       "\n",
       "[112650 rows x 7 columns]"
      ]
     },
     "execution_count": 12,
     "metadata": {},
     "output_type": "execute_result"
    }
   ],
   "source": [
    "order_items_data"
   ]
  },
  {
   "cell_type": "code",
   "execution_count": 14,
   "id": "fe07a45c",
   "metadata": {
    "ExecuteTime": {
     "end_time": "2022-09-06T21:15:06.111586Z",
     "start_time": "2022-09-06T21:11:42.546517Z"
    }
   },
   "outputs": [
    {
     "data": {
      "text/plain": [
       "302"
      ]
     },
     "execution_count": 14,
     "metadata": {},
     "output_type": "execute_result"
    }
   ],
   "source": [
    "# check order ids in order items data that are not in orders data\n",
    "oid_non_inc = [x for x in order_items_data['order_id'].values if x not in orders_data['order_id'].values]\n",
    "len(oid_non_inc)"
   ]
  },
  {
   "cell_type": "code",
   "execution_count": 15,
   "id": "aacbe01d",
   "metadata": {
    "ExecuteTime": {
     "end_time": "2022-09-06T21:16:51.450955Z",
     "start_time": "2022-09-06T21:16:50.345003Z"
    }
   },
   "outputs": [],
   "source": [
    "# remove order items data order id's that are not in order data order id's\n",
    "idx_to_drop = []\n",
    "for oi_id in oid_non_inc:\n",
    "    oid_idx = list(order_items_data.query(f\"order_id == '{oi_id}'\").index)\n",
    "    for idx in oid_idx:\n",
    "        if idx in idx_to_drop:\n",
    "            continue\n",
    "        else:\n",
    "            idx_to_drop.append(idx)"
   ]
  },
  {
   "cell_type": "code",
   "execution_count": 17,
   "id": "bbd990b5",
   "metadata": {
    "ExecuteTime": {
     "end_time": "2022-09-06T21:18:09.404810Z",
     "start_time": "2022-09-06T21:18:08.830652Z"
    }
   },
   "outputs": [],
   "source": [
    "# drop id's and save\n",
    "order_items_data.drop(idx_to_drop, inplace=True)\n",
    "order_items_data.to_csv('olist_order_items_dataset.csv\\olist_order_items_dataset_clean.csv', index=False, encoding='utf-8')"
   ]
  },
  {
   "cell_type": "code",
   "execution_count": 18,
   "id": "7d16aace",
   "metadata": {
    "ExecuteTime": {
     "end_time": "2022-09-06T21:20:23.498135Z",
     "start_time": "2022-09-06T21:19:16.799105Z"
    }
   },
   "outputs": [
    {
     "data": {
      "text/plain": [
       "0"
      ]
     },
     "execution_count": 18,
     "metadata": {},
     "output_type": "execute_result"
    }
   ],
   "source": [
    "# check order items data product id's that are not in products data\n",
    "oipd_non_inc = [x for x in order_items_data['product_id'].values if x not in products_data['product_id'].values]\n",
    "len(oipd_non_inc)"
   ]
  },
  {
   "cell_type": "code",
   "execution_count": 8,
   "id": "aa91c0b4",
   "metadata": {
    "ExecuteTime": {
     "end_time": "2022-09-09T21:37:20.302666Z",
     "start_time": "2022-09-09T21:37:20.055483Z"
    }
   },
   "outputs": [
    {
     "data": {
      "text/html": [
       "<div><div id=cb4273f0-3539-4826-8c6f-56cfc11403b9 style=\"display:none; background-color:#9D6CFF; color:white; width:200px; height:30px; padding-left:5px; border-radius:4px; flex-direction:row; justify-content:space-around; align-items:center;\" onmouseover=\"this.style.backgroundColor='#BA9BF8'\" onmouseout=\"this.style.backgroundColor='#9D6CFF'\" onclick=\"window.commands?.execute('create-mitosheet-from-dataframe-output');\">See Full Dataframe in Mito</div> <script> if (window.commands?.hasCommand('create-mitosheet-from-dataframe-output')) document.getElementById('cb4273f0-3539-4826-8c6f-56cfc11403b9').style.display = 'flex' </script> <table border=\"1\" class=\"dataframe\">\n",
       "  <thead>\n",
       "    <tr style=\"text-align: right;\">\n",
       "      <th></th>\n",
       "      <th>order_id</th>\n",
       "      <th>order_item_id</th>\n",
       "      <th>product_id</th>\n",
       "      <th>seller_id</th>\n",
       "      <th>shipping_limit_date</th>\n",
       "      <th>price</th>\n",
       "      <th>freight_value</th>\n",
       "    </tr>\n",
       "  </thead>\n",
       "  <tbody>\n",
       "    <tr>\n",
       "      <th>14</th>\n",
       "      <td>0008288aa423d2a3f00fcb17cd7d8719</td>\n",
       "      <td>2</td>\n",
       "      <td>368c6c730842d78016ad823897a372db</td>\n",
       "      <td>1f50f920176fa81dab994f9023523100</td>\n",
       "      <td>2018-02-21 02:55:52</td>\n",
       "      <td>49.90</td>\n",
       "      <td>13.37</td>\n",
       "    </tr>\n",
       "    <tr>\n",
       "      <th>33</th>\n",
       "      <td>00143d0f86d6fbd9f9b38ab440ac16f5</td>\n",
       "      <td>2</td>\n",
       "      <td>e95ee6822b66ac6058e2e4aff656071a</td>\n",
       "      <td>a17f621c590ea0fab3d5d883e1630ec6</td>\n",
       "      <td>2017-10-20 16:07:52</td>\n",
       "      <td>21.33</td>\n",
       "      <td>15.10</td>\n",
       "    </tr>\n",
       "    <tr>\n",
       "      <th>34</th>\n",
       "      <td>00143d0f86d6fbd9f9b38ab440ac16f5</td>\n",
       "      <td>3</td>\n",
       "      <td>e95ee6822b66ac6058e2e4aff656071a</td>\n",
       "      <td>a17f621c590ea0fab3d5d883e1630ec6</td>\n",
       "      <td>2017-10-20 16:07:52</td>\n",
       "      <td>21.33</td>\n",
       "      <td>15.10</td>\n",
       "    </tr>\n",
       "    <tr>\n",
       "      <th>43</th>\n",
       "      <td>001ab0a7578dd66cd4b0a71f5b6e1e41</td>\n",
       "      <td>2</td>\n",
       "      <td>0b0172eb0fd18479d29c3bc122c058c2</td>\n",
       "      <td>5656537e588803a555b8eb41f07a944b</td>\n",
       "      <td>2018-01-04 02:33:42</td>\n",
       "      <td>24.89</td>\n",
       "      <td>17.63</td>\n",
       "    </tr>\n",
       "    <tr>\n",
       "      <th>44</th>\n",
       "      <td>001ab0a7578dd66cd4b0a71f5b6e1e41</td>\n",
       "      <td>3</td>\n",
       "      <td>0b0172eb0fd18479d29c3bc122c058c2</td>\n",
       "      <td>5656537e588803a555b8eb41f07a944b</td>\n",
       "      <td>2018-01-04 02:33:42</td>\n",
       "      <td>24.89</td>\n",
       "      <td>17.63</td>\n",
       "    </tr>\n",
       "    <tr>\n",
       "      <th>...</th>\n",
       "      <td>...</td>\n",
       "      <td>...</td>\n",
       "      <td>...</td>\n",
       "      <td>...</td>\n",
       "      <td>...</td>\n",
       "      <td>...</td>\n",
       "      <td>...</td>\n",
       "    </tr>\n",
       "    <tr>\n",
       "      <th>405</th>\n",
       "      <td>00f86b368251d739f1896d41469b2b7a</td>\n",
       "      <td>3</td>\n",
       "      <td>9b08a09bf2fd9731cfca8cb3db24457c</td>\n",
       "      <td>392353362d22cc2c236e1ee81ff19890</td>\n",
       "      <td>2018-08-20 23:30:08</td>\n",
       "      <td>39.97</td>\n",
       "      <td>18.38</td>\n",
       "    </tr>\n",
       "    <tr>\n",
       "      <th>412</th>\n",
       "      <td>00fb055886536063afa0dbee07a0944f</td>\n",
       "      <td>2</td>\n",
       "      <td>5d422bd54b54307ff7a5e770f40946e4</td>\n",
       "      <td>e88c9b79e592e370d6bd852eeefbf057</td>\n",
       "      <td>2017-06-02 02:25:13</td>\n",
       "      <td>11.90</td>\n",
       "      <td>16.79</td>\n",
       "    </tr>\n",
       "    <tr>\n",
       "      <th>420</th>\n",
       "      <td>00fed9e582d5a3e38566872eec164ac6</td>\n",
       "      <td>2</td>\n",
       "      <td>1491a8ff192d4b5c369b0eaa2fe33ee5</td>\n",
       "      <td>37be5a7c751166fbc5f8ccba4119e043</td>\n",
       "      <td>2017-10-03 17:07:16</td>\n",
       "      <td>179.99</td>\n",
       "      <td>26.10</td>\n",
       "    </tr>\n",
       "    <tr>\n",
       "      <th>437</th>\n",
       "      <td>010b143d83a59b355cd5a75c0f0fd785</td>\n",
       "      <td>2</td>\n",
       "      <td>6ff1fc9209c7854704a4f75c9fac41b4</td>\n",
       "      <td>4e922959ae960d389249c378d1c939f5</td>\n",
       "      <td>2017-09-05 23:44:47</td>\n",
       "      <td>22.00</td>\n",
       "      <td>34.15</td>\n",
       "    </tr>\n",
       "    <tr>\n",
       "      <th>438</th>\n",
       "      <td>010b143d83a59b355cd5a75c0f0fd785</td>\n",
       "      <td>3</td>\n",
       "      <td>6ff1fc9209c7854704a4f75c9fac41b4</td>\n",
       "      <td>4e922959ae960d389249c378d1c939f5</td>\n",
       "      <td>2017-09-05 23:44:47</td>\n",
       "      <td>22.00</td>\n",
       "      <td>34.15</td>\n",
       "    </tr>\n",
       "  </tbody>\n",
       "</table></div>"
      ],
      "text/plain": [
       "                             order_id  order_item_id  \\\n",
       "14   0008288aa423d2a3f00fcb17cd7d8719              2   \n",
       "33   00143d0f86d6fbd9f9b38ab440ac16f5              2   \n",
       "34   00143d0f86d6fbd9f9b38ab440ac16f5              3   \n",
       "43   001ab0a7578dd66cd4b0a71f5b6e1e41              2   \n",
       "44   001ab0a7578dd66cd4b0a71f5b6e1e41              3   \n",
       "49   001d8f0e34a38c37f7dba2a37d4eba8b              2   \n",
       "76   002c9def9c9b951b1bec6d50753c9891              2   \n",
       "81   002f98c0f7efd42638ed6100ca699b42              2   \n",
       "88   003324c70b19a16798817b2b3640e721              2   \n",
       "92   00337fe25a3780b3424d9ad7c5a4b35e              2   \n",
       "102  003822434f91204da0a51fe4cf2aba18              2   \n",
       "112  003f201cdd39cdd59b6447cff2195456              2   \n",
       "136  005059edee63c8c708ba61910793b31b              2   \n",
       "138  00526a9d4ebde463baee25f386963ddc              2   \n",
       "139  00526a9d4ebde463baee25f386963ddc              3   \n",
       "140  00526a9d4ebde463baee25f386963ddc              4   \n",
       "144  00571ded73b3c061925584feab0db425              2   \n",
       "152  005d9a5423d47281ac463a968b3936fb              2   \n",
       "153  005d9a5423d47281ac463a968b3936fb              3   \n",
       "167  0068c109948b9a1dfb8530d1978acef3              2   \n",
       "210  008d9bf350ff02ed444b3452cf3f57e0              2   \n",
       "220  00946f674d880be1f188abc10ad7cf46              2   \n",
       "231  0097f0545a302aafa32782f1734ff71c              2   \n",
       "235  009905140e9f8cc35d5be897937381db              2   \n",
       "252  00a57dfbb049fbaae10763e2cf15f797              2   \n",
       "253  00a57dfbb049fbaae10763e2cf15f797              3   \n",
       "274  00b1861aeb89afa498404c684148a619              2   \n",
       "287  00b6e66f005a657a6b13eedcacdf9342              2   \n",
       "296  00bcee890eba57a9767c7b5ca12d3a1b              2   \n",
       "297  00bcee890eba57a9767c7b5ca12d3a1b              3   \n",
       "298  00bcee890eba57a9767c7b5ca12d3a1b              4   \n",
       "307  00c00d5b36157595e21108ba1da2828f              2   \n",
       "326  00c9f7d4b0e87781465e562dc109f6aa              2   \n",
       "327  00c9f7d4b0e87781465e562dc109f6aa              3   \n",
       "328  00c9f7d4b0e87781465e562dc109f6aa              4   \n",
       "342  00d1e381c0995f0bdb95909fe7434d0b              2   \n",
       "347  00d50baf1bc56a3c59de1810a6b84b0d              2   \n",
       "354  00d94e8901b75ee0d6ef1f87f947b666              2   \n",
       "367  00e5b655df1cc911466758210325c67c              2   \n",
       "386  00f1cc7439ccb8671133776d1829faf5              2   \n",
       "387  00f1cc7439ccb8671133776d1829faf5              3   \n",
       "388  00f1cc7439ccb8671133776d1829faf5              4   \n",
       "399  00f6ac4816d12f49026b09f2aa77d15f              2   \n",
       "400  00f6ac4816d12f49026b09f2aa77d15f              3   \n",
       "404  00f86b368251d739f1896d41469b2b7a              2   \n",
       "405  00f86b368251d739f1896d41469b2b7a              3   \n",
       "412  00fb055886536063afa0dbee07a0944f              2   \n",
       "420  00fed9e582d5a3e38566872eec164ac6              2   \n",
       "437  010b143d83a59b355cd5a75c0f0fd785              2   \n",
       "438  010b143d83a59b355cd5a75c0f0fd785              3   \n",
       "\n",
       "                           product_id                         seller_id  \\\n",
       "14   368c6c730842d78016ad823897a372db  1f50f920176fa81dab994f9023523100   \n",
       "33   e95ee6822b66ac6058e2e4aff656071a  a17f621c590ea0fab3d5d883e1630ec6   \n",
       "34   e95ee6822b66ac6058e2e4aff656071a  a17f621c590ea0fab3d5d883e1630ec6   \n",
       "43   0b0172eb0fd18479d29c3bc122c058c2  5656537e588803a555b8eb41f07a944b   \n",
       "44   0b0172eb0fd18479d29c3bc122c058c2  5656537e588803a555b8eb41f07a944b   \n",
       "49   e67307ff0f15ade43fcb6e670be7a74c  f4aba7c0bca51484c30ab7bdc34bcdd1   \n",
       "76   2d9ff06c8870a518f5f6909774e140fb  00720abe85ba0859807595bbf045a33b   \n",
       "81   880be32f4db1d9f6e2bec38fb6ac23ab  fa40cc5b934574b62717c68f3d678b6d   \n",
       "88   2b939dc9b176d7fa21594d588815d4a4  dbc22125167c298ef99da25668e1011f   \n",
       "92   13944d17b257432717fd260e69853140  cfb1a033743668a192316f3c6d1d2671   \n",
       "102  99e71b776debf2f01a69dce207e3e4f8  c54679b132454625907c773d273d4126   \n",
       "112  656e0eca68dcecf6a31b8ececfabe3e8  0b90b6df587eb83608a64ea8b390cf07   \n",
       "136  84f456958365164420cfc80fbe4c7fab  4a3ca9315b744ce9f8e9374361493884   \n",
       "138  0c4a0f8ab44f9acd2d04e7024f9ba362  7210cd29727d674c00741e5e387b3ccd   \n",
       "139  0c4a0f8ab44f9acd2d04e7024f9ba362  7210cd29727d674c00741e5e387b3ccd   \n",
       "140  0c4a0f8ab44f9acd2d04e7024f9ba362  7210cd29727d674c00741e5e387b3ccd   \n",
       "144  8695c431b31927efef5343e675f279e7  fe2032dab1a61af8794248c8196565c9   \n",
       "152  4c3ae5db49258df0784827bdacf3b396  d98eec89afa3380e14463da2aabaea72   \n",
       "153  4c3ae5db49258df0784827bdacf3b396  d98eec89afa3380e14463da2aabaea72   \n",
       "167  525f8fbde09c9bf777025c3141fbbc6e  8b321bb669392f5163d04c59e235e066   \n",
       "210  efec0b0b076ce3f164b80145743ebc02  1da3aeb70d7989d1e6d9b0e887f97c23   \n",
       "220  9bb2d066e4b33b624cbdfec7d50b3dcb  5cf13accae3222c70a9cac40818ae839   \n",
       "231  636598095d69a5718e67d2c9a3c7dde6  7901646fdd36a55f564ffaf2dbccaaf7   \n",
       "235  06edb72f1e0c64b14c5b79353f7abea3  391fc6631aebcf3004804e51b40bcf1e   \n",
       "252  56cdfe67fbda57c1dcc752f5f361f981  1c68394e931a64f90ea236c5ea590300   \n",
       "253  56cdfe67fbda57c1dcc752f5f361f981  1c68394e931a64f90ea236c5ea590300   \n",
       "274  7e8067e7e5ce7aec0e2cb7c1a456d112  0691148aee60ca47977c187804f935ae   \n",
       "287  e7cc48a9daff5436f63d3aad9426f28b  53243585a1d6dc2643021fd1853d8905   \n",
       "296  b7d94dc0640c7025dc8e3b46b52d8239  9c0e69c7bf2619675bbadf47b43f655a   \n",
       "297  d143bf43abb18593fa8ed20cc990ae84  3bb548e3cb7f70f28e3f11ee9dce0e59   \n",
       "298  55939df5d8d2b853fbc532bf8a00dc32  3bb548e3cb7f70f28e3f11ee9dce0e59   \n",
       "307  7933eeb8cf79ae899bfac71c0edb076d  391fc6631aebcf3004804e51b40bcf1e   \n",
       "326  1a0d662b65b5ef08796501b064c853af  2e0dba2da448400b1c11d7b4b22f32a4   \n",
       "327  1a0d662b65b5ef08796501b064c853af  2e0dba2da448400b1c11d7b4b22f32a4   \n",
       "328  1a0d662b65b5ef08796501b064c853af  2e0dba2da448400b1c11d7b4b22f32a4   \n",
       "342  23227b07fc69250d2fa4be6602011aea  e38db885400cd35c71dfd162f2c1dbcf   \n",
       "347  71a7800a633691de8ecdd17463335e2e  f80edd2c5aaa505cc4b0a3b219abf4b8   \n",
       "354  a35a9f46dcee0a67c8c7ad8493eb4135  85d9eb9ddc5d00ca9336a2219c97bb13   \n",
       "367  880be32f4db1d9f6e2bec38fb6ac23ab  fa40cc5b934574b62717c68f3d678b6d   \n",
       "386  2fd91ba79b5f4f8342b67bd79cb54b3f  a673821011d0cec28146ea42f5ab767f   \n",
       "387  2fd91ba79b5f4f8342b67bd79cb54b3f  a673821011d0cec28146ea42f5ab767f   \n",
       "388  2fd91ba79b5f4f8342b67bd79cb54b3f  a673821011d0cec28146ea42f5ab767f   \n",
       "399  b532349fe46b38fbc7bb3914c1bdae07  1025f0e2d44d7041d6cf58b6550e0bfa   \n",
       "400  b532349fe46b38fbc7bb3914c1bdae07  1025f0e2d44d7041d6cf58b6550e0bfa   \n",
       "404  9b08a09bf2fd9731cfca8cb3db24457c  392353362d22cc2c236e1ee81ff19890   \n",
       "405  9b08a09bf2fd9731cfca8cb3db24457c  392353362d22cc2c236e1ee81ff19890   \n",
       "412  5d422bd54b54307ff7a5e770f40946e4  e88c9b79e592e370d6bd852eeefbf057   \n",
       "420  1491a8ff192d4b5c369b0eaa2fe33ee5  37be5a7c751166fbc5f8ccba4119e043   \n",
       "437  6ff1fc9209c7854704a4f75c9fac41b4  4e922959ae960d389249c378d1c939f5   \n",
       "438  6ff1fc9209c7854704a4f75c9fac41b4  4e922959ae960d389249c378d1c939f5   \n",
       "\n",
       "     shipping_limit_date   price  freight_value  \n",
       "14   2018-02-21 02:55:52   49.90          13.37  \n",
       "33   2017-10-20 16:07:52   21.33          15.10  \n",
       "34   2017-10-20 16:07:52   21.33          15.10  \n",
       "43   2018-01-04 02:33:42   24.89          17.63  \n",
       "44   2018-01-04 02:33:42   24.89          17.63  \n",
       "49   2017-05-18 17:35:11   18.99           7.78  \n",
       "76   2018-05-21 17:32:03   78.00           8.90  \n",
       "81   2017-08-10 09:30:15   44.90           7.16  \n",
       "88   2017-05-24 19:22:34  102.90          14.45  \n",
       "92   2017-09-29 17:50:16   59.90           9.94  \n",
       "102  2018-06-21 02:30:28   69.00          18.58  \n",
       "112  2018-03-05 17:10:41   85.00          17.03  \n",
       "136  2018-02-12 18:30:33   92.00          17.89  \n",
       "138  2018-08-14 22:15:22   33.89           8.40  \n",
       "139  2018-08-14 22:15:22   33.89           8.40  \n",
       "140  2018-08-14 22:15:22   33.89           8.40  \n",
       "144  2017-05-25 21:10:16  179.90          15.01  \n",
       "152  2017-10-24 12:28:16   24.99          13.58  \n",
       "153  2017-10-24 12:28:16   24.99          13.58  \n",
       "167  2018-01-30 02:53:04   35.90          15.79  \n",
       "210  2018-06-12 09:11:48    9.99          15.23  \n",
       "220  2017-12-14 19:30:37   99.90          14.35  \n",
       "231  2018-03-09 18:30:41  308.00          31.16  \n",
       "235  2018-03-26 12:49:18   39.99          18.23  \n",
       "252  2018-07-26 03:25:11   89.90          22.56  \n",
       "253  2018-07-26 03:25:11   89.90          22.56  \n",
       "274  2018-08-14 08:30:14   25.79          23.33  \n",
       "287  2018-08-16 11:04:38  199.00          39.66  \n",
       "296  2017-07-26 21:05:07  175.91          52.69  \n",
       "297  2017-07-26 21:05:07  165.50          15.80  \n",
       "298  2017-07-26 21:05:07  165.50          15.80  \n",
       "307  2017-09-19 03:25:43  139.85          16.61  \n",
       "326  2017-05-26 19:25:17   14.99          15.10  \n",
       "327  2017-05-26 19:25:17   14.99          15.10  \n",
       "328  2017-05-26 19:25:17   14.99          15.10  \n",
       "342  2018-03-29 16:10:31   64.90          20.18  \n",
       "347  2017-05-29 22:10:12   59.90          34.22  \n",
       "354  2017-05-08 14:25:13   27.90          20.80  \n",
       "367  2017-07-13 14:43:32   44.90          11.85  \n",
       "386  2017-11-30 03:12:39   34.99           9.34  \n",
       "387  2017-11-30 03:12:39   34.99           9.34  \n",
       "388  2017-11-30 03:12:39   34.99           9.34  \n",
       "399  2018-08-10 17:30:14   35.00          19.44  \n",
       "400  2018-08-10 17:30:14   35.00          19.44  \n",
       "404  2018-08-20 23:30:08   39.97          18.38  \n",
       "405  2018-08-20 23:30:08   39.97          18.38  \n",
       "412  2017-06-02 02:25:13   11.90          16.79  \n",
       "420  2017-10-03 17:07:16  179.99          26.10  \n",
       "437  2017-09-05 23:44:47   22.00          34.15  \n",
       "438  2017-09-05 23:44:47   22.00          34.15  "
      ]
     },
     "execution_count": 8,
     "metadata": {},
     "output_type": "execute_result"
    }
   ],
   "source": [
    "# check for duplicated orders\n",
    "order_items_data = pd.read_csv('olist_order_items_dataset.csv\\olist_order_items_dataset_clean.csv')\n",
    "order_items_data[order_items_data['order_id'].duplicated()].head(50)"
   ]
  },
  {
   "cell_type": "code",
   "execution_count": 12,
   "id": "e863a0f2",
   "metadata": {
    "ExecuteTime": {
     "end_time": "2022-09-09T21:51:58.812469Z",
     "start_time": "2022-09-09T21:51:58.759274Z"
    }
   },
   "outputs": [],
   "source": [
    "# drop duplicates except last duplicated entry, orders are recorded sequentially increasing with number of items\n",
    "order_items_data.drop_duplicates(subset='order_id', keep='last', inplace=True, ignore_index=True)"
   ]
  },
  {
   "cell_type": "code",
   "execution_count": 20,
   "id": "46502fa1",
   "metadata": {
    "ExecuteTime": {
     "end_time": "2022-09-09T21:57:11.024633Z",
     "start_time": "2022-09-09T21:57:09.915714Z"
    }
   },
   "outputs": [],
   "source": [
    "# save\n",
    "order_items_data.to_csv('olist_order_items_dataset.csv\\olist_order_items_dataset_clean.csv', index=False, encoding='utf-8')"
   ]
  }
 ],
 "metadata": {
  "kernelspec": {
   "display_name": "Python 3 (ipykernel)",
   "language": "python",
   "name": "python3"
  },
  "language_info": {
   "codemirror_mode": {
    "name": "ipython",
    "version": 3
   },
   "file_extension": ".py",
   "mimetype": "text/x-python",
   "name": "python",
   "nbconvert_exporter": "python",
   "pygments_lexer": "ipython3",
   "version": "3.9.12"
  },
  "toc": {
   "base_numbering": 1,
   "nav_menu": {},
   "number_sections": true,
   "sideBar": true,
   "skip_h1_title": false,
   "title_cell": "Table of Contents",
   "title_sidebar": "Contents",
   "toc_cell": false,
   "toc_position": {
    "height": "calc(100% - 180px)",
    "left": "10px",
    "top": "150px",
    "width": "236.2px"
   },
   "toc_section_display": true,
   "toc_window_display": true
  }
 },
 "nbformat": 4,
 "nbformat_minor": 5
}
